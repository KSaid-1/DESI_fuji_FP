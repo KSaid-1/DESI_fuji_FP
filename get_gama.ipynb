{
 "cells": [
  {
   "cell_type": "code",
   "execution_count": 28,
   "id": "disciplinary-stupid",
   "metadata": {},
   "outputs": [],
   "source": [
    "from astroquery.gama import GAMA\n",
    "import pandas as pd\n",
    "import numpy as np"
   ]
  },
  {
   "cell_type": "code",
   "execution_count": 42,
   "id": "corresponding-ecuador",
   "metadata": {},
   "outputs": [],
   "source": [
    "result = GAMA.query_sql('SELECT CATAID, SPECID, SURVEY, RA, DEC FROM SpecAll')"
   ]
  },
  {
   "cell_type": "code",
   "execution_count": 32,
   "id": "mediterranean-profit",
   "metadata": {},
   "outputs": [
    {
     "name": "stdout",
     "output_type": "stream",
     "text": [
      "<bound method TableColumns.values of <TableColumns names=('SPECID','SURVEY','RA','DEC')>>\n"
     ]
    }
   ],
   "source": [
    "print(result.columns.values)"
   ]
  },
  {
   "cell_type": "code",
   "execution_count": 33,
   "id": "opened-lesson",
   "metadata": {},
   "outputs": [
    {
     "name": "stdout",
     "output_type": "stream",
     "text": [
      "214624\n"
     ]
    }
   ],
   "source": [
    "print (len(result))"
   ]
  },
  {
   "cell_type": "code",
   "execution_count": 45,
   "id": "super-reaction",
   "metadata": {},
   "outputs": [],
   "source": [
    "results_pd = pd.DataFrame(np.column_stack((result[\"CATAID\"], result[\"SPECID\"],result[\"RA\"],result[\"DEC\"],result[\"SURVEY\"])),columns=[\"CATAID\",\"SPECID\",\"RA\",\"DEC\",\"SURVEY\"])"
   ]
  },
  {
   "cell_type": "code",
   "execution_count": 46,
   "id": "collaborative-leisure",
   "metadata": {},
   "outputs": [
    {
     "data": {
      "text/html": [
       "<div>\n",
       "<style scoped>\n",
       "    .dataframe tbody tr th:only-of-type {\n",
       "        vertical-align: middle;\n",
       "    }\n",
       "\n",
       "    .dataframe tbody tr th {\n",
       "        vertical-align: top;\n",
       "    }\n",
       "\n",
       "    .dataframe thead th {\n",
       "        text-align: right;\n",
       "    }\n",
       "</style>\n",
       "<table border=\"1\" class=\"dataframe\">\n",
       "  <thead>\n",
       "    <tr style=\"text-align: right;\">\n",
       "      <th></th>\n",
       "      <th>CATAID</th>\n",
       "      <th>SPECID</th>\n",
       "      <th>RA</th>\n",
       "      <th>DEC</th>\n",
       "      <th>SURVEY</th>\n",
       "    </tr>\n",
       "  </thead>\n",
       "  <tbody>\n",
       "    <tr>\n",
       "      <th>0</th>\n",
       "      <td>491457</td>\n",
       "      <td>1030358159811700736</td>\n",
       "      <td>211.73487</td>\n",
       "      <td>-1.59471</td>\n",
       "      <td>SDSS</td>\n",
       "    </tr>\n",
       "    <tr>\n",
       "      <th>1</th>\n",
       "      <td>460298</td>\n",
       "      <td>1030358434689607680</td>\n",
       "      <td>211.51452</td>\n",
       "      <td>-1.65754</td>\n",
       "      <td>SDSS</td>\n",
       "    </tr>\n",
       "    <tr>\n",
       "      <th>2</th>\n",
       "      <td>460345</td>\n",
       "      <td>1030358984445421568</td>\n",
       "      <td>211.78462</td>\n",
       "      <td>-1.71899</td>\n",
       "      <td>SDSS</td>\n",
       "    </tr>\n",
       "    <tr>\n",
       "      <th>3</th>\n",
       "      <td>484623</td>\n",
       "      <td>1030359809079142400</td>\n",
       "      <td>211.63878</td>\n",
       "      <td>-1.93563</td>\n",
       "      <td>SDSS</td>\n",
       "    </tr>\n",
       "    <tr>\n",
       "      <th>4</th>\n",
       "      <td>484637</td>\n",
       "      <td>1030360358834956288</td>\n",
       "      <td>211.79006</td>\n",
       "      <td>-1.89456</td>\n",
       "      <td>SDSS</td>\n",
       "    </tr>\n",
       "    <tr>\n",
       "      <th>...</th>\n",
       "      <td>...</td>\n",
       "      <td>...</td>\n",
       "      <td>...</td>\n",
       "      <td>...</td>\n",
       "      <td>...</td>\n",
       "    </tr>\n",
       "    <tr>\n",
       "      <th>214619</th>\n",
       "      <td>620092</td>\n",
       "      <td>W150697</td>\n",
       "      <td>223.22713</td>\n",
       "      <td>0.29123</td>\n",
       "      <td>WiggleZ</td>\n",
       "    </tr>\n",
       "    <tr>\n",
       "      <th>214620</th>\n",
       "      <td>364141</td>\n",
       "      <td>W150895</td>\n",
       "      <td>223.2887</td>\n",
       "      <td>2.48404</td>\n",
       "      <td>WiggleZ</td>\n",
       "    </tr>\n",
       "    <tr>\n",
       "      <th>214621</th>\n",
       "      <td>772336</td>\n",
       "      <td>W151017</td>\n",
       "      <td>223.32626</td>\n",
       "      <td>0.52427</td>\n",
       "      <td>WiggleZ</td>\n",
       "    </tr>\n",
       "    <tr>\n",
       "      <th>214622</th>\n",
       "      <td>513335</td>\n",
       "      <td>W151276</td>\n",
       "      <td>223.40312</td>\n",
       "      <td>-1.10237</td>\n",
       "      <td>WiggleZ</td>\n",
       "    </tr>\n",
       "    <tr>\n",
       "      <th>214623</th>\n",
       "      <td>4008278</td>\n",
       "      <td>W151449</td>\n",
       "      <td>223.46067</td>\n",
       "      <td>0.45948</td>\n",
       "      <td>WiggleZ</td>\n",
       "    </tr>\n",
       "  </tbody>\n",
       "</table>\n",
       "<p>214624 rows × 5 columns</p>\n",
       "</div>"
      ],
      "text/plain": [
       "         CATAID                             SPECID         RA       DEC  \\\n",
       "0        491457  1030358159811700736                211.73487  -1.59471   \n",
       "1        460298  1030358434689607680                211.51452  -1.65754   \n",
       "2        460345  1030358984445421568                211.78462  -1.71899   \n",
       "3        484623  1030359809079142400                211.63878  -1.93563   \n",
       "4        484637  1030360358834956288                211.79006  -1.89456   \n",
       "...         ...                                ...        ...       ...   \n",
       "214619   620092  W150697                            223.22713   0.29123   \n",
       "214620   364141  W150895                             223.2887   2.48404   \n",
       "214621   772336  W151017                            223.32626   0.52427   \n",
       "214622   513335  W151276                            223.40312  -1.10237   \n",
       "214623  4008278  W151449                            223.46067   0.45948   \n",
       "\n",
       "           SURVEY  \n",
       "0       SDSS       \n",
       "1       SDSS       \n",
       "2       SDSS       \n",
       "3       SDSS       \n",
       "4       SDSS       \n",
       "...           ...  \n",
       "214619  WiggleZ    \n",
       "214620  WiggleZ    \n",
       "214621  WiggleZ    \n",
       "214622  WiggleZ    \n",
       "214623  WiggleZ    \n",
       "\n",
       "[214624 rows x 5 columns]"
      ]
     },
     "execution_count": 46,
     "metadata": {},
     "output_type": "execute_result"
    }
   ],
   "source": [
    "results_pd"
   ]
  },
  {
   "cell_type": "code",
   "execution_count": 47,
   "id": "indie-subsection",
   "metadata": {},
   "outputs": [],
   "source": [
    "results_pd.to_csv('gama_ids.csv', index=False,header=True)"
   ]
  },
  {
   "cell_type": "code",
   "execution_count": null,
   "id": "level-teddy",
   "metadata": {},
   "outputs": [],
   "source": []
  }
 ],
 "metadata": {
  "kernelspec": {
   "display_name": "Python 3",
   "language": "python",
   "name": "python3"
  },
  "language_info": {
   "codemirror_mode": {
    "name": "ipython",
    "version": 3
   },
   "file_extension": ".py",
   "mimetype": "text/x-python",
   "name": "python",
   "nbconvert_exporter": "python",
   "pygments_lexer": "ipython3",
   "version": "3.8.3"
  }
 },
 "nbformat": 4,
 "nbformat_minor": 5
}
