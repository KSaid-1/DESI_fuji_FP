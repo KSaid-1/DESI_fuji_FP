{
 "cells": [
  {
   "cell_type": "code",
   "execution_count": 71,
   "metadata": {},
   "outputs": [],
   "source": [
    "import os\n",
    "import numpy as np \n",
    "import astropy.units as u\n",
    "from desisim.io import read_basis_templates\n",
    "from scipy.spatial import cKDTree as KDTree\n",
    "from desisim.io import empty_metatable\n",
    "from desisim.templates import GALAXY\n",
    "import desisim.simexp\n",
    "from specsim.simulator import Simulator\n",
    "\n",
    "# desired redshift, r-band magnitude, g-r color (arbitrary blue galaxy in this case), and fiber loss fraction\n",
    "z_desired = 0.2\n",
    "rmag_desired = 16.0\n",
    "gr_color_desired = 0.5\n",
    "fibloss_desired = 0.1\n"
   ]
  },
  {
   "cell_type": "code",
   "execution_count": null,
   "metadata": {},
   "outputs": [],
   "source": []
  },
  {
   "cell_type": "code",
   "execution_count": 72,
   "metadata": {},
   "outputs": [
    {
     "name": "stdout",
     "output_type": "stream",
     "text": [
      "INFO:io.py:951:read_basis_templates: Reading /global/cfs/cdirs/desi/spectro/templates/basis_templates/v3.2/bgs_templates_v2.3.fits metadata.\n"
     ]
    }
   ],
   "source": [
    "# read meta data of templates \n",
    "meta_template = read_basis_templates(objtype='BGS', onlymeta=True)\n",
    "\n",
    "# compile properties you want to match by for the template. This can be adjusted to whichever properties you want.\n",
    "template_prop = np.vstack((\n",
    "    meta_template['Z'].data, # redshift\n",
    "    meta_template['SDSS_UGRIZ'].data[:,2], # r-band mag\n",
    "    meta_template['SDSS_UGRIZ'].data[:,1] - meta_template['SDSS_UGRIZ'].data[:,2] # g-r color\n",
    ")).T\n"
   ]
  },
  {
   "cell_type": "code",
   "execution_count": 73,
   "metadata": {},
   "outputs": [],
   "source": [
    "# match to template using KDTree\n",
    "tree = KDTree(template_prop)\n",
    "\n",
    "# get matched template ID\n",
    "_, match_temp_id = tree.query(np.vstack([z_desired, rmag_desired, gr_color_desired]).T)\n",
    "assert match_temp_id < len(meta_template)"
   ]
  },
  {
   "cell_type": "code",
   "execution_count": 74,
   "metadata": {},
   "outputs": [
    {
     "name": "stdout",
     "output_type": "stream",
     "text": [
      "INFO:io.py:971:read_basis_templates: Reading /global/cfs/cdirs/desi/spectro/templates/basis_templates/v3.2/bgs_templates_v2.3.fits\n"
     ]
    }
   ],
   "source": [
    "#ls)\n",
    "Source = GALAXY(objtype='BGS', minwave=3523, maxwave=9923., normline=None)\n",
    "\n",
    "input_meta = empty_metatable(nmodel=1, objtype='BGS', input_meta=True)\n",
    "input_meta['SEED']       = np.random.randint(2**32, size=1) \n",
    "input_meta['MAG']        = rmag_desired # r band apparent magnitude\n",
    "input_meta['MAGFILTER']  = 'decam2014-r'\n",
    "input_meta['REDSHIFT']   = z_desired # redshift\n",
    "input_meta['VDISP']      = 100 \n",
    "input_meta['TEMPLATEID'] = match_temp_id\n",
    "\n",
    "source_flux, source_wave, source_meta, source_objmeta = Source.make_galaxy_templates(nmodel=1, input_meta=input_meta)"
   ]
  },
  {
   "cell_type": "code",
   "execution_count": null,
   "metadata": {},
   "outputs": [],
   "source": []
  },
  {
   "cell_type": "code",
   "execution_count": null,
   "metadata": {},
   "outputs": [],
   "source": []
  },
  {
   "cell_type": "code",
   "execution_count": 75,
   "metadata": {},
   "outputs": [],
   "source": [
    "# get specsim configuration \n",
    "config = desisim.simexp._specsim_config_for_wave(source_wave, dwave_out=0.8, specsim_config_file='desi')"
   ]
  },
  {
   "cell_type": "code",
   "execution_count": 76,
   "metadata": {},
   "outputs": [],
   "source": [
    "# get nominal sky brightness\n",
    "nominal_surface_brightness_dict = config.load_table(config.atmosphere.sky, 'surface_brightness', as_dict=True)\n",
    "nominal_dark_sky_brightness = nominal_surface_brightness_dict['dark']"
   ]
  },
  {
   "cell_type": "code",
   "execution_count": 77,
   "metadata": {},
   "outputs": [],
   "source": [
    "# initiate Simulator object\n",
    "desi = Simulator(config, num_fibers=1)"
   ]
  },
  {
   "cell_type": "code",
   "execution_count": 78,
   "metadata": {},
   "outputs": [],
   "source": [
    "# specify the exposure time\n",
    "desi.observation.exposure_time = 180. * u.s\n",
    "# specify the sky brightness\n",
    "desi.atmosphere._surface_brightness_dict[desi.atmosphere.condition] = nominal_dark_sky_brightness\n",
    "desi.atmosphere._extinct_emission = False\n",
    "desi.atmosphere._moon = None \n",
    "desi.atmosphere.airmass = 1.2"
   ]
  },
  {
   "cell_type": "code",
   "execution_count": 79,
   "metadata": {},
   "outputs": [],
   "source": [
    "# simulate\n",
    "desi.simulate(\n",
    "    source_fluxes=source_flux * 1e-17 * desi.simulated['source_flux'].unit, \n",
    "    fiber_acceptance_fraction=np.tile(fibloss_desired, source_flux.shape) # fiber-loss\n",
    ")\n",
    "\n",
    "random_state = np.random.RandomState(0)\n",
    "desi.generate_random_noise(random_state, use_poisson=True)\n",
    "\n",
    "waves, fluxes, ivars, ivars_electron = [], [], [], [] \n",
    "for table in desi.camera_output:\n",
    "    _wave = table['wavelength'].astype(float)\n",
    "    _flux = (table['observed_flux'] + table['random_noise_electrons'] * table['flux_calibration']).T.astype(float)\n",
    "    _flux = _flux * 1e17\n",
    "\n",
    "    _ivar = table['flux_inverse_variance'].T.astype(float)\n",
    "    _ivar = _ivar / 1e34\n",
    "\n",
    "    waves.append(_wave)\n",
    "    fluxes.append(_flux)\n",
    "    ivars.append(_ivar)"
   ]
  },
  {
   "cell_type": "code",
   "execution_count": null,
   "metadata": {},
   "outputs": [],
   "source": []
  },
  {
   "cell_type": "code",
   "execution_count": 80,
   "metadata": {},
   "outputs": [
    {
     "name": "stdout",
     "output_type": "stream",
     "text": [
      "b SNR = 3.779864\n",
      "r SNR = 9.960613\n",
      "z SNR = 12.403721\n"
     ]
    }
   ],
   "source": [
    "for band, flux, ivar in zip(['b', 'r', 'z'], fluxes, ivars): \n",
    "    print('%s SNR = %2f' % (band, np.median(flux * np.sqrt(ivar))))"
   ]
  },
  {
   "cell_type": "code",
   "execution_count": null,
   "metadata": {},
   "outputs": [],
   "source": []
  },
  {
   "cell_type": "code",
   "execution_count": null,
   "metadata": {},
   "outputs": [],
   "source": []
  }
 ],
 "metadata": {
  "kernelspec": {
   "display_name": "DESI master",
   "language": "python",
   "name": "desi-master"
  },
  "language_info": {
   "codemirror_mode": {
    "name": "ipython",
    "version": 3
   },
   "file_extension": ".py",
   "mimetype": "text/x-python",
   "name": "python",
   "nbconvert_exporter": "python",
   "pygments_lexer": "ipython3",
   "version": "3.9.7"
  }
 },
 "nbformat": 4,
 "nbformat_minor": 4
}
