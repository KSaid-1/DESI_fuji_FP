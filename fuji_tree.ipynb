{
 "cells": [
  {
   "cell_type": "code",
   "execution_count": 1,
   "id": "copyrighted-palace",
   "metadata": {},
   "outputs": [],
   "source": [
    "import numpy as np\n",
    "import matplotlib.pyplot as plt\n",
    "import pandas as pd\n",
    "from sklearn import tree, metrics\n",
    "from sklearn.tree import export_graphviz\n",
    "from matplotlib.ticker import MaxNLocator\n",
    "import seaborn as sns\n",
    "from os import system as sys"
   ]
  },
  {
   "cell_type": "code",
   "execution_count": 2,
   "id": "limiting-commonwealth",
   "metadata": {},
   "outputs": [
    {
     "data": {
      "text/html": [
       "<div>\n",
       "<style scoped>\n",
       "    .dataframe tbody tr th:only-of-type {\n",
       "        vertical-align: middle;\n",
       "    }\n",
       "\n",
       "    .dataframe tbody tr th {\n",
       "        vertical-align: top;\n",
       "    }\n",
       "\n",
       "    .dataframe thead th {\n",
       "        text-align: right;\n",
       "    }\n",
       "</style>\n",
       "<table border=\"1\" class=\"dataframe\">\n",
       "  <thead>\n",
       "    <tr style=\"text-align: right;\">\n",
       "      <th></th>\n",
       "      <th>ra_1</th>\n",
       "      <th>dec_1</th>\n",
       "      <th>targetid_1</th>\n",
       "      <th>id</th>\n",
       "      <th>healpix</th>\n",
       "      <th>survey</th>\n",
       "      <th>program</th>\n",
       "      <th>targetid.1</th>\n",
       "      <th>z_1</th>\n",
       "      <th>zerr</th>\n",
       "      <th>...</th>\n",
       "      <th>circ_radius</th>\n",
       "      <th>pos_angle</th>\n",
       "      <th>tmass</th>\n",
       "      <th>flag</th>\n",
       "      <th>z_2</th>\n",
       "      <th>rmag</th>\n",
       "      <th>g_r_PS1_5_cor</th>\n",
       "      <th>W2_W3</th>\n",
       "      <th>W2_W3_err</th>\n",
       "      <th>PS1_ibumpy</th>\n",
       "    </tr>\n",
       "  </thead>\n",
       "  <tbody>\n",
       "    <tr>\n",
       "      <th>0</th>\n",
       "      <td>113.572072</td>\n",
       "      <td>38.006408</td>\n",
       "      <td>39633038367260806</td>\n",
       "      <td>1055</td>\n",
       "      <td>6388</td>\n",
       "      <td>sv1</td>\n",
       "      <td>bright</td>\n",
       "      <td>39633038367260806</td>\n",
       "      <td>0.096340</td>\n",
       "      <td>0.000011</td>\n",
       "      <td>...</td>\n",
       "      <td>0.952146</td>\n",
       "      <td>-45.774815</td>\n",
       "      <td>2MASSJ07341728+3800231</td>\n",
       "      <td>1</td>\n",
       "      <td>0.0963</td>\n",
       "      <td>17.370</td>\n",
       "      <td>0.750</td>\n",
       "      <td>2.558</td>\n",
       "      <td>-9.999</td>\n",
       "      <td>0.077</td>\n",
       "    </tr>\n",
       "    <tr>\n",
       "      <th>1</th>\n",
       "      <td>209.817727</td>\n",
       "      <td>5.221427</td>\n",
       "      <td>39627914978792298</td>\n",
       "      <td>3193</td>\n",
       "      <td>26091</td>\n",
       "      <td>sv3</td>\n",
       "      <td>bright</td>\n",
       "      <td>39627914978792298</td>\n",
       "      <td>0.112726</td>\n",
       "      <td>0.000028</td>\n",
       "      <td>...</td>\n",
       "      <td>3.240610</td>\n",
       "      <td>-39.993076</td>\n",
       "      <td>2MASXJ13591625+0513171</td>\n",
       "      <td>1</td>\n",
       "      <td>0.1127</td>\n",
       "      <td>15.805</td>\n",
       "      <td>0.782</td>\n",
       "      <td>0.365</td>\n",
       "      <td>0.531</td>\n",
       "      <td>0.092</td>\n",
       "    </tr>\n",
       "    <tr>\n",
       "      <th>2</th>\n",
       "      <td>194.619267</td>\n",
       "      <td>28.526812</td>\n",
       "      <td>39628449270205263</td>\n",
       "      <td>3317</td>\n",
       "      <td>10401</td>\n",
       "      <td>sv3</td>\n",
       "      <td>bright</td>\n",
       "      <td>39628449270205263</td>\n",
       "      <td>0.061514</td>\n",
       "      <td>0.000014</td>\n",
       "      <td>...</td>\n",
       "      <td>3.417574</td>\n",
       "      <td>87.439476</td>\n",
       "      <td>2MASXJ12582865+2831367</td>\n",
       "      <td>1</td>\n",
       "      <td>0.0615</td>\n",
       "      <td>15.211</td>\n",
       "      <td>0.756</td>\n",
       "      <td>0.901</td>\n",
       "      <td>0.343</td>\n",
       "      <td>0.142</td>\n",
       "    </tr>\n",
       "    <tr>\n",
       "      <th>3</th>\n",
       "      <td>182.009105</td>\n",
       "      <td>-0.436829</td>\n",
       "      <td>39627775702728960</td>\n",
       "      <td>3476</td>\n",
       "      <td>26281</td>\n",
       "      <td>sv3</td>\n",
       "      <td>bright</td>\n",
       "      <td>39627775702728960</td>\n",
       "      <td>0.082316</td>\n",
       "      <td>0.000008</td>\n",
       "      <td>...</td>\n",
       "      <td>1.137414</td>\n",
       "      <td>-85.100006</td>\n",
       "      <td>2MASXJ12080218-0026129</td>\n",
       "      <td>1</td>\n",
       "      <td>0.0823</td>\n",
       "      <td>16.892</td>\n",
       "      <td>0.755</td>\n",
       "      <td>1.795</td>\n",
       "      <td>-9.999</td>\n",
       "      <td>0.036</td>\n",
       "    </tr>\n",
       "    <tr>\n",
       "      <th>4</th>\n",
       "      <td>148.946407</td>\n",
       "      <td>2.559891</td>\n",
       "      <td>39627847622463100</td>\n",
       "      <td>3426</td>\n",
       "      <td>27344</td>\n",
       "      <td>sv3</td>\n",
       "      <td>bright</td>\n",
       "      <td>39627847622463100</td>\n",
       "      <td>0.080472</td>\n",
       "      <td>0.000020</td>\n",
       "      <td>...</td>\n",
       "      <td>0.702993</td>\n",
       "      <td>21.841816</td>\n",
       "      <td>2MASSJ09554715+0233360</td>\n",
       "      <td>1</td>\n",
       "      <td>0.0805</td>\n",
       "      <td>17.943</td>\n",
       "      <td>0.630</td>\n",
       "      <td>2.495</td>\n",
       "      <td>-9.999</td>\n",
       "      <td>0.025</td>\n",
       "    </tr>\n",
       "    <tr>\n",
       "      <th>...</th>\n",
       "      <td>...</td>\n",
       "      <td>...</td>\n",
       "      <td>...</td>\n",
       "      <td>...</td>\n",
       "      <td>...</td>\n",
       "      <td>...</td>\n",
       "      <td>...</td>\n",
       "      <td>...</td>\n",
       "      <td>...</td>\n",
       "      <td>...</td>\n",
       "      <td>...</td>\n",
       "      <td>...</td>\n",
       "      <td>...</td>\n",
       "      <td>...</td>\n",
       "      <td>...</td>\n",
       "      <td>...</td>\n",
       "      <td>...</td>\n",
       "      <td>...</td>\n",
       "      <td>...</td>\n",
       "      <td>...</td>\n",
       "      <td>...</td>\n",
       "    </tr>\n",
       "    <tr>\n",
       "      <th>6693</th>\n",
       "      <td>182.823194</td>\n",
       "      <td>0.691580</td>\n",
       "      <td>39627805914302221</td>\n",
       "      <td>3465</td>\n",
       "      <td>26284</td>\n",
       "      <td>sv3</td>\n",
       "      <td>bright</td>\n",
       "      <td>39627805914302221</td>\n",
       "      <td>0.078011</td>\n",
       "      <td>0.000033</td>\n",
       "      <td>...</td>\n",
       "      <td>0.922190</td>\n",
       "      <td>-62.069294</td>\n",
       "      <td>2MASSJ12111758+0041295</td>\n",
       "      <td>1</td>\n",
       "      <td>0.0780</td>\n",
       "      <td>17.872</td>\n",
       "      <td>0.721</td>\n",
       "      <td>2.623</td>\n",
       "      <td>-9.999</td>\n",
       "      <td>0.017</td>\n",
       "    </tr>\n",
       "    <tr>\n",
       "      <th>6694</th>\n",
       "      <td>185.486802</td>\n",
       "      <td>55.939217</td>\n",
       "      <td>39633335672112224</td>\n",
       "      <td>2690</td>\n",
       "      <td>11186</td>\n",
       "      <td>sv2</td>\n",
       "      <td>bright</td>\n",
       "      <td>39633335672112224</td>\n",
       "      <td>0.033746</td>\n",
       "      <td>0.000012</td>\n",
       "      <td>...</td>\n",
       "      <td>1.862451</td>\n",
       "      <td>-7.226948</td>\n",
       "      <td>2MASXJ12215688+5556215</td>\n",
       "      <td>1</td>\n",
       "      <td>0.0337</td>\n",
       "      <td>15.549</td>\n",
       "      <td>0.689</td>\n",
       "      <td>-9.999</td>\n",
       "      <td>-9.999</td>\n",
       "      <td>0.128</td>\n",
       "    </tr>\n",
       "    <tr>\n",
       "      <th>6695</th>\n",
       "      <td>84.616908</td>\n",
       "      <td>-21.116618</td>\n",
       "      <td>39627289658395856</td>\n",
       "      <td>869</td>\n",
       "      <td>21068</td>\n",
       "      <td>sv1</td>\n",
       "      <td>bright</td>\n",
       "      <td>39627289658395856</td>\n",
       "      <td>0.090360</td>\n",
       "      <td>0.000018</td>\n",
       "      <td>...</td>\n",
       "      <td>2.150357</td>\n",
       "      <td>-21.337053</td>\n",
       "      <td>2MASXJ05382805-2106599</td>\n",
       "      <td>1</td>\n",
       "      <td>0.0904</td>\n",
       "      <td>16.536</td>\n",
       "      <td>0.680</td>\n",
       "      <td>1.631</td>\n",
       "      <td>-9.999</td>\n",
       "      <td>0.056</td>\n",
       "    </tr>\n",
       "    <tr>\n",
       "      <th>6696</th>\n",
       "      <td>189.676485</td>\n",
       "      <td>62.911705</td>\n",
       "      <td>39633421907004020</td>\n",
       "      <td>3308</td>\n",
       "      <td>11253</td>\n",
       "      <td>sv3</td>\n",
       "      <td>bright</td>\n",
       "      <td>39633421907004020</td>\n",
       "      <td>0.137218</td>\n",
       "      <td>0.000012</td>\n",
       "      <td>...</td>\n",
       "      <td>1.768099</td>\n",
       "      <td>17.307493</td>\n",
       "      <td>2MASXJ12384240+6254420</td>\n",
       "      <td>0</td>\n",
       "      <td>1.6556</td>\n",
       "      <td>17.393</td>\n",
       "      <td>0.750</td>\n",
       "      <td>3.254</td>\n",
       "      <td>0.074</td>\n",
       "      <td>0.086</td>\n",
       "    </tr>\n",
       "    <tr>\n",
       "      <th>6697</th>\n",
       "      <td>136.158823</td>\n",
       "      <td>33.398239</td>\n",
       "      <td>39632950202991835</td>\n",
       "      <td>1145</td>\n",
       "      <td>5063</td>\n",
       "      <td>sv1</td>\n",
       "      <td>bright</td>\n",
       "      <td>39632950202991835</td>\n",
       "      <td>0.074629</td>\n",
       "      <td>0.000010</td>\n",
       "      <td>...</td>\n",
       "      <td>2.831591</td>\n",
       "      <td>31.562994</td>\n",
       "      <td>2MASXJ09043813+3323534</td>\n",
       "      <td>1</td>\n",
       "      <td>0.0746</td>\n",
       "      <td>15.709</td>\n",
       "      <td>0.709</td>\n",
       "      <td>1.525</td>\n",
       "      <td>-9.999</td>\n",
       "      <td>0.054</td>\n",
       "    </tr>\n",
       "  </tbody>\n",
       "</table>\n",
       "<p>6698 rows × 60 columns</p>\n",
       "</div>"
      ],
      "text/plain": [
       "            ra_1      dec_1         targetid_1    id  healpix survey program  \\\n",
       "0     113.572072  38.006408  39633038367260806  1055     6388    sv1  bright   \n",
       "1     209.817727   5.221427  39627914978792298  3193    26091    sv3  bright   \n",
       "2     194.619267  28.526812  39628449270205263  3317    10401    sv3  bright   \n",
       "3     182.009105  -0.436829  39627775702728960  3476    26281    sv3  bright   \n",
       "4     148.946407   2.559891  39627847622463100  3426    27344    sv3  bright   \n",
       "...          ...        ...                ...   ...      ...    ...     ...   \n",
       "6693  182.823194   0.691580  39627805914302221  3465    26284    sv3  bright   \n",
       "6694  185.486802  55.939217  39633335672112224  2690    11186    sv2  bright   \n",
       "6695   84.616908 -21.116618  39627289658395856   869    21068    sv1  bright   \n",
       "6696  189.676485  62.911705  39633421907004020  3308    11253    sv3  bright   \n",
       "6697  136.158823  33.398239  39632950202991835  1145     5063    sv1  bright   \n",
       "\n",
       "             targetid.1       z_1      zerr  ...  circ_radius  pos_angle  \\\n",
       "0     39633038367260806  0.096340  0.000011  ...     0.952146 -45.774815   \n",
       "1     39627914978792298  0.112726  0.000028  ...     3.240610 -39.993076   \n",
       "2     39628449270205263  0.061514  0.000014  ...     3.417574  87.439476   \n",
       "3     39627775702728960  0.082316  0.000008  ...     1.137414 -85.100006   \n",
       "4     39627847622463100  0.080472  0.000020  ...     0.702993  21.841816   \n",
       "...                 ...       ...       ...  ...          ...        ...   \n",
       "6693  39627805914302221  0.078011  0.000033  ...     0.922190 -62.069294   \n",
       "6694  39633335672112224  0.033746  0.000012  ...     1.862451  -7.226948   \n",
       "6695  39627289658395856  0.090360  0.000018  ...     2.150357 -21.337053   \n",
       "6696  39633421907004020  0.137218  0.000012  ...     1.768099  17.307493   \n",
       "6697  39632950202991835  0.074629  0.000010  ...     2.831591  31.562994   \n",
       "\n",
       "                       tmass  flag     z_2    rmag  g_r_PS1_5_cor  W2_W3  \\\n",
       "0     2MASSJ07341728+3800231     1  0.0963  17.370          0.750  2.558   \n",
       "1     2MASXJ13591625+0513171     1  0.1127  15.805          0.782  0.365   \n",
       "2     2MASXJ12582865+2831367     1  0.0615  15.211          0.756  0.901   \n",
       "3     2MASXJ12080218-0026129     1  0.0823  16.892          0.755  1.795   \n",
       "4     2MASSJ09554715+0233360     1  0.0805  17.943          0.630  2.495   \n",
       "...                      ...   ...     ...     ...            ...    ...   \n",
       "6693  2MASSJ12111758+0041295     1  0.0780  17.872          0.721  2.623   \n",
       "6694  2MASXJ12215688+5556215     1  0.0337  15.549          0.689 -9.999   \n",
       "6695  2MASXJ05382805-2106599     1  0.0904  16.536          0.680  1.631   \n",
       "6696  2MASXJ12384240+6254420     0  1.6556  17.393          0.750  3.254   \n",
       "6697  2MASXJ09043813+3323534     1  0.0746  15.709          0.709  1.525   \n",
       "\n",
       "      W2_W3_err  PS1_ibumpy  \n",
       "0        -9.999       0.077  \n",
       "1         0.531       0.092  \n",
       "2         0.343       0.142  \n",
       "3        -9.999       0.036  \n",
       "4        -9.999       0.025  \n",
       "...         ...         ...  \n",
       "6693     -9.999       0.017  \n",
       "6694     -9.999       0.128  \n",
       "6695     -9.999       0.056  \n",
       "6696      0.074       0.086  \n",
       "6697     -9.999       0.054  \n",
       "\n",
       "[6698 rows x 60 columns]"
      ]
     },
     "execution_count": 2,
     "metadata": {},
     "output_type": "execute_result"
    }
   ],
   "source": [
    "fuji = pd.read_csv(\"fuji_full_fp_sample.csv\")\n",
    "fuji = fuji.sample(frac=1).reset_index(drop=True)\n",
    "fuji"
   ]
  },
  {
   "cell_type": "code",
   "execution_count": 3,
   "id": "unknown-organic",
   "metadata": {},
   "outputs": [
    {
     "data": {
      "image/png": "[encoded data removed]",
      "text/plain": [
       "<Figure size 432x288 with 1 Axes>"
      ]
     },
     "metadata": {
      "needs_background": "light"
     },
     "output_type": "display_data"
    }
   ],
   "source": [
    "plt.hist(fuji.flag)\n",
    "plt.show()"
   ]
  },
  {
   "cell_type": "code",
   "execution_count": 4,
   "id": "emerging-space",
   "metadata": {},
   "outputs": [],
   "source": [
    "# flag_mapping = {0:\"Spirals\",1:\"Ellipticals\"}\n",
    "# fuji.loc[:,\"flag\"] = fuji.flag.map(flag_mapping)\n",
    "# fuji"
   ]
  },
  {
   "cell_type": "code",
   "execution_count": 5,
   "id": "loved-elevation",
   "metadata": {},
   "outputs": [
    {
     "name": "stdout",
     "output_type": "stream",
     "text": [
      "6698\n"
     ]
    }
   ],
   "source": [
    "print (len(fuji))"
   ]
  },
  {
   "cell_type": "code",
   "execution_count": 6,
   "id": "everyday-action",
   "metadata": {},
   "outputs": [],
   "source": [
    "fuji_train = fuji.head(4000)\n",
    "fuji_test = fuji.tail(2698)"
   ]
  },
  {
   "cell_type": "code",
   "execution_count": 7,
   "id": "wound-designation",
   "metadata": {},
   "outputs": [
    {
     "data": {
      "text/plain": [
       "Index(['ra_1', 'dec_1', 'targetid_1', 'id', 'healpix', 'survey', 'program',\n",
       "       'targetid.1', 'z_1', 'zerr', 'zwarn', 'spectype', 'subtype',\n",
       "       'deltachi2', 'healpix_id', 'obsconditions', 'release', 'brickid_1',\n",
       "       'brick_objid', 'sersic_1', 'coadd_numexp', 'coadd_exptime',\n",
       "       'coadd_numnight', 'coadd_numtile', 'healpix_id.1', 'objid_1',\n",
       "       'brickid.1', 'brickname_1', 'ppxf_sigma', 'ppxf_sigma_error', 'DER_SNR',\n",
       "       'snr_ppxf', 'TYPE', 'SERSIC_2', 'Z_PHOT_MEDIAN', 'Z_PHOT_L95', 'mag_g',\n",
       "       'mag_r', 'mag_z', 'mag_B', 'mag_g_err', 'mag_r_err', 'mag_z_err',\n",
       "       'fibre_mag_g', 'fibre_mag_r', 'fibre_mag_z', 'uncor_radius',\n",
       "       'uncor_radius_err', 'BA_ratio', 'BA_ratio_error', 'circ_radius',\n",
       "       'pos_angle', 'tmass', 'flag', 'z_2', 'rmag', 'g_r_PS1_5_cor', 'W2_W3',\n",
       "       'W2_W3_err', 'PS1_ibumpy'],\n",
       "      dtype='object')"
      ]
     },
     "execution_count": 7,
     "metadata": {},
     "output_type": "execute_result"
    }
   ],
   "source": [
    "fuji.keys()"
   ]
  },
  {
   "cell_type": "code",
   "execution_count": 8,
   "id": "instrumental-whole",
   "metadata": {},
   "outputs": [
    {
     "data": {
      "text/plain": [
       "['sersic_1',\n",
       " 'mag_g',\n",
       " 'mag_r',\n",
       " 'mag_z',\n",
       " 'uncor_radius',\n",
       " 'BA_ratio',\n",
       " 'pos_angle',\n",
       " 'g_r_PS1_5_cor',\n",
       " 'W2_W3']"
      ]
     },
     "execution_count": 8,
     "metadata": {},
     "output_type": "execute_result"
    }
   ],
   "source": [
    "cols = ['sersic_1','mag_g','mag_r','mag_z','uncor_radius','BA_ratio','pos_angle','g_r_PS1_5_cor','W2_W3']\n",
    "cols"
   ]
  },
  {
   "cell_type": "code",
   "execution_count": 9,
   "id": "numerous-journal",
   "metadata": {},
   "outputs": [],
   "source": [
    "clf = tree.DecisionTreeClassifier(max_depth=5)"
   ]
  },
  {
   "cell_type": "code",
   "execution_count": 10,
   "id": "personalized-fruit",
   "metadata": {},
   "outputs": [
    {
     "data": {
      "text/plain": [
       "DecisionTreeClassifier(max_depth=5)"
      ]
     },
     "execution_count": 10,
     "metadata": {},
     "output_type": "execute_result"
    }
   ],
   "source": [
    "clf.fit(fuji_train[cols],fuji_train.flag)"
   ]
  },
  {
   "cell_type": "code",
   "execution_count": 11,
   "id": "british-kuwait",
   "metadata": {},
   "outputs": [],
   "source": [
    "train_predictions = clf.predict(fuji_train[cols])"
   ]
  },
  {
   "cell_type": "code",
   "execution_count": 12,
   "id": "forward-richardson",
   "metadata": {},
   "outputs": [],
   "source": [
    "test_predictions = clf.predict(fuji_test[cols])"
   ]
  },
  {
   "cell_type": "code",
   "execution_count": 13,
   "id": "absolute-franchise",
   "metadata": {},
   "outputs": [
    {
     "data": {
      "text/plain": [
       "0.86825"
      ]
     },
     "execution_count": 13,
     "metadata": {},
     "output_type": "execute_result"
    }
   ],
   "source": [
    "train_accuracy = metrics.accuracy_score(fuji_train.flag, train_predictions)\n",
    "train_accuracy"
   ]
  },
  {
   "cell_type": "code",
   "execution_count": 14,
   "id": "parental-characterization",
   "metadata": {},
   "outputs": [
    {
     "data": {
      "text/plain": [
       "0.8395107487027428"
      ]
     },
     "execution_count": 14,
     "metadata": {},
     "output_type": "execute_result"
    }
   ],
   "source": [
    "test_accuracy = metrics.accuracy_score(fuji_test.flag, test_predictions)\n",
    "test_accuracy"
   ]
  },
  {
   "cell_type": "code",
   "execution_count": 15,
   "id": "attractive-harvest",
   "metadata": {},
   "outputs": [],
   "source": [
    "train_accuracies = []; test_accuracies= []; depth = []\n",
    "for i in range(24):\n",
    "    clf = tree.DecisionTreeClassifier(max_depth=i+1)\n",
    "    clf.fit(fuji_train[cols],fuji_train.flag)\n",
    "    train_predictions = clf.predict(fuji_train[cols])\n",
    "    test_predictions = clf.predict(fuji_test[cols])\n",
    "    train_accuracy = metrics.accuracy_score(fuji_train.flag, train_predictions)\n",
    "    train_accuracies.append(train_accuracy)\n",
    "    test_accuracy = metrics.accuracy_score(fuji_test.flag, test_predictions)\n",
    "    test_accuracies.append(test_accuracy)\n",
    "    depth.append(i+1)"
   ]
  },
  {
   "cell_type": "code",
   "execution_count": 16,
   "id": "reduced-formula",
   "metadata": {},
   "outputs": [
    {
     "data": {
      "image/png": "[encoded data removed]",
      "text/plain": [
       "<Figure size 432x288 with 1 Axes>"
      ]
     },
     "metadata": {
      "needs_background": "light"
     },
     "output_type": "display_data"
    }
   ],
   "source": [
    "plt.plot(depth,train_accuracies, color=\"red\",label=\"train accuracy\")\n",
    "plt.plot(depth,test_accuracies, color=\"blue\",label=\"trst accuracy\")\n",
    "plt.grid()\n",
    "plt.legend()\n",
    "plt.show()"
   ]
  },
  {
   "cell_type": "code",
   "execution_count": 17,
   "id": "indian-workplace",
   "metadata": {},
   "outputs": [
    {
     "data": {
      "text/plain": [
       "array([1, 1, 1, ..., 1, 1, 1])"
      ]
     },
     "execution_count": 17,
     "metadata": {},
     "output_type": "execute_result"
    }
   ],
   "source": [
    "fuji_train[\"flag\"].values"
   ]
  },
  {
   "cell_type": "code",
   "execution_count": 18,
   "id": "wooden-cincinnati",
   "metadata": {},
   "outputs": [],
   "source": [
    "#to do that all what you need is to uncomment cell #3 which change 0 to spirals and 1 to ellipticals\n",
    "# export_graphviz(\n",
    "#             clf,\n",
    "#             out_file=\"fuji_tree.dot\",\n",
    "#             feature_names=cols,\n",
    "#             class_names=fuji_train.flag,\n",
    "#             rounded=True,\n",
    "#             filled=True\n",
    "#         )\n",
    "# sys(\"dot -Tpng fuji_tree.dot -o fuji_tree.png\")"
   ]
  },
  {
   "cell_type": "code",
   "execution_count": null,
   "id": "scientific-antenna",
   "metadata": {},
   "outputs": [],
   "source": []
  },
  {
   "cell_type": "code",
   "execution_count": 19,
   "id": "welsh-welding",
   "metadata": {},
   "outputs": [
    {
     "data": {
      "text/plain": [
       "0.8549497088406566"
      ]
     },
     "execution_count": 19,
     "metadata": {},
     "output_type": "execute_result"
    }
   ],
   "source": [
    "metrics.f1_score(fuji_test.flag, test_predictions)"
   ]
  },
  {
   "cell_type": "code",
   "execution_count": 20,
   "id": "bacterial-rotation",
   "metadata": {},
   "outputs": [
    {
     "data": {
      "text/plain": [
       "0.7586828962485377"
      ]
     },
     "execution_count": 20,
     "metadata": {},
     "output_type": "execute_result"
    }
   ],
   "source": [
    "metrics.precision_score(fuji_test.flag, test_predictions, average=\"macro\")"
   ]
  },
  {
   "cell_type": "code",
   "execution_count": 21,
   "id": "threaded-resolution",
   "metadata": {},
   "outputs": [
    {
     "data": {
      "text/plain": [
       "0.7968865826538176"
      ]
     },
     "execution_count": 21,
     "metadata": {},
     "output_type": "execute_result"
    }
   ],
   "source": [
    "metrics.precision_score(fuji_test.flag, test_predictions, average=\"micro\")"
   ]
  },
  {
   "cell_type": "code",
   "execution_count": 23,
   "id": "rolled-hampton",
   "metadata": {},
   "outputs": [
    {
     "data": {
      "text/plain": [
       "0.7964644424725438"
      ]
     },
     "execution_count": 23,
     "metadata": {},
     "output_type": "execute_result"
    }
   ],
   "source": [
    "metrics.precision_score(fuji_test.flag, test_predictions, average=\"weighted\")"
   ]
  },
  {
   "cell_type": "code",
   "execution_count": 24,
   "id": "recorded-characterization",
   "metadata": {},
   "outputs": [
    {
     "data": {
      "text/plain": [
       "0.757588322563457"
      ]
     },
     "execution_count": 24,
     "metadata": {},
     "output_type": "execute_result"
    }
   ],
   "source": [
    "metrics.roc_auc_score(fuji_test.flag, test_predictions)"
   ]
  },
  {
   "cell_type": "code",
   "execution_count": null,
   "id": "golden-consultancy",
   "metadata": {},
   "outputs": [],
   "source": []
  }
 ],
 "metadata": {
  "kernelspec": {
   "display_name": "Python 3",
   "language": "python",
   "name": "python3"
  },
  "language_info": {
   "codemirror_mode": {
    "name": "ipython",
    "version": 3
   },
   "file_extension": ".py",
   "mimetype": "text/x-python",
   "name": "python",
   "nbconvert_exporter": "python",
   "pygments_lexer": "ipython3",
   "version": "3.8.3"
  }
 },
 "nbformat": 4,
 "nbformat_minor": 5
}
