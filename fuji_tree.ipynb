{
 "cells": [
  {
   "cell_type": "code",
   "execution_count": 2,
   "id": "equal-expression",
   "metadata": {},
   "outputs": [],
   "source": [
    "import numpy as np\n",
    "import matplotlib.pyplot as plt\n",
    "import pandas as pd\n",
    "from sklearn import tree, metrics\n",
    "from matplotlib.ticker import MaxNLocator\n",
    "import seaborn as sns"
   ]
  },
  {
   "cell_type": "code",
   "execution_count": 4,
   "id": "growing-cutting",
   "metadata": {},
   "outputs": [
    {
     "data": {
      "text/html": [
       "<div>\n",
       "<style scoped>\n",
       "    .dataframe tbody tr th:only-of-type {\n",
       "        vertical-align: middle;\n",
       "    }\n",
       "\n",
       "    .dataframe tbody tr th {\n",
       "        vertical-align: top;\n",
       "    }\n",
       "\n",
       "    .dataframe thead th {\n",
       "        text-align: right;\n",
       "    }\n",
       "</style>\n",
       "<table border=\"1\" class=\"dataframe\">\n",
       "  <thead>\n",
       "    <tr style=\"text-align: right;\">\n",
       "      <th></th>\n",
       "      <th>ra_1</th>\n",
       "      <th>dec_1</th>\n",
       "      <th>targetid_1</th>\n",
       "      <th>id</th>\n",
       "      <th>healpix</th>\n",
       "      <th>survey</th>\n",
       "      <th>program</th>\n",
       "      <th>targetid.1</th>\n",
       "      <th>z_1</th>\n",
       "      <th>zerr</th>\n",
       "      <th>...</th>\n",
       "      <th>circ_radius</th>\n",
       "      <th>pos_angle</th>\n",
       "      <th>tmass</th>\n",
       "      <th>flag</th>\n",
       "      <th>z_2</th>\n",
       "      <th>rmag</th>\n",
       "      <th>g_r_PS1_5_cor</th>\n",
       "      <th>W2_W3</th>\n",
       "      <th>W2_W3_err</th>\n",
       "      <th>PS1_ibumpy</th>\n",
       "    </tr>\n",
       "  </thead>\n",
       "  <tbody>\n",
       "    <tr>\n",
       "      <th>0</th>\n",
       "      <td>217.502600</td>\n",
       "      <td>-0.423927</td>\n",
       "      <td>39627776298319962</td>\n",
       "      <td>3372</td>\n",
       "      <td>25956</td>\n",
       "      <td>sv3</td>\n",
       "      <td>bright</td>\n",
       "      <td>39627776298319962</td>\n",
       "      <td>0.135313</td>\n",
       "      <td>0.000004</td>\n",
       "      <td>...</td>\n",
       "      <td>3.590161</td>\n",
       "      <td>5.206202</td>\n",
       "      <td>2MASSJ14300062-0025259</td>\n",
       "      <td>0</td>\n",
       "      <td>0.1353</td>\n",
       "      <td>17.293</td>\n",
       "      <td>0.624</td>\n",
       "      <td>3.627</td>\n",
       "      <td>0.107</td>\n",
       "      <td>0.274</td>\n",
       "    </tr>\n",
       "    <tr>\n",
       "      <th>1</th>\n",
       "      <td>151.360019</td>\n",
       "      <td>2.654791</td>\n",
       "      <td>39627853704202540</td>\n",
       "      <td>3276</td>\n",
       "      <td>27257</td>\n",
       "      <td>sv3</td>\n",
       "      <td>bright</td>\n",
       "      <td>39627853704202540</td>\n",
       "      <td>0.097422</td>\n",
       "      <td>0.000037</td>\n",
       "      <td>...</td>\n",
       "      <td>2.376711</td>\n",
       "      <td>-9.414450</td>\n",
       "      <td>2MASSJ10052642+0239171</td>\n",
       "      <td>1</td>\n",
       "      <td>0.0974</td>\n",
       "      <td>17.032</td>\n",
       "      <td>0.655</td>\n",
       "      <td>2.436</td>\n",
       "      <td>-9.999</td>\n",
       "      <td>0.088</td>\n",
       "    </tr>\n",
       "    <tr>\n",
       "      <th>2</th>\n",
       "      <td>182.799845</td>\n",
       "      <td>55.493936</td>\n",
       "      <td>39633328818619707</td>\n",
       "      <td>2687</td>\n",
       "      <td>11180</td>\n",
       "      <td>sv2</td>\n",
       "      <td>bright</td>\n",
       "      <td>39633328818619707</td>\n",
       "      <td>0.093323</td>\n",
       "      <td>0.000012</td>\n",
       "      <td>...</td>\n",
       "      <td>3.736264</td>\n",
       "      <td>10.410058</td>\n",
       "      <td>2MASXJ12111203+5529384</td>\n",
       "      <td>1</td>\n",
       "      <td>0.0933</td>\n",
       "      <td>15.235</td>\n",
       "      <td>0.775</td>\n",
       "      <td>0.587</td>\n",
       "      <td>-9.999</td>\n",
       "      <td>0.065</td>\n",
       "    </tr>\n",
       "    <tr>\n",
       "      <th>3</th>\n",
       "      <td>184.349227</td>\n",
       "      <td>0.919071</td>\n",
       "      <td>39627811979265877</td>\n",
       "      <td>3474</td>\n",
       "      <td>26279</td>\n",
       "      <td>sv3</td>\n",
       "      <td>bright</td>\n",
       "      <td>39627811979265877</td>\n",
       "      <td>0.120947</td>\n",
       "      <td>0.000025</td>\n",
       "      <td>...</td>\n",
       "      <td>0.871863</td>\n",
       "      <td>-63.032223</td>\n",
       "      <td>2MASSJ12172379+0055096</td>\n",
       "      <td>1</td>\n",
       "      <td>0.1210</td>\n",
       "      <td>17.778</td>\n",
       "      <td>0.797</td>\n",
       "      <td>3.067</td>\n",
       "      <td>-9.999</td>\n",
       "      <td>0.043</td>\n",
       "    </tr>\n",
       "    <tr>\n",
       "      <th>4</th>\n",
       "      <td>107.028217</td>\n",
       "      <td>55.437684</td>\n",
       "      <td>39633328093007230</td>\n",
       "      <td>896</td>\n",
       "      <td>7022</td>\n",
       "      <td>sv1</td>\n",
       "      <td>bright</td>\n",
       "      <td>39633328093007230</td>\n",
       "      <td>0.111449</td>\n",
       "      <td>0.000007</td>\n",
       "      <td>...</td>\n",
       "      <td>1.057430</td>\n",
       "      <td>-54.459007</td>\n",
       "      <td>2MASSJ07080676+5526156</td>\n",
       "      <td>1</td>\n",
       "      <td>0.1114</td>\n",
       "      <td>16.833</td>\n",
       "      <td>0.735</td>\n",
       "      <td>1.748</td>\n",
       "      <td>-9.999</td>\n",
       "      <td>0.048</td>\n",
       "    </tr>\n",
       "    <tr>\n",
       "      <th>...</th>\n",
       "      <td>...</td>\n",
       "      <td>...</td>\n",
       "      <td>...</td>\n",
       "      <td>...</td>\n",
       "      <td>...</td>\n",
       "      <td>...</td>\n",
       "      <td>...</td>\n",
       "      <td>...</td>\n",
       "      <td>...</td>\n",
       "      <td>...</td>\n",
       "      <td>...</td>\n",
       "      <td>...</td>\n",
       "      <td>...</td>\n",
       "      <td>...</td>\n",
       "      <td>...</td>\n",
       "      <td>...</td>\n",
       "      <td>...</td>\n",
       "      <td>...</td>\n",
       "      <td>...</td>\n",
       "      <td>...</td>\n",
       "      <td>...</td>\n",
       "    </tr>\n",
       "    <tr>\n",
       "      <th>6693</th>\n",
       "      <td>244.011073</td>\n",
       "      <td>54.792625</td>\n",
       "      <td>39633319008142712</td>\n",
       "      <td>3442</td>\n",
       "      <td>10156</td>\n",
       "      <td>sv3</td>\n",
       "      <td>bright</td>\n",
       "      <td>39633319008142712</td>\n",
       "      <td>0.084561</td>\n",
       "      <td>0.000028</td>\n",
       "      <td>...</td>\n",
       "      <td>1.536539</td>\n",
       "      <td>65.694590</td>\n",
       "      <td>2MASXJ16160269+5447335</td>\n",
       "      <td>1</td>\n",
       "      <td>0.0846</td>\n",
       "      <td>16.966</td>\n",
       "      <td>0.782</td>\n",
       "      <td>-9.999</td>\n",
       "      <td>-9.999</td>\n",
       "      <td>0.081</td>\n",
       "    </tr>\n",
       "    <tr>\n",
       "      <th>6694</th>\n",
       "      <td>237.860902</td>\n",
       "      <td>43.776960</td>\n",
       "      <td>39633145246518309</td>\n",
       "      <td>3332</td>\n",
       "      <td>9924</td>\n",
       "      <td>sv3</td>\n",
       "      <td>bright</td>\n",
       "      <td>39633145246518309</td>\n",
       "      <td>0.039946</td>\n",
       "      <td>0.000007</td>\n",
       "      <td>...</td>\n",
       "      <td>2.743919</td>\n",
       "      <td>4.097952</td>\n",
       "      <td>2MASXJ15512663+4346375</td>\n",
       "      <td>1</td>\n",
       "      <td>0.0400</td>\n",
       "      <td>14.853</td>\n",
       "      <td>0.786</td>\n",
       "      <td>1.249</td>\n",
       "      <td>0.086</td>\n",
       "      <td>0.117</td>\n",
       "    </tr>\n",
       "    <tr>\n",
       "      <th>6695</th>\n",
       "      <td>208.292365</td>\n",
       "      <td>4.993865</td>\n",
       "      <td>39627908930605749</td>\n",
       "      <td>3188</td>\n",
       "      <td>26432</td>\n",
       "      <td>sv3</td>\n",
       "      <td>bright</td>\n",
       "      <td>39627908930605749</td>\n",
       "      <td>0.079132</td>\n",
       "      <td>0.000028</td>\n",
       "      <td>...</td>\n",
       "      <td>4.116712</td>\n",
       "      <td>-65.938730</td>\n",
       "      <td>2MASXJ13531018+0459376</td>\n",
       "      <td>0</td>\n",
       "      <td>0.0791</td>\n",
       "      <td>16.187</td>\n",
       "      <td>0.722</td>\n",
       "      <td>1.145</td>\n",
       "      <td>0.468</td>\n",
       "      <td>0.221</td>\n",
       "    </tr>\n",
       "    <tr>\n",
       "      <th>6696</th>\n",
       "      <td>218.144929</td>\n",
       "      <td>2.030844</td>\n",
       "      <td>39627836704689175</td>\n",
       "      <td>3381</td>\n",
       "      <td>25976</td>\n",
       "      <td>sv3</td>\n",
       "      <td>bright</td>\n",
       "      <td>39627836704689175</td>\n",
       "      <td>0.111539</td>\n",
       "      <td>0.000019</td>\n",
       "      <td>...</td>\n",
       "      <td>1.402337</td>\n",
       "      <td>-9.072643</td>\n",
       "      <td>2MASSJ14323478+0201510</td>\n",
       "      <td>1</td>\n",
       "      <td>0.1114</td>\n",
       "      <td>17.318</td>\n",
       "      <td>0.795</td>\n",
       "      <td>1.763</td>\n",
       "      <td>-9.999</td>\n",
       "      <td>0.024</td>\n",
       "    </tr>\n",
       "    <tr>\n",
       "      <th>6697</th>\n",
       "      <td>179.144275</td>\n",
       "      <td>53.974236</td>\n",
       "      <td>39633307779992839</td>\n",
       "      <td>2610</td>\n",
       "      <td>5631</td>\n",
       "      <td>sv2</td>\n",
       "      <td>bright</td>\n",
       "      <td>39633307779992839</td>\n",
       "      <td>0.051873</td>\n",
       "      <td>0.000007</td>\n",
       "      <td>...</td>\n",
       "      <td>2.001953</td>\n",
       "      <td>35.846912</td>\n",
       "      <td>2MASXJ11563466+5358272</td>\n",
       "      <td>1</td>\n",
       "      <td>0.0519</td>\n",
       "      <td>14.784</td>\n",
       "      <td>0.715</td>\n",
       "      <td>0.803</td>\n",
       "      <td>0.191</td>\n",
       "      <td>0.073</td>\n",
       "    </tr>\n",
       "  </tbody>\n",
       "</table>\n",
       "<p>6698 rows × 60 columns</p>\n",
       "</div>"
      ],
      "text/plain": [
       "            ra_1      dec_1         targetid_1    id  healpix survey program  \\\n",
       "0     217.502600  -0.423927  39627776298319962  3372    25956    sv3  bright   \n",
       "1     151.360019   2.654791  39627853704202540  3276    27257    sv3  bright   \n",
       "2     182.799845  55.493936  39633328818619707  2687    11180    sv2  bright   \n",
       "3     184.349227   0.919071  39627811979265877  3474    26279    sv3  bright   \n",
       "4     107.028217  55.437684  39633328093007230   896     7022    sv1  bright   \n",
       "...          ...        ...                ...   ...      ...    ...     ...   \n",
       "6693  244.011073  54.792625  39633319008142712  3442    10156    sv3  bright   \n",
       "6694  237.860902  43.776960  39633145246518309  3332     9924    sv3  bright   \n",
       "6695  208.292365   4.993865  39627908930605749  3188    26432    sv3  bright   \n",
       "6696  218.144929   2.030844  39627836704689175  3381    25976    sv3  bright   \n",
       "6697  179.144275  53.974236  39633307779992839  2610     5631    sv2  bright   \n",
       "\n",
       "             targetid.1       z_1      zerr  ...  circ_radius  pos_angle  \\\n",
       "0     39627776298319962  0.135313  0.000004  ...     3.590161   5.206202   \n",
       "1     39627853704202540  0.097422  0.000037  ...     2.376711  -9.414450   \n",
       "2     39633328818619707  0.093323  0.000012  ...     3.736264  10.410058   \n",
       "3     39627811979265877  0.120947  0.000025  ...     0.871863 -63.032223   \n",
       "4     39633328093007230  0.111449  0.000007  ...     1.057430 -54.459007   \n",
       "...                 ...       ...       ...  ...          ...        ...   \n",
       "6693  39633319008142712  0.084561  0.000028  ...     1.536539  65.694590   \n",
       "6694  39633145246518309  0.039946  0.000007  ...     2.743919   4.097952   \n",
       "6695  39627908930605749  0.079132  0.000028  ...     4.116712 -65.938730   \n",
       "6696  39627836704689175  0.111539  0.000019  ...     1.402337  -9.072643   \n",
       "6697  39633307779992839  0.051873  0.000007  ...     2.001953  35.846912   \n",
       "\n",
       "                       tmass  flag     z_2    rmag  g_r_PS1_5_cor  W2_W3  \\\n",
       "0     2MASSJ14300062-0025259     0  0.1353  17.293          0.624  3.627   \n",
       "1     2MASSJ10052642+0239171     1  0.0974  17.032          0.655  2.436   \n",
       "2     2MASXJ12111203+5529384     1  0.0933  15.235          0.775  0.587   \n",
       "3     2MASSJ12172379+0055096     1  0.1210  17.778          0.797  3.067   \n",
       "4     2MASSJ07080676+5526156     1  0.1114  16.833          0.735  1.748   \n",
       "...                      ...   ...     ...     ...            ...    ...   \n",
       "6693  2MASXJ16160269+5447335     1  0.0846  16.966          0.782 -9.999   \n",
       "6694  2MASXJ15512663+4346375     1  0.0400  14.853          0.786  1.249   \n",
       "6695  2MASXJ13531018+0459376     0  0.0791  16.187          0.722  1.145   \n",
       "6696  2MASSJ14323478+0201510     1  0.1114  17.318          0.795  1.763   \n",
       "6697  2MASXJ11563466+5358272     1  0.0519  14.784          0.715  0.803   \n",
       "\n",
       "      W2_W3_err  PS1_ibumpy  \n",
       "0         0.107       0.274  \n",
       "1        -9.999       0.088  \n",
       "2        -9.999       0.065  \n",
       "3        -9.999       0.043  \n",
       "4        -9.999       0.048  \n",
       "...         ...         ...  \n",
       "6693     -9.999       0.081  \n",
       "6694      0.086       0.117  \n",
       "6695      0.468       0.221  \n",
       "6696     -9.999       0.024  \n",
       "6697      0.191       0.073  \n",
       "\n",
       "[6698 rows x 60 columns]"
      ]
     },
     "execution_count": 4,
     "metadata": {},
     "output_type": "execute_result"
    }
   ],
   "source": [
    "fuji = pd.read_csv(\"fuji_full_fp_sample.csv\")\n",
    "fuji = fuji.sample(frac=1).reset_index(drop=True)\n",
    "fuji"
   ]
  },
  {
   "cell_type": "code",
   "execution_count": 5,
   "id": "biblical-boating",
   "metadata": {},
   "outputs": [
    {
     "data": {
      "image/png": "[encoded data removed]",
      "text/plain": [
       "<Figure size 432x288 with 1 Axes>"
      ]
     },
     "metadata": {
      "needs_background": "light"
     },
     "output_type": "display_data"
    }
   ],
   "source": [
    "plt.hist(fuji.flag)\n",
    "plt.show()"
   ]
  },
  {
   "cell_type": "code",
   "execution_count": 6,
   "id": "crucial-wisconsin",
   "metadata": {},
   "outputs": [
    {
     "name": "stdout",
     "output_type": "stream",
     "text": [
      "6698\n"
     ]
    }
   ],
   "source": [
    "print (len(fuji))"
   ]
  },
  {
   "cell_type": "code",
   "execution_count": 7,
   "id": "senior-ordinance",
   "metadata": {},
   "outputs": [],
   "source": [
    "fuji_train = fuji.head(4000)\n",
    "fuji_test = fuji.tail(2698)"
   ]
  },
  {
   "cell_type": "code",
   "execution_count": 8,
   "id": "brutal-annex",
   "metadata": {},
   "outputs": [
    {
     "data": {
      "text/plain": [
       "Index(['ra_1', 'dec_1', 'targetid_1', 'id', 'healpix', 'survey', 'program',\n",
       "       'targetid.1', 'z_1', 'zerr', 'zwarn', 'spectype', 'subtype',\n",
       "       'deltachi2', 'healpix_id', 'obsconditions', 'release', 'brickid_1',\n",
       "       'brick_objid', 'sersic_1', 'coadd_numexp', 'coadd_exptime',\n",
       "       'coadd_numnight', 'coadd_numtile', 'healpix_id.1', 'objid_1',\n",
       "       'brickid.1', 'brickname_1', 'ppxf_sigma', 'ppxf_sigma_error', 'DER_SNR',\n",
       "       'snr_ppxf', 'TYPE', 'SERSIC_2', 'Z_PHOT_MEDIAN', 'Z_PHOT_L95', 'mag_g',\n",
       "       'mag_r', 'mag_z', 'mag_B', 'mag_g_err', 'mag_r_err', 'mag_z_err',\n",
       "       'fibre_mag_g', 'fibre_mag_r', 'fibre_mag_z', 'uncor_radius',\n",
       "       'uncor_radius_err', 'BA_ratio', 'BA_ratio_error', 'circ_radius',\n",
       "       'pos_angle', 'tmass', 'flag', 'z_2', 'rmag', 'g_r_PS1_5_cor', 'W2_W3',\n",
       "       'W2_W3_err', 'PS1_ibumpy'],\n",
       "      dtype='object')"
      ]
     },
     "execution_count": 8,
     "metadata": {},
     "output_type": "execute_result"
    }
   ],
   "source": [
    "fuji.keys()"
   ]
  },
  {
   "cell_type": "code",
   "execution_count": 19,
   "id": "broad-federal",
   "metadata": {},
   "outputs": [
    {
     "data": {
      "text/plain": [
       "['sersic_1',\n",
       " 'mag_g',\n",
       " 'mag_r',\n",
       " 'mag_z',\n",
       " 'uncor_radius',\n",
       " 'BA_ratio',\n",
       " 'pos_angle',\n",
       " 'g_r_PS1_5_cor',\n",
       " 'W2_W3']"
      ]
     },
     "execution_count": 19,
     "metadata": {},
     "output_type": "execute_result"
    }
   ],
   "source": [
    "cols = ['sersic_1','mag_g','mag_r','mag_z','uncor_radius','BA_ratio','pos_angle','g_r_PS1_5_cor','W2_W3']\n",
    "cols"
   ]
  },
  {
   "cell_type": "code",
   "execution_count": 20,
   "id": "linear-traffic",
   "metadata": {},
   "outputs": [],
   "source": [
    "clf = tree.DecisionTreeClassifier(max_depth=٥)"
   ]
  },
  {
   "cell_type": "code",
   "execution_count": 21,
   "id": "loose-experiment",
   "metadata": {},
   "outputs": [
    {
     "data": {
      "text/plain": [
       "DecisionTreeClassifier(max_depth=7)"
      ]
     },
     "execution_count": 21,
     "metadata": {},
     "output_type": "execute_result"
    }
   ],
   "source": [
    "clf.fit(fuji_train[cols],fuji_train.flag)"
   ]
  },
  {
   "cell_type": "code",
   "execution_count": 22,
   "id": "respiratory-catch",
   "metadata": {},
   "outputs": [],
   "source": [
    "train_predictions = clf.predict(fuji_train[cols])"
   ]
  },
  {
   "cell_type": "code",
   "execution_count": 23,
   "id": "usual-england",
   "metadata": {},
   "outputs": [],
   "source": [
    "test_predictions = clf.predict(fuji_test[cols])"
   ]
  },
  {
   "cell_type": "code",
   "execution_count": 24,
   "id": "married-steps",
   "metadata": {},
   "outputs": [
    {
     "data": {
      "text/plain": [
       "0.9005"
      ]
     },
     "execution_count": 24,
     "metadata": {},
     "output_type": "execute_result"
    }
   ],
   "source": [
    "train_accuracy = metrics.accuracy_score(fuji_train.flag, train_predictions)\n",
    "train_accuracy"
   ]
  },
  {
   "cell_type": "code",
   "execution_count": 25,
   "id": "editorial-indonesian",
   "metadata": {},
   "outputs": [
    {
     "data": {
      "text/plain": [
       "0.832468495181616"
      ]
     },
     "execution_count": 25,
     "metadata": {},
     "output_type": "execute_result"
    }
   ],
   "source": [
    "test_accuracy = metrics.accuracy_score(fuji_test.flag, test_predictions)\n",
    "test_accuracy"
   ]
  },
  {
   "cell_type": "code",
   "execution_count": 26,
   "id": "exclusive-gentleman",
   "metadata": {},
   "outputs": [],
   "source": [
    "train_accuracies = []; test_accuracies= []; depth = []\n",
    "for i in range(24):\n",
    "    clf = tree.DecisionTreeClassifier(max_depth=i+1)\n",
    "    clf.fit(fuji_train[cols],fuji_train.flag)\n",
    "    train_predictions = clf.predict(fuji_train[cols])\n",
    "    test_predictions = clf.predict(fuji_test[cols])\n",
    "    train_accuracy = metrics.accuracy_score(fuji_train.flag, train_predictions)\n",
    "    train_accuracies.append(train_accuracy)\n",
    "    test_accuracy = metrics.accuracy_score(fuji_test.flag, test_predictions)\n",
    "    test_accuracies.append(test_accuracy)\n",
    "    depth.append(i+1)"
   ]
  },
  {
   "cell_type": "code",
   "execution_count": 27,
   "id": "following-queens",
   "metadata": {},
   "outputs": [
    {
     "data": {
      "image/png": "[encoded data removed]",
      "text/plain": [
       "<Figure size 432x288 with 1 Axes>"
      ]
     },
     "metadata": {
      "needs_background": "light"
     },
     "output_type": "display_data"
    }
   ],
   "source": [
    "plt.plot(depth,train_accuracies, color=\"red\",label=\"train accuracy\")\n",
    "plt.plot(depth,test_accuracies, color=\"blue\",label=\"trst accuracy\")\n",
    "plt.grid()\n",
    "plt.legend()\n",
    "plt.show()"
   ]
  },
  {
   "cell_type": "code",
   "execution_count": null,
   "id": "compliant-adobe",
   "metadata": {},
   "outputs": [],
   "source": []
  }
 ],
 "metadata": {
  "kernelspec": {
   "display_name": "Python 3",
   "language": "python",
   "name": "python3"
  },
  "language_info": {
   "codemirror_mode": {
    "name": "ipython",
    "version": 3
   },
   "file_extension": ".py",
   "mimetype": "text/x-python",
   "name": "python",
   "nbconvert_exporter": "python",
   "pygments_lexer": "ipython3",
   "version": "3.8.3"
  }
 },
 "nbformat": 4,
 "nbformat_minor": 5
}
