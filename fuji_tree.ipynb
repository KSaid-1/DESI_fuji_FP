{
 "cells": [
  {
   "cell_type": "code",
   "execution_count": 1,
   "id": "copyrighted-palace",
   "metadata": {},
   "outputs": [],
   "source": [
    "import numpy as np\n",
    "import matplotlib.pyplot as plt\n",
    "import pandas as pd\n",
    "from sklearn import tree, metrics\n",
    "from sklearn.tree import export_graphviz\n",
    "from matplotlib.ticker import MaxNLocator\n",
    "import seaborn as sns\n",
    "from os import system as sys"
   ]
  },
  {
   "cell_type": "code",
   "execution_count": 2,
   "id": "limiting-commonwealth",
   "metadata": {},
   "outputs": [
    {
     "data": {
      "text/html": [
       "<div>\n",
       "<style scoped>\n",
       "    .dataframe tbody tr th:only-of-type {\n",
       "        vertical-align: middle;\n",
       "    }\n",
       "\n",
       "    .dataframe tbody tr th {\n",
       "        vertical-align: top;\n",
       "    }\n",
       "\n",
       "    .dataframe thead th {\n",
       "        text-align: right;\n",
       "    }\n",
       "</style>\n",
       "<table border=\"1\" class=\"dataframe\">\n",
       "  <thead>\n",
       "    <tr style=\"text-align: right;\">\n",
       "      <th></th>\n",
       "      <th>ra_1</th>\n",
       "      <th>dec_1</th>\n",
       "      <th>targetid_1</th>\n",
       "      <th>id</th>\n",
       "      <th>healpix</th>\n",
       "      <th>survey</th>\n",
       "      <th>program</th>\n",
       "      <th>targetid.1</th>\n",
       "      <th>z_1</th>\n",
       "      <th>zerr</th>\n",
       "      <th>...</th>\n",
       "      <th>circ_radius</th>\n",
       "      <th>pos_angle</th>\n",
       "      <th>tmass</th>\n",
       "      <th>flag</th>\n",
       "      <th>z_2</th>\n",
       "      <th>rmag</th>\n",
       "      <th>g_r_PS1_5_cor</th>\n",
       "      <th>W2_W3</th>\n",
       "      <th>W2_W3_err</th>\n",
       "      <th>PS1_ibumpy</th>\n",
       "    </tr>\n",
       "  </thead>\n",
       "  <tbody>\n",
       "    <tr>\n",
       "      <th>0</th>\n",
       "      <td>134.020514</td>\n",
       "      <td>81.772358</td>\n",
       "      <td>39633559480173375</td>\n",
       "      <td>1347</td>\n",
       "      <td>8140</td>\n",
       "      <td>sv1</td>\n",
       "      <td>bright</td>\n",
       "      <td>39633559480173375</td>\n",
       "      <td>0.124471</td>\n",
       "      <td>0.000009</td>\n",
       "      <td>...</td>\n",
       "      <td>4.018244</td>\n",
       "      <td>-33.471046</td>\n",
       "      <td>2MASXJ08560498+8146209</td>\n",
       "      <td>0</td>\n",
       "      <td>0.1245</td>\n",
       "      <td>15.467</td>\n",
       "      <td>1.047</td>\n",
       "      <td>1.831</td>\n",
       "      <td>0.151</td>\n",
       "      <td>0.389</td>\n",
       "    </tr>\n",
       "    <tr>\n",
       "      <th>1</th>\n",
       "      <td>134.623597</td>\n",
       "      <td>1.035963</td>\n",
       "      <td>39627811144600333</td>\n",
       "      <td>1246</td>\n",
       "      <td>4098</td>\n",
       "      <td>sv1</td>\n",
       "      <td>bright</td>\n",
       "      <td>39627811144600333</td>\n",
       "      <td>0.072361</td>\n",
       "      <td>0.000023</td>\n",
       "      <td>...</td>\n",
       "      <td>4.783089</td>\n",
       "      <td>-84.540500</td>\n",
       "      <td>2MASXJ08582964+0102094</td>\n",
       "      <td>1</td>\n",
       "      <td>0.0724</td>\n",
       "      <td>15.768</td>\n",
       "      <td>0.674</td>\n",
       "      <td>-9.999</td>\n",
       "      <td>-9.999</td>\n",
       "      <td>0.460</td>\n",
       "    </tr>\n",
       "    <tr>\n",
       "      <th>2</th>\n",
       "      <td>195.504334</td>\n",
       "      <td>27.652957</td>\n",
       "      <td>39628433277325829</td>\n",
       "      <td>3176</td>\n",
       "      <td>10379</td>\n",
       "      <td>sv3</td>\n",
       "      <td>bright</td>\n",
       "      <td>39628433277325829</td>\n",
       "      <td>0.023683</td>\n",
       "      <td>0.000015</td>\n",
       "      <td>...</td>\n",
       "      <td>4.697832</td>\n",
       "      <td>28.052300</td>\n",
       "      <td>2MASXJ13020106+2739109</td>\n",
       "      <td>1</td>\n",
       "      <td>0.0237</td>\n",
       "      <td>15.061</td>\n",
       "      <td>0.650</td>\n",
       "      <td>1.046</td>\n",
       "      <td>0.529</td>\n",
       "      <td>0.202</td>\n",
       "    </tr>\n",
       "    <tr>\n",
       "      <th>3</th>\n",
       "      <td>267.752201</td>\n",
       "      <td>65.188168</td>\n",
       "      <td>39633446317854064</td>\n",
       "      <td>3481</td>\n",
       "      <td>10239</td>\n",
       "      <td>sv3</td>\n",
       "      <td>bright</td>\n",
       "      <td>39633446317854064</td>\n",
       "      <td>0.037370</td>\n",
       "      <td>0.000004</td>\n",
       "      <td>...</td>\n",
       "      <td>6.300570</td>\n",
       "      <td>-80.987564</td>\n",
       "      <td>2MASXJ17510046+6511174</td>\n",
       "      <td>0</td>\n",
       "      <td>0.0374</td>\n",
       "      <td>14.518</td>\n",
       "      <td>0.592</td>\n",
       "      <td>3.250</td>\n",
       "      <td>0.030</td>\n",
       "      <td>0.201</td>\n",
       "    </tr>\n",
       "    <tr>\n",
       "      <th>4</th>\n",
       "      <td>213.673381</td>\n",
       "      <td>0.192687</td>\n",
       "      <td>39627794350608431</td>\n",
       "      <td>3204</td>\n",
       "      <td>26048</td>\n",
       "      <td>sv3</td>\n",
       "      <td>bright</td>\n",
       "      <td>39627794350608431</td>\n",
       "      <td>0.123680</td>\n",
       "      <td>0.000035</td>\n",
       "      <td>...</td>\n",
       "      <td>0.744052</td>\n",
       "      <td>-45.216217</td>\n",
       "      <td>2MASSJ14144159+0011336</td>\n",
       "      <td>1</td>\n",
       "      <td>0.1237</td>\n",
       "      <td>17.673</td>\n",
       "      <td>0.753</td>\n",
       "      <td>2.037</td>\n",
       "      <td>-9.999</td>\n",
       "      <td>0.073</td>\n",
       "    </tr>\n",
       "    <tr>\n",
       "      <th>...</th>\n",
       "      <td>...</td>\n",
       "      <td>...</td>\n",
       "      <td>...</td>\n",
       "      <td>...</td>\n",
       "      <td>...</td>\n",
       "      <td>...</td>\n",
       "      <td>...</td>\n",
       "      <td>...</td>\n",
       "      <td>...</td>\n",
       "      <td>...</td>\n",
       "      <td>...</td>\n",
       "      <td>...</td>\n",
       "      <td>...</td>\n",
       "      <td>...</td>\n",
       "      <td>...</td>\n",
       "      <td>...</td>\n",
       "      <td>...</td>\n",
       "      <td>...</td>\n",
       "      <td>...</td>\n",
       "      <td>...</td>\n",
       "      <td>...</td>\n",
       "    </tr>\n",
       "    <tr>\n",
       "      <th>6693</th>\n",
       "      <td>175.740140</td>\n",
       "      <td>55.361013</td>\n",
       "      <td>39633325303792494</td>\n",
       "      <td>2648</td>\n",
       "      <td>5979</td>\n",
       "      <td>sv2</td>\n",
       "      <td>bright</td>\n",
       "      <td>39633325303792494</td>\n",
       "      <td>0.051720</td>\n",
       "      <td>0.000011</td>\n",
       "      <td>...</td>\n",
       "      <td>0.978437</td>\n",
       "      <td>-67.162030</td>\n",
       "      <td>2MASSJ11425763+5521397</td>\n",
       "      <td>1</td>\n",
       "      <td>0.0517</td>\n",
       "      <td>16.561</td>\n",
       "      <td>0.748</td>\n",
       "      <td>1.290</td>\n",
       "      <td>-9.999</td>\n",
       "      <td>0.040</td>\n",
       "    </tr>\n",
       "    <tr>\n",
       "      <th>6694</th>\n",
       "      <td>183.542563</td>\n",
       "      <td>1.276898</td>\n",
       "      <td>39627818006479809</td>\n",
       "      <td>3463</td>\n",
       "      <td>26285</td>\n",
       "      <td>sv3</td>\n",
       "      <td>bright</td>\n",
       "      <td>39627818006479809</td>\n",
       "      <td>0.075111</td>\n",
       "      <td>0.000011</td>\n",
       "      <td>...</td>\n",
       "      <td>2.992783</td>\n",
       "      <td>-44.308353</td>\n",
       "      <td>2MASXJ12141023+0116365</td>\n",
       "      <td>1</td>\n",
       "      <td>0.0751</td>\n",
       "      <td>16.477</td>\n",
       "      <td>0.812</td>\n",
       "      <td>1.579</td>\n",
       "      <td>0.471</td>\n",
       "      <td>0.065</td>\n",
       "    </tr>\n",
       "    <tr>\n",
       "      <th>6695</th>\n",
       "      <td>181.890007</td>\n",
       "      <td>54.693355</td>\n",
       "      <td>39633318404163076</td>\n",
       "      <td>2682</td>\n",
       "      <td>11179</td>\n",
       "      <td>sv2</td>\n",
       "      <td>bright</td>\n",
       "      <td>39633318404163076</td>\n",
       "      <td>0.081916</td>\n",
       "      <td>0.000022</td>\n",
       "      <td>...</td>\n",
       "      <td>3.776596</td>\n",
       "      <td>24.936028</td>\n",
       "      <td>2MASXJ12073364+5441363</td>\n",
       "      <td>0</td>\n",
       "      <td>0.0819</td>\n",
       "      <td>15.256</td>\n",
       "      <td>0.637</td>\n",
       "      <td>2.746</td>\n",
       "      <td>0.061</td>\n",
       "      <td>0.194</td>\n",
       "    </tr>\n",
       "    <tr>\n",
       "      <th>6696</th>\n",
       "      <td>172.926862</td>\n",
       "      <td>49.878468</td>\n",
       "      <td>39633247985994267</td>\n",
       "      <td>2619</td>\n",
       "      <td>5613</td>\n",
       "      <td>sv2</td>\n",
       "      <td>bright</td>\n",
       "      <td>39633247985994267</td>\n",
       "      <td>0.068790</td>\n",
       "      <td>0.000011</td>\n",
       "      <td>...</td>\n",
       "      <td>2.027929</td>\n",
       "      <td>1.248259</td>\n",
       "      <td>2MASXJ11314243+4952424</td>\n",
       "      <td>1</td>\n",
       "      <td>0.0688</td>\n",
       "      <td>16.413</td>\n",
       "      <td>0.656</td>\n",
       "      <td>1.818</td>\n",
       "      <td>-9.999</td>\n",
       "      <td>0.066</td>\n",
       "    </tr>\n",
       "    <tr>\n",
       "      <th>6697</th>\n",
       "      <td>176.295313</td>\n",
       "      <td>-1.335490</td>\n",
       "      <td>39627757486867470</td>\n",
       "      <td>975</td>\n",
       "      <td>26962</td>\n",
       "      <td>sv1</td>\n",
       "      <td>bright</td>\n",
       "      <td>39627757486867470</td>\n",
       "      <td>0.106304</td>\n",
       "      <td>0.000009</td>\n",
       "      <td>...</td>\n",
       "      <td>1.999294</td>\n",
       "      <td>-64.818960</td>\n",
       "      <td>2MASSJ11451087-0120076</td>\n",
       "      <td>1</td>\n",
       "      <td>0.1063</td>\n",
       "      <td>16.088</td>\n",
       "      <td>0.806</td>\n",
       "      <td>2.321</td>\n",
       "      <td>0.175</td>\n",
       "      <td>0.053</td>\n",
       "    </tr>\n",
       "  </tbody>\n",
       "</table>\n",
       "<p>6698 rows × 60 columns</p>\n",
       "</div>"
      ],
      "text/plain": [
       "            ra_1      dec_1         targetid_1    id  healpix survey program  \\\n",
       "0     134.020514  81.772358  39633559480173375  1347     8140    sv1  bright   \n",
       "1     134.623597   1.035963  39627811144600333  1246     4098    sv1  bright   \n",
       "2     195.504334  27.652957  39628433277325829  3176    10379    sv3  bright   \n",
       "3     267.752201  65.188168  39633446317854064  3481    10239    sv3  bright   \n",
       "4     213.673381   0.192687  39627794350608431  3204    26048    sv3  bright   \n",
       "...          ...        ...                ...   ...      ...    ...     ...   \n",
       "6693  175.740140  55.361013  39633325303792494  2648     5979    sv2  bright   \n",
       "6694  183.542563   1.276898  39627818006479809  3463    26285    sv3  bright   \n",
       "6695  181.890007  54.693355  39633318404163076  2682    11179    sv2  bright   \n",
       "6696  172.926862  49.878468  39633247985994267  2619     5613    sv2  bright   \n",
       "6697  176.295313  -1.335490  39627757486867470   975    26962    sv1  bright   \n",
       "\n",
       "             targetid.1       z_1      zerr  ...  circ_radius  pos_angle  \\\n",
       "0     39633559480173375  0.124471  0.000009  ...     4.018244 -33.471046   \n",
       "1     39627811144600333  0.072361  0.000023  ...     4.783089 -84.540500   \n",
       "2     39628433277325829  0.023683  0.000015  ...     4.697832  28.052300   \n",
       "3     39633446317854064  0.037370  0.000004  ...     6.300570 -80.987564   \n",
       "4     39627794350608431  0.123680  0.000035  ...     0.744052 -45.216217   \n",
       "...                 ...       ...       ...  ...          ...        ...   \n",
       "6693  39633325303792494  0.051720  0.000011  ...     0.978437 -67.162030   \n",
       "6694  39627818006479809  0.075111  0.000011  ...     2.992783 -44.308353   \n",
       "6695  39633318404163076  0.081916  0.000022  ...     3.776596  24.936028   \n",
       "6696  39633247985994267  0.068790  0.000011  ...     2.027929   1.248259   \n",
       "6697  39627757486867470  0.106304  0.000009  ...     1.999294 -64.818960   \n",
       "\n",
       "                       tmass  flag     z_2    rmag  g_r_PS1_5_cor  W2_W3  \\\n",
       "0     2MASXJ08560498+8146209     0  0.1245  15.467          1.047  1.831   \n",
       "1     2MASXJ08582964+0102094     1  0.0724  15.768          0.674 -9.999   \n",
       "2     2MASXJ13020106+2739109     1  0.0237  15.061          0.650  1.046   \n",
       "3     2MASXJ17510046+6511174     0  0.0374  14.518          0.592  3.250   \n",
       "4     2MASSJ14144159+0011336     1  0.1237  17.673          0.753  2.037   \n",
       "...                      ...   ...     ...     ...            ...    ...   \n",
       "6693  2MASSJ11425763+5521397     1  0.0517  16.561          0.748  1.290   \n",
       "6694  2MASXJ12141023+0116365     1  0.0751  16.477          0.812  1.579   \n",
       "6695  2MASXJ12073364+5441363     0  0.0819  15.256          0.637  2.746   \n",
       "6696  2MASXJ11314243+4952424     1  0.0688  16.413          0.656  1.818   \n",
       "6697  2MASSJ11451087-0120076     1  0.1063  16.088          0.806  2.321   \n",
       "\n",
       "      W2_W3_err  PS1_ibumpy  \n",
       "0         0.151       0.389  \n",
       "1        -9.999       0.460  \n",
       "2         0.529       0.202  \n",
       "3         0.030       0.201  \n",
       "4        -9.999       0.073  \n",
       "...         ...         ...  \n",
       "6693     -9.999       0.040  \n",
       "6694      0.471       0.065  \n",
       "6695      0.061       0.194  \n",
       "6696     -9.999       0.066  \n",
       "6697      0.175       0.053  \n",
       "\n",
       "[6698 rows x 60 columns]"
      ]
     },
     "execution_count": 2,
     "metadata": {},
     "output_type": "execute_result"
    }
   ],
   "source": [
    "fuji = pd.read_csv(\"fuji_full_fp_sample.csv\")\n",
    "fuji = fuji.sample(frac=1).reset_index(drop=True)\n",
    "fuji"
   ]
  },
  {
   "cell_type": "code",
   "execution_count": 3,
   "id": "unknown-organic",
   "metadata": {},
   "outputs": [
    {
     "data": {
      "image/png": "[encoded data removed]",
      "text/plain": [
       "<Figure size 432x288 with 1 Axes>"
      ]
     },
     "metadata": {
      "needs_background": "light"
     },
     "output_type": "display_data"
    }
   ],
   "source": [
    "plt.hist(fuji.flag)\n",
    "plt.show()"
   ]
  },
  {
   "cell_type": "code",
   "execution_count": 4,
   "id": "emerging-space",
   "metadata": {},
   "outputs": [],
   "source": [
    "# flag_mapping = {0:\"Spirals\",1:\"Ellipticals\"}\n",
    "# fuji.loc[:,\"flag\"] = fuji.flag.map(flag_mapping)\n",
    "# fuji"
   ]
  },
  {
   "cell_type": "code",
   "execution_count": 5,
   "id": "loved-elevation",
   "metadata": {},
   "outputs": [
    {
     "name": "stdout",
     "output_type": "stream",
     "text": [
      "6698\n"
     ]
    }
   ],
   "source": [
    "print (len(fuji))"
   ]
  },
  {
   "cell_type": "code",
   "execution_count": 6,
   "id": "everyday-action",
   "metadata": {},
   "outputs": [],
   "source": [
    "fuji_train = fuji.head(4000)\n",
    "fuji_test = fuji.tail(2698)"
   ]
  },
  {
   "cell_type": "code",
   "execution_count": 7,
   "id": "wound-designation",
   "metadata": {},
   "outputs": [
    {
     "data": {
      "text/plain": [
       "Index(['ra_1', 'dec_1', 'targetid_1', 'id', 'healpix', 'survey', 'program',\n",
       "       'targetid.1', 'z_1', 'zerr', 'zwarn', 'spectype', 'subtype',\n",
       "       'deltachi2', 'healpix_id', 'obsconditions', 'release', 'brickid_1',\n",
       "       'brick_objid', 'sersic_1', 'coadd_numexp', 'coadd_exptime',\n",
       "       'coadd_numnight', 'coadd_numtile', 'healpix_id.1', 'objid_1',\n",
       "       'brickid.1', 'brickname_1', 'ppxf_sigma', 'ppxf_sigma_error', 'DER_SNR',\n",
       "       'snr_ppxf', 'TYPE', 'SERSIC_2', 'Z_PHOT_MEDIAN', 'Z_PHOT_L95', 'mag_g',\n",
       "       'mag_r', 'mag_z', 'mag_B', 'mag_g_err', 'mag_r_err', 'mag_z_err',\n",
       "       'fibre_mag_g', 'fibre_mag_r', 'fibre_mag_z', 'uncor_radius',\n",
       "       'uncor_radius_err', 'BA_ratio', 'BA_ratio_error', 'circ_radius',\n",
       "       'pos_angle', 'tmass', 'flag', 'z_2', 'rmag', 'g_r_PS1_5_cor', 'W2_W3',\n",
       "       'W2_W3_err', 'PS1_ibumpy'],\n",
       "      dtype='object')"
      ]
     },
     "execution_count": 7,
     "metadata": {},
     "output_type": "execute_result"
    }
   ],
   "source": [
    "fuji.keys()"
   ]
  },
  {
   "cell_type": "code",
   "execution_count": 8,
   "id": "instrumental-whole",
   "metadata": {},
   "outputs": [
    {
     "data": {
      "text/plain": [
       "['sersic_1',\n",
       " 'mag_g',\n",
       " 'mag_r',\n",
       " 'mag_z',\n",
       " 'uncor_radius',\n",
       " 'BA_ratio',\n",
       " 'pos_angle',\n",
       " 'g_r_PS1_5_cor',\n",
       " 'W2_W3']"
      ]
     },
     "execution_count": 8,
     "metadata": {},
     "output_type": "execute_result"
    }
   ],
   "source": [
    "cols = ['sersic_1','mag_g','mag_r','mag_z','uncor_radius','BA_ratio','pos_angle','g_r_PS1_5_cor','W2_W3']\n",
    "cols"
   ]
  },
  {
   "cell_type": "code",
   "execution_count": 9,
   "id": "numerous-journal",
   "metadata": {},
   "outputs": [],
   "source": [
    "clf = tree.DecisionTreeClassifier(max_depth=5)"
   ]
  },
  {
   "cell_type": "code",
   "execution_count": 10,
   "id": "personalized-fruit",
   "metadata": {},
   "outputs": [
    {
     "data": {
      "text/plain": [
       "DecisionTreeClassifier(max_depth=5)"
      ]
     },
     "execution_count": 10,
     "metadata": {},
     "output_type": "execute_result"
    }
   ],
   "source": [
    "clf.fit(fuji_train[cols],fuji_train.flag)"
   ]
  },
  {
   "cell_type": "code",
   "execution_count": 11,
   "id": "british-kuwait",
   "metadata": {},
   "outputs": [],
   "source": [
    "train_predictions = clf.predict(fuji_train[cols])"
   ]
  },
  {
   "cell_type": "code",
   "execution_count": 12,
   "id": "forward-richardson",
   "metadata": {},
   "outputs": [],
   "source": [
    "test_predictions = clf.predict(fuji_test[cols])"
   ]
  },
  {
   "cell_type": "code",
   "execution_count": 13,
   "id": "absolute-franchise",
   "metadata": {},
   "outputs": [
    {
     "data": {
      "text/plain": [
       "0.87125"
      ]
     },
     "execution_count": 13,
     "metadata": {},
     "output_type": "execute_result"
    }
   ],
   "source": [
    "train_accuracy = metrics.accuracy_score(fuji_train.flag, train_predictions)\n",
    "train_accuracy"
   ]
  },
  {
   "cell_type": "code",
   "execution_count": 14,
   "id": "parental-characterization",
   "metadata": {},
   "outputs": [
    {
     "data": {
      "text/plain": [
       "0.8380281690140845"
      ]
     },
     "execution_count": 14,
     "metadata": {},
     "output_type": "execute_result"
    }
   ],
   "source": [
    "test_accuracy = metrics.accuracy_score(fuji_test.flag, test_predictions)\n",
    "test_accuracy"
   ]
  },
  {
   "cell_type": "code",
   "execution_count": 15,
   "id": "attractive-harvest",
   "metadata": {},
   "outputs": [],
   "source": [
    "train_accuracies = []; test_accuracies= []; depth = []\n",
    "for i in range(24):\n",
    "    clf = tree.DecisionTreeClassifier(max_depth=i+1)\n",
    "    clf.fit(fuji_train[cols],fuji_train.flag)\n",
    "    train_predictions = clf.predict(fuji_train[cols])\n",
    "    test_predictions = clf.predict(fuji_test[cols])\n",
    "    train_accuracy = metrics.accuracy_score(fuji_train.flag, train_predictions)\n",
    "    train_accuracies.append(train_accuracy)\n",
    "    test_accuracy = metrics.accuracy_score(fuji_test.flag, test_predictions)\n",
    "    test_accuracies.append(test_accuracy)\n",
    "    depth.append(i+1)"
   ]
  },
  {
   "cell_type": "code",
   "execution_count": 16,
   "id": "reduced-formula",
   "metadata": {},
   "outputs": [
    {
     "data": {
      "image/png": "[encoded data removed]",
      "text/plain": [
       "<Figure size 432x288 with 1 Axes>"
      ]
     },
     "metadata": {
      "needs_background": "light"
     },
     "output_type": "display_data"
    }
   ],
   "source": [
    "plt.plot(depth,train_accuracies, color=\"red\",label=\"train accuracy\")\n",
    "plt.plot(depth,test_accuracies, color=\"blue\",label=\"trst accuracy\")\n",
    "plt.grid()\n",
    "plt.legend()\n",
    "plt.show()"
   ]
  },
  {
   "cell_type": "code",
   "execution_count": 17,
   "id": "indian-workplace",
   "metadata": {},
   "outputs": [
    {
     "data": {
      "text/plain": [
       "array([0, 1, 1, ..., 1, 1, 1])"
      ]
     },
     "execution_count": 17,
     "metadata": {},
     "output_type": "execute_result"
    }
   ],
   "source": [
    "fuji_train[\"flag\"].values"
   ]
  },
  {
   "cell_type": "code",
   "execution_count": 18,
   "id": "wooden-cincinnati",
   "metadata": {},
   "outputs": [],
   "source": [
    "#to do that all what you need is to uncomment cell #3 which change 0 to spirals and 1 to ellipticals\n",
    "# export_graphviz(\n",
    "#             clf,\n",
    "#             out_file=\"fuji_tree.dot\",\n",
    "#             feature_names=cols,\n",
    "#             class_names=fuji_train.flag,\n",
    "#             rounded=True,\n",
    "#             filled=True\n",
    "#         )\n",
    "# sys(\"dot -Tpng fuji_tree.dot -o fuji_tree.png\")"
   ]
  },
  {
   "cell_type": "code",
   "execution_count": null,
   "id": "scientific-antenna",
   "metadata": {},
   "outputs": [],
   "source": []
  },
  {
   "cell_type": "code",
   "execution_count": 19,
   "id": "welsh-welding",
   "metadata": {},
   "outputs": [
    {
     "data": {
      "text/plain": [
       "0.8365306673871927"
      ]
     },
     "execution_count": 19,
     "metadata": {},
     "output_type": "execute_result"
    }
   ],
   "source": [
    "metrics.f1_score(fuji_test.flag, test_predictions)"
   ]
  },
  {
   "cell_type": "code",
   "execution_count": 20,
   "id": "bacterial-rotation",
   "metadata": {},
   "outputs": [
    {
     "data": {
      "text/plain": [
       "0.7367608929401706"
      ]
     },
     "execution_count": 20,
     "metadata": {},
     "output_type": "execute_result"
    }
   ],
   "source": [
    "metrics.precision_score(fuji_test.flag, test_predictions, average=\"macro\")"
   ]
  },
  {
   "cell_type": "code",
   "execution_count": 21,
   "id": "threaded-resolution",
   "metadata": {},
   "outputs": [
    {
     "data": {
      "text/plain": [
       "0.7757598220904374"
      ]
     },
     "execution_count": 21,
     "metadata": {},
     "output_type": "execute_result"
    }
   ],
   "source": [
    "metrics.precision_score(fuji_test.flag, test_predictions, average=\"micro\")"
   ]
  },
  {
   "cell_type": "code",
   "execution_count": 22,
   "id": "rolled-hampton",
   "metadata": {},
   "outputs": [
    {
     "data": {
      "text/plain": [
       "0.7792534761601488"
      ]
     },
     "execution_count": 22,
     "metadata": {},
     "output_type": "execute_result"
    }
   ],
   "source": [
    "metrics.precision_score(fuji_test.flag, test_predictions, average=\"weighted\")"
   ]
  },
  {
   "cell_type": "code",
   "execution_count": 23,
   "id": "recorded-characterization",
   "metadata": {},
   "outputs": [
    {
     "data": {
      "text/plain": [
       "0.7433646861612964"
      ]
     },
     "execution_count": 23,
     "metadata": {},
     "output_type": "execute_result"
    }
   ],
   "source": [
    "metrics.roc_auc_score(fuji_test.flag, test_predictions)"
   ]
  },
  {
   "cell_type": "code",
   "execution_count": 24,
   "id": "golden-consultancy",
   "metadata": {},
   "outputs": [],
   "source": [
    "def true_positive(y_true, y_pred):\n",
    "    tp = 0\n",
    "    for yt, yp in zip(y_true, y_pred):\n",
    "        if yt == 1 and yp == 1:\n",
    "            tp += 1\n",
    "    return tp\n",
    "\n",
    "def true_negative(y_true, y_pred):\n",
    "    tn = 0\n",
    "    for yt, yp in zip(y_true, y_pred):\n",
    "        if yt == 0 and yp == 0:\n",
    "            tn += 1\n",
    "    return tn\n",
    "\n",
    "def false_positive(y_true, y_pred):\n",
    "    fp = 0\n",
    "    for yt, yp in zip(y_true, y_pred):\n",
    "        if yt == 0 and yp == 1:\n",
    "            fp += 1\n",
    "    return fp\n",
    "\n",
    "def false_negative(y_true, y_pred):\n",
    "    fn = 0\n",
    "    for yt, yp in zip(y_true, y_pred):\n",
    "        if yt == 1 and yp == 0:\n",
    "            fn += 1\n",
    "    return fn"
   ]
  },
  {
   "cell_type": "code",
   "execution_count": 25,
   "id": "grave-trademark",
   "metadata": {},
   "outputs": [
    {
     "name": "stdout",
     "output_type": "stream",
     "text": [
      "test sample length =  2698\n",
      "true positive =  1548\n",
      "true negative =  545\n",
      "false positive (Type-I error) =  281\n",
      "false negative (Type-II error) =  324\n"
     ]
    }
   ],
   "source": [
    "print (\"test sample length = \",len(fuji_test) )\n",
    "print (\"true positive = \", true_positive(fuji_test.flag, test_predictions))\n",
    "print (\"true negative = \", true_negative(fuji_test.flag, test_predictions))\n",
    "print (\"false positive (Type-I error) = \", false_positive(fuji_test.flag, test_predictions))\n",
    "print (\"false negative (Type-II error) = \", false_negative(fuji_test.flag, test_predictions))"
   ]
  },
  {
   "cell_type": "code",
   "execution_count": 41,
   "id": "computational-advantage",
   "metadata": {},
   "outputs": [
    {
     "name": "stdout",
     "output_type": "stream",
     "text": [
      "[[ 545  324]\n",
      " [ 281 1548]]\n"
     ]
    }
   ],
   "source": [
    "cm = metrics.confusion_matrix(fuji_test.flag, test_predictions)\n",
    "cm = cm.T\n",
    "print (cm)"
   ]
  },
  {
   "cell_type": "code",
   "execution_count": 45,
   "id": "surrounded-devon",
   "metadata": {},
   "outputs": [
    {
     "data": {
      "image/png": "[encoded data removed]",
      "text/plain": [
       "<Figure size 720x720 with 2 Axes>"
      ]
     },
     "metadata": {},
     "output_type": "display_data"
    }
   ],
   "source": [
    "plt.figure(figsize=(10,10))\n",
    "#cmap = sns.cubehelix_palette(50, hue=0.05, rot=0, light=0.9, dark=0, as_cmap=True)\n",
    "sns.set(font_scale=2.5)\n",
    "sns.heatmap(cm, annot=True, cmap=\"Blues\", cbar=True, fmt=\"d\",linewidths=.5)\n",
    "#sns.heatmap(cm, annot=True, cmap=\"hot\", cbar=False)\n",
    "plt.xlabel('Actual Classifications', fontsize=20)\n",
    "plt.ylabel('Predicted Classifications', fontsize=20)\n",
    "plt.show()"
   ]
  },
  {
   "cell_type": "code",
   "execution_count": null,
   "id": "elder-heart",
   "metadata": {},
   "outputs": [],
   "source": []
  }
 ],
 "metadata": {
  "kernelspec": {
   "display_name": "Python 3",
   "language": "python",
   "name": "python3"
  },
  "language_info": {
   "codemirror_mode": {
    "name": "ipython",
    "version": 3
   },
   "file_extension": ".py",
   "mimetype": "text/x-python",
   "name": "python",
   "nbconvert_exporter": "python",
   "pygments_lexer": "ipython3",
   "version": "3.8.3"
  }
 },
 "nbformat": 4,
 "nbformat_minor": 5
}
