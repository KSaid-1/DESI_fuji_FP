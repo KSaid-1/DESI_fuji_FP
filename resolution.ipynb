{
 "cells": [
  {
   "cell_type": "code",
   "execution_count": 1,
   "id": "2e34b4d9",
   "metadata": {},
   "outputs": [],
   "source": [
    "import numpy as np"
   ]
  },
  {
   "cell_type": "code",
   "execution_count": 2,
   "id": "c0ec09d5",
   "metadata": {},
   "outputs": [],
   "source": [
    "#Speed of light\n",
    "c = 299792.458"
   ]
  },
  {
   "cell_type": "code",
   "execution_count": 18,
   "id": "98691766",
   "metadata": {},
   "outputs": [
    {
     "name": "stdout",
     "output_type": "stream",
     "text": [
      "Taipan Resolution in the blue and red arms are,  65.0 and 46.0 km/s\n"
     ]
    }
   ],
   "source": [
    "#Taipan resolution\n",
    "rp_b = 1960 #Resolution Lambda/delta_Lambda (blue)\n",
    "rp_r = 2740 #Resolution Lambda/delta_Lambda (red)\n",
    "FWHM = 2.*np.sqrt(2.*np.log(2.))\n",
    "res_b = c*(1./(FWHM*rp_b))\n",
    "res_r = c*(1./(FWHM*rp_r))\n",
    "print(\"Taipan Resolution in the blue and red arms are, \", round(res_b,0), \"and\", round(res_r,0), \"km/s\")"
   ]
  },
  {
   "cell_type": "code",
   "execution_count": 23,
   "id": "a74cb69b",
   "metadata": {},
   "outputs": [
    {
     "name": "stdout",
     "output_type": "stream",
     "text": [
      "DESI Resolution in the b, r, and z arms are,  46.0 , 31.0 and 29.0 km/s\n"
     ]
    }
   ],
   "source": [
    "#DESI resolution (Fig. 33: DESI Collabration 2022)\n",
    "rp_b_desi = np.mean([2000.,3500.])\n",
    "rp_r_desi = np.mean([3300.,5000.])\n",
    "rp_z_desi = np.mean([3500.,5200.])\n",
    "res_b_desi = c*(1./(FWHM*rp_b_desi))\n",
    "res_r_desi = c*(1./(FWHM*rp_r_desi))\n",
    "res_z_desi = c*(1./(FWHM*rp_z_desi))\n",
    "print(\"DESI Resolution in the b, r, and z arms are, \", round(res_b_desi,0), \",\", round(res_r_desi,0), \"and\", round(res_z_desi,0), \"km/s\")"
   ]
  }
 ],
 "metadata": {
  "kernelspec": {
   "display_name": "Python 3 (ipykernel)",
   "language": "python",
   "name": "python3"
  },
  "language_info": {
   "codemirror_mode": {
    "name": "ipython",
    "version": 3
   },
   "file_extension": ".py",
   "mimetype": "text/x-python",
   "name": "python",
   "nbconvert_exporter": "python",
   "pygments_lexer": "ipython3",
   "version": "3.8.18"
  }
 },
 "nbformat": 4,
 "nbformat_minor": 5
}
