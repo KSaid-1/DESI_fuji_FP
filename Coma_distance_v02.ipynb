{
 "cells": [
  {
   "cell_type": "code",
   "execution_count": 66,
   "id": "dental-heading",
   "metadata": {},
   "outputs": [],
   "source": [
    "import numpy as np\n",
    "import matplotlib.pyplot as plt\n",
    "import pandas as pd\n",
    "import seaborn as sns\n",
    "import astropy\n",
    "from astropy.io import fits\n",
    "from astropy import cosmology\n",
    "from astropy.cosmology import FlatLambdaCDM\n",
    "import astropy.units as u\n",
    "cosmo = FlatLambdaCDM(H0=100. * u.km / u.s / u.Mpc, Om0=0.31)\n",
    "from calc_kcor import*\n",
    "import pvhub\n",
    "c = 299792.458"
   ]
  },
  {
   "cell_type": "code",
   "execution_count": 2,
   "id": "saved-church",
   "metadata": {},
   "outputs": [
    {
     "data": {
      "text/html": [
       "<div>\n",
       "<style scoped>\n",
       "    .dataframe tbody tr th:only-of-type {\n",
       "        vertical-align: middle;\n",
       "    }\n",
       "\n",
       "    .dataframe tbody tr th {\n",
       "        vertical-align: top;\n",
       "    }\n",
       "\n",
       "    .dataframe thead th {\n",
       "        text-align: right;\n",
       "    }\n",
       "</style>\n",
       "<table border=\"1\" class=\"dataframe\">\n",
       "  <thead>\n",
       "    <tr style=\"text-align: right;\">\n",
       "      <th></th>\n",
       "      <th>#fibermap_targetid</th>\n",
       "      <th>fibermap_i</th>\n",
       "      <th>ra_1</th>\n",
       "      <th>dec_1</th>\n",
       "      <th>targetid</th>\n",
       "      <th>id</th>\n",
       "      <th>healpix</th>\n",
       "      <th>survey</th>\n",
       "      <th>program</th>\n",
       "      <th>targetid.1</th>\n",
       "      <th>...</th>\n",
       "      <th>pv</th>\n",
       "      <th>pverr</th>\n",
       "      <th>zp</th>\n",
       "      <th>zhd</th>\n",
       "      <th>idx</th>\n",
       "      <th>d2d</th>\n",
       "      <th>logdist_corr</th>\n",
       "      <th>logdist_err_corr</th>\n",
       "      <th>pv_corr</th>\n",
       "      <th>pverr_corr</th>\n",
       "    </tr>\n",
       "  </thead>\n",
       "  <tbody>\n",
       "    <tr>\n",
       "      <th>0</th>\n",
       "      <td>39628417112478213</td>\n",
       "      <td>400</td>\n",
       "      <td>192.260477</td>\n",
       "      <td>26.893112</td>\n",
       "      <td>39628417112478213</td>\n",
       "      <td>1301</td>\n",
       "      <td>28148</td>\n",
       "      <td>sv1</td>\n",
       "      <td>bright</td>\n",
       "      <td>39628417112478213</td>\n",
       "      <td>...</td>\n",
       "      <td>715.900844</td>\n",
       "      <td>1769.034190</td>\n",
       "      <td>-0.001541</td>\n",
       "      <td>0.027153</td>\n",
       "      <td>6192</td>\n",
       "      <td>0.149657</td>\n",
       "      <td>0.029889</td>\n",
       "      <td>0.100890</td>\n",
       "      <td>524.165632</td>\n",
       "      <td>1769.285380</td>\n",
       "    </tr>\n",
       "    <tr>\n",
       "      <th>1</th>\n",
       "      <td>39628417133447721</td>\n",
       "      <td>426</td>\n",
       "      <td>193.579225</td>\n",
       "      <td>27.068031</td>\n",
       "      <td>39628417133447721</td>\n",
       "      <td>1304</td>\n",
       "      <td>28149</td>\n",
       "      <td>sv1</td>\n",
       "      <td>bright</td>\n",
       "      <td>39628417133447721</td>\n",
       "      <td>...</td>\n",
       "      <td>3630.261093</td>\n",
       "      <td>1979.890546</td>\n",
       "      <td>-0.001604</td>\n",
       "      <td>0.030405</td>\n",
       "      <td>33995</td>\n",
       "      <td>0.020194</td>\n",
       "      <td>0.173326</td>\n",
       "      <td>0.100507</td>\n",
       "      <td>3414.854109</td>\n",
       "      <td>1980.173823</td>\n",
       "    </tr>\n",
       "    <tr>\n",
       "      <th>2</th>\n",
       "      <td>39627769709071900</td>\n",
       "      <td>191</td>\n",
       "      <td>184.913600</td>\n",
       "      <td>-0.750861</td>\n",
       "      <td>39627769709071900</td>\n",
       "      <td>1516</td>\n",
       "      <td>26254</td>\n",
       "      <td>sv1</td>\n",
       "      <td>bright</td>\n",
       "      <td>39627769709071900</td>\n",
       "      <td>...</td>\n",
       "      <td>-2132.960665</td>\n",
       "      <td>2159.343503</td>\n",
       "      <td>-0.000654</td>\n",
       "      <td>0.031779</td>\n",
       "      <td>3391</td>\n",
       "      <td>0.000032</td>\n",
       "      <td>-0.111073</td>\n",
       "      <td>0.101393</td>\n",
       "      <td>-2365.838643</td>\n",
       "      <td>2159.647080</td>\n",
       "    </tr>\n",
       "    <tr>\n",
       "      <th>3</th>\n",
       "      <td>39633076111803113</td>\n",
       "      <td>63</td>\n",
       "      <td>119.188267</td>\n",
       "      <td>39.927879</td>\n",
       "      <td>39633076111803113</td>\n",
       "      <td>996</td>\n",
       "      <td>6541</td>\n",
       "      <td>sv1</td>\n",
       "      <td>bright</td>\n",
       "      <td>39633076111803113</td>\n",
       "      <td>...</td>\n",
       "      <td>20.932642</td>\n",
       "      <td>939.867093</td>\n",
       "      <td>-0.000137</td>\n",
       "      <td>0.013181</td>\n",
       "      <td>21262</td>\n",
       "      <td>0.237557</td>\n",
       "      <td>-0.008601</td>\n",
       "      <td>0.104740</td>\n",
       "      <td>-77.188733</td>\n",
       "      <td>939.990915</td>\n",
       "    </tr>\n",
       "    <tr>\n",
       "      <th>4</th>\n",
       "      <td>39628422523128777</td>\n",
       "      <td>203</td>\n",
       "      <td>193.922076</td>\n",
       "      <td>27.250763</td>\n",
       "      <td>39628422523128777</td>\n",
       "      <td>1304</td>\n",
       "      <td>28149</td>\n",
       "      <td>sv1</td>\n",
       "      <td>bright</td>\n",
       "      <td>39628422523128777</td>\n",
       "      <td>...</td>\n",
       "      <td>-1099.996339</td>\n",
       "      <td>1707.819657</td>\n",
       "      <td>-0.000073</td>\n",
       "      <td>0.024700</td>\n",
       "      <td>32909</td>\n",
       "      <td>0.000008</td>\n",
       "      <td>-0.076048</td>\n",
       "      <td>0.101109</td>\n",
       "      <td>-1284.695449</td>\n",
       "      <td>1708.061104</td>\n",
       "    </tr>\n",
       "    <tr>\n",
       "      <th>...</th>\n",
       "      <td>...</td>\n",
       "      <td>...</td>\n",
       "      <td>...</td>\n",
       "      <td>...</td>\n",
       "      <td>...</td>\n",
       "      <td>...</td>\n",
       "      <td>...</td>\n",
       "      <td>...</td>\n",
       "      <td>...</td>\n",
       "      <td>...</td>\n",
       "      <td>...</td>\n",
       "      <td>...</td>\n",
       "      <td>...</td>\n",
       "      <td>...</td>\n",
       "      <td>...</td>\n",
       "      <td>...</td>\n",
       "      <td>...</td>\n",
       "      <td>...</td>\n",
       "      <td>...</td>\n",
       "      <td>...</td>\n",
       "      <td>...</td>\n",
       "    </tr>\n",
       "    <tr>\n",
       "      <th>4186</th>\n",
       "      <td>39632986789905375</td>\n",
       "      <td>570</td>\n",
       "      <td>252.485796</td>\n",
       "      <td>35.198279</td>\n",
       "      <td>39632986789905375</td>\n",
       "      <td>3347</td>\n",
       "      <td>9429</td>\n",
       "      <td>sv3</td>\n",
       "      <td>bright</td>\n",
       "      <td>39632986789905375</td>\n",
       "      <td>...</td>\n",
       "      <td>1567.827904</td>\n",
       "      <td>12315.564270</td>\n",
       "      <td>-0.000143</td>\n",
       "      <td>0.099817</td>\n",
       "      <td>12827</td>\n",
       "      <td>0.013831</td>\n",
       "      <td>0.012563</td>\n",
       "      <td>0.184578</td>\n",
       "      <td>838.296840</td>\n",
       "      <td>12316.086652</td>\n",
       "    </tr>\n",
       "    <tr>\n",
       "      <th>4187</th>\n",
       "      <td>39627652587330772</td>\n",
       "      <td>44</td>\n",
       "      <td>36.125245</td>\n",
       "      <td>-5.566223</td>\n",
       "      <td>39627652587330772</td>\n",
       "      <td>933</td>\n",
       "      <td>17683</td>\n",
       "      <td>sv1</td>\n",
       "      <td>bright</td>\n",
       "      <td>39627652587330772</td>\n",
       "      <td>...</td>\n",
       "      <td>-1610.026917</td>\n",
       "      <td>3494.709956</td>\n",
       "      <td>-0.000894</td>\n",
       "      <td>0.045573</td>\n",
       "      <td>7941</td>\n",
       "      <td>80.027029</td>\n",
       "      <td>-0.063812</td>\n",
       "      <td>0.114791</td>\n",
       "      <td>-1942.917085</td>\n",
       "      <td>3495.093250</td>\n",
       "    </tr>\n",
       "    <tr>\n",
       "      <th>4188</th>\n",
       "      <td>39627628545578443</td>\n",
       "      <td>30</td>\n",
       "      <td>36.097224</td>\n",
       "      <td>-6.412998</td>\n",
       "      <td>39627628545578443</td>\n",
       "      <td>922</td>\n",
       "      <td>17680</td>\n",
       "      <td>sv1</td>\n",
       "      <td>bright</td>\n",
       "      <td>39627628545578443</td>\n",
       "      <td>...</td>\n",
       "      <td>-5257.334901</td>\n",
       "      <td>4004.290864</td>\n",
       "      <td>-0.000183</td>\n",
       "      <td>0.049973</td>\n",
       "      <td>7038</td>\n",
       "      <td>80.393518</td>\n",
       "      <td>-0.166009</td>\n",
       "      <td>0.118127</td>\n",
       "      <td>-5627.991997</td>\n",
       "      <td>4004.705590</td>\n",
       "    </tr>\n",
       "    <tr>\n",
       "      <th>4189</th>\n",
       "      <td>39633307725466372</td>\n",
       "      <td>337</td>\n",
       "      <td>173.525018</td>\n",
       "      <td>53.919783</td>\n",
       "      <td>39633307725466372</td>\n",
       "      <td>2657</td>\n",
       "      <td>5976</td>\n",
       "      <td>sv2</td>\n",
       "      <td>bright</td>\n",
       "      <td>39633307725466372</td>\n",
       "      <td>...</td>\n",
       "      <td>-11674.944029</td>\n",
       "      <td>9768.632841</td>\n",
       "      <td>-0.000250</td>\n",
       "      <td>0.072290</td>\n",
       "      <td>25868</td>\n",
       "      <td>0.278661</td>\n",
       "      <td>-0.250681</td>\n",
       "      <td>0.200608</td>\n",
       "      <td>-12207.362099</td>\n",
       "      <td>9768.983616</td>\n",
       "    </tr>\n",
       "    <tr>\n",
       "      <th>4190</th>\n",
       "      <td>39627586577372913</td>\n",
       "      <td>174</td>\n",
       "      <td>35.756452</td>\n",
       "      <td>-8.314618</td>\n",
       "      <td>39627586577372913</td>\n",
       "      <td>1187</td>\n",
       "      <td>36782</td>\n",
       "      <td>sv1</td>\n",
       "      <td>bright</td>\n",
       "      <td>39627586577372913</td>\n",
       "      <td>...</td>\n",
       "      <td>1452.005615</td>\n",
       "      <td>4139.562548</td>\n",
       "      <td>-0.000427</td>\n",
       "      <td>0.054231</td>\n",
       "      <td>7038</td>\n",
       "      <td>81.350138</td>\n",
       "      <td>0.028761</td>\n",
       "      <td>0.113177</td>\n",
       "      <td>1052.065223</td>\n",
       "      <td>4140.029611</td>\n",
       "    </tr>\n",
       "  </tbody>\n",
       "</table>\n",
       "<p>4191 rows × 125 columns</p>\n",
       "</div>"
      ],
      "text/plain": [
       "      #fibermap_targetid  fibermap_i        ra_1      dec_1  \\\n",
       "0      39628417112478213         400  192.260477  26.893112   \n",
       "1      39628417133447721         426  193.579225  27.068031   \n",
       "2      39627769709071900         191  184.913600  -0.750861   \n",
       "3      39633076111803113          63  119.188267  39.927879   \n",
       "4      39628422523128777         203  193.922076  27.250763   \n",
       "...                  ...         ...         ...        ...   \n",
       "4186   39632986789905375         570  252.485796  35.198279   \n",
       "4187   39627652587330772          44   36.125245  -5.566223   \n",
       "4188   39627628545578443          30   36.097224  -6.412998   \n",
       "4189   39633307725466372         337  173.525018  53.919783   \n",
       "4190   39627586577372913         174   35.756452  -8.314618   \n",
       "\n",
       "               targetid    id  healpix survey program         targetid.1  ...  \\\n",
       "0     39628417112478213  1301    28148    sv1  bright  39628417112478213  ...   \n",
       "1     39628417133447721  1304    28149    sv1  bright  39628417133447721  ...   \n",
       "2     39627769709071900  1516    26254    sv1  bright  39627769709071900  ...   \n",
       "3     39633076111803113   996     6541    sv1  bright  39633076111803113  ...   \n",
       "4     39628422523128777  1304    28149    sv1  bright  39628422523128777  ...   \n",
       "...                 ...   ...      ...    ...     ...                ...  ...   \n",
       "4186  39632986789905375  3347     9429    sv3  bright  39632986789905375  ...   \n",
       "4187  39627652587330772   933    17683    sv1  bright  39627652587330772  ...   \n",
       "4188  39627628545578443   922    17680    sv1  bright  39627628545578443  ...   \n",
       "4189  39633307725466372  2657     5976    sv2  bright  39633307725466372  ...   \n",
       "4190  39627586577372913  1187    36782    sv1  bright  39627586577372913  ...   \n",
       "\n",
       "                pv         pverr        zp       zhd    idx        d2d  \\\n",
       "0       715.900844   1769.034190 -0.001541  0.027153   6192   0.149657   \n",
       "1      3630.261093   1979.890546 -0.001604  0.030405  33995   0.020194   \n",
       "2     -2132.960665   2159.343503 -0.000654  0.031779   3391   0.000032   \n",
       "3        20.932642    939.867093 -0.000137  0.013181  21262   0.237557   \n",
       "4     -1099.996339   1707.819657 -0.000073  0.024700  32909   0.000008   \n",
       "...            ...           ...       ...       ...    ...        ...   \n",
       "4186   1567.827904  12315.564270 -0.000143  0.099817  12827   0.013831   \n",
       "4187  -1610.026917   3494.709956 -0.000894  0.045573   7941  80.027029   \n",
       "4188  -5257.334901   4004.290864 -0.000183  0.049973   7038  80.393518   \n",
       "4189 -11674.944029   9768.632841 -0.000250  0.072290  25868   0.278661   \n",
       "4190   1452.005615   4139.562548 -0.000427  0.054231   7038  81.350138   \n",
       "\n",
       "      logdist_corr  logdist_err_corr       pv_corr    pverr_corr  \n",
       "0         0.029889          0.100890    524.165632   1769.285380  \n",
       "1         0.173326          0.100507   3414.854109   1980.173823  \n",
       "2        -0.111073          0.101393  -2365.838643   2159.647080  \n",
       "3        -0.008601          0.104740    -77.188733    939.990915  \n",
       "4        -0.076048          0.101109  -1284.695449   1708.061104  \n",
       "...            ...               ...           ...           ...  \n",
       "4186      0.012563          0.184578    838.296840  12316.086652  \n",
       "4187     -0.063812          0.114791  -1942.917085   3495.093250  \n",
       "4188     -0.166009          0.118127  -5627.991997   4004.705590  \n",
       "4189     -0.250681          0.200608 -12207.362099   9768.983616  \n",
       "4190      0.028761          0.113177   1052.065223   4140.029611  \n",
       "\n",
       "[4191 rows x 125 columns]"
      ]
     },
     "execution_count": 2,
     "metadata": {},
     "output_type": "execute_result"
    }
   ],
   "source": [
    "fuji_pv = pd.read_csv(\"fuji_pv_new.csv\")\n",
    "fuji_pv"
   ]
  },
  {
   "cell_type": "code",
   "execution_count": 3,
   "id": "5ec8cd1e",
   "metadata": {},
   "outputs": [],
   "source": [
    "# fuji_pv = fuji_pv.drop(fuji_pv[fuji_pv[\"flag\"] == 0].index)\n",
    "# fuji_pv"
   ]
  },
  {
   "cell_type": "code",
   "execution_count": 4,
   "id": "internal-storage",
   "metadata": {},
   "outputs": [
    {
     "data": {
      "text/plain": [
       "array(['#fibermap_targetid', 'fibermap_i', 'ra_1', 'dec_1', 'targetid',\n",
       "       'id', 'healpix', 'survey', 'program', 'targetid.1', 'z_x', 'zerr',\n",
       "       'zwarn', 'spectype', 'subtype', 'deltachi2', 'healpix_id',\n",
       "       'targetid.2', 'target_ra', 'target_dec', 'obsconditions',\n",
       "       'release', 'brickid_1', 'brick_objid', 'fiberflux_ivar_g',\n",
       "       'fiberflux_ivar_r', 'fiberflux_ivar_z', 'morphtype', 'flux_g',\n",
       "       'flux_r', 'flux_z', 'flux_ivar_g', 'flux_ivar_r', 'flux_ivar_z',\n",
       "       'ebv', 'flux_w1', 'flux_w2', 'flux_ivar_w1', 'flux_ivar_w2',\n",
       "       'fiberflux_g', 'fiberflux_r', 'fiberflux_z', 'fibertotflux_g',\n",
       "       'fibertotflux_r', 'fibertotflux_z', 'sersic_1', 'coadd_numexp',\n",
       "       'coadd_exptime', 'coadd_numnight', 'coadd_numtile', 'healpix_id.1',\n",
       "       'objid_1', 'brickid.1', 'brickname_1', 'ra.1', 'dec.1',\n",
       "       'ppxf_sigma', 'ppxf_sigma_error', 'DER_SNR', 'snr_ppxf', 'OBJID_2',\n",
       "       'BRICKID_2', 'BRICKNAME_2', 'RA_2', 'DEC_2', 'TYPE', 'SERSIC_2',\n",
       "       'Z_PHOT_MEDIAN', 'Z_PHOT_L95', 'mag_g', 'mag_r', 'mag_z', 'mag_B',\n",
       "       'mag_g_err', 'mag_r_err', 'mag_z_err', 'fibre_mag_g',\n",
       "       'fibre_mag_r', 'fibre_mag_z', 'uncor_radius', 'BA_ratio',\n",
       "       'circ_radius', 'uncor_radius_err', 'err_shape_e1', 'err_shape_e2',\n",
       "       'pos_angle', 'Separation', 'mag_r_corrected', 'BA_ratio_error',\n",
       "       'TargetId', 'tmass', 'flag', 'z_y', 'rmag', 'g_r_PS1_5_cor',\n",
       "       'W2_W3', 'W2_W3_err', 'PS1_ibumpy', 'zcmb', 'zcmb_group', 'dz',\n",
       "       'dz_group', 'r', 'er', 'kcor_r', 'kcor_g', 'i', 'ei', 's', 'es',\n",
       "       'absmag_r', 'Sn', 'logdist', 'logdist_err', 'logdist_alpha', 'pv',\n",
       "       'pverr', 'zp', 'zhd', 'idx', 'd2d', 'logdist_corr',\n",
       "       'logdist_err_corr', 'pv_corr', 'pverr_corr'], dtype=object)"
      ]
     },
     "execution_count": 4,
     "metadata": {},
     "output_type": "execute_result"
    }
   ],
   "source": [
    "fuji_pv.columns.values"
   ]
  },
  {
   "cell_type": "code",
   "execution_count": 5,
   "id": "auburn-novel",
   "metadata": {},
   "outputs": [
    {
     "data": {
      "image/png": "[encoded data removed]",
      "text/plain": [
       "<Figure size 640x480 with 1 Axes>"
      ]
     },
     "metadata": {},
     "output_type": "display_data"
    }
   ],
   "source": [
    "plt.hist(fuji_pv[\"logdist_corr\"])\n",
    "plt.show()"
   ]
  },
  {
   "cell_type": "code",
   "execution_count": 6,
   "id": "tamil-tomorrow",
   "metadata": {},
   "outputs": [],
   "source": [
    "# hdu = fits.open('./Coma_chris/coma_filtered_inturnaround_desi.fits')\n",
    "# t = hdu[1].data\n",
    "# target_id = t['target_id']\n",
    "# target_id"
   ]
  },
  {
   "cell_type": "code",
   "execution_count": 7,
   "id": "understood-shopping",
   "metadata": {},
   "outputs": [
    {
     "data": {
      "text/html": [
       "<div>\n",
       "<style scoped>\n",
       "    .dataframe tbody tr th:only-of-type {\n",
       "        vertical-align: middle;\n",
       "    }\n",
       "\n",
       "    .dataframe tbody tr th {\n",
       "        vertical-align: top;\n",
       "    }\n",
       "\n",
       "    .dataframe thead th {\n",
       "        text-align: right;\n",
       "    }\n",
       "</style>\n",
       "<table border=\"1\" class=\"dataframe\">\n",
       "  <thead>\n",
       "    <tr style=\"text-align: right;\">\n",
       "      <th></th>\n",
       "      <th>target_id</th>\n",
       "      <th>sdss_id</th>\n",
       "      <th>ra</th>\n",
       "      <th>dec</th>\n",
       "      <th>z</th>\n",
       "      <th>z_err</th>\n",
       "      <th>spectype</th>\n",
       "      <th>survey</th>\n",
       "      <th>program</th>\n",
       "      <th>MASKBITS</th>\n",
       "      <th>...</th>\n",
       "      <th>lum_r</th>\n",
       "      <th>lum_z</th>\n",
       "      <th>in_desi</th>\n",
       "      <th>in_sdss</th>\n",
       "      <th>coma_fof</th>\n",
       "      <th>stillinsample</th>\n",
       "      <th>in_turnaround</th>\n",
       "      <th>delta_R</th>\n",
       "      <th>delta_v</th>\n",
       "      <th>vel</th>\n",
       "    </tr>\n",
       "  </thead>\n",
       "  <tbody>\n",
       "    <tr>\n",
       "      <th>0</th>\n",
       "      <td>39628438616676024</td>\n",
       "      <td>0</td>\n",
       "      <td>194.95247</td>\n",
       "      <td>27.982782</td>\n",
       "      <td>0.017865</td>\n",
       "      <td>0.000071</td>\n",
       "      <td>GALAXY</td>\n",
       "      <td>sv3</td>\n",
       "      <td>bright</td>\n",
       "      <td>0</td>\n",
       "      <td>...</td>\n",
       "      <td>5.415526e+08</td>\n",
       "      <td>6.438666e+08</td>\n",
       "      <td>True</td>\n",
       "      <td>False</td>\n",
       "      <td>True</td>\n",
       "      <td>True</td>\n",
       "      <td>True</td>\n",
       "      <td>0.003814</td>\n",
       "      <td>-1609.34470</td>\n",
       "      <td>5307.9717</td>\n",
       "    </tr>\n",
       "    <tr>\n",
       "      <th>1</th>\n",
       "      <td>39628438616675858</td>\n",
       "      <td>1237667444048658525</td>\n",
       "      <td>194.94493</td>\n",
       "      <td>27.973840</td>\n",
       "      <td>0.031485</td>\n",
       "      <td>0.000012</td>\n",
       "      <td>GALAXY</td>\n",
       "      <td>sv3</td>\n",
       "      <td>bright</td>\n",
       "      <td>4096</td>\n",
       "      <td>...</td>\n",
       "      <td>1.492407e+10</td>\n",
       "      <td>2.261809e+10</td>\n",
       "      <td>True</td>\n",
       "      <td>True</td>\n",
       "      <td>True</td>\n",
       "      <td>True</td>\n",
       "      <td>True</td>\n",
       "      <td>0.016424</td>\n",
       "      <td>2375.38800</td>\n",
       "      <td>9290.3710</td>\n",
       "    </tr>\n",
       "    <tr>\n",
       "      <th>2</th>\n",
       "      <td>39628438616675869</td>\n",
       "      <td>1237667324334571832</td>\n",
       "      <td>194.94559</td>\n",
       "      <td>27.991917</td>\n",
       "      <td>0.027993</td>\n",
       "      <td>0.000047</td>\n",
       "      <td>GALAXY</td>\n",
       "      <td>sv3</td>\n",
       "      <td>bright</td>\n",
       "      <td>0</td>\n",
       "      <td>...</td>\n",
       "      <td>8.298975e+08</td>\n",
       "      <td>1.117166e+09</td>\n",
       "      <td>True</td>\n",
       "      <td>True</td>\n",
       "      <td>True</td>\n",
       "      <td>True</td>\n",
       "      <td>True</td>\n",
       "      <td>0.022059</td>\n",
       "      <td>1358.70360</td>\n",
       "      <td>8274.5230</td>\n",
       "    </tr>\n",
       "    <tr>\n",
       "      <th>3</th>\n",
       "      <td>39628438616675853</td>\n",
       "      <td>0</td>\n",
       "      <td>194.94467</td>\n",
       "      <td>28.000118</td>\n",
       "      <td>0.020665</td>\n",
       "      <td>0.000057</td>\n",
       "      <td>GALAXY</td>\n",
       "      <td>sv3</td>\n",
       "      <td>bright</td>\n",
       "      <td>0</td>\n",
       "      <td>...</td>\n",
       "      <td>5.324131e+08</td>\n",
       "      <td>6.815519e+08</td>\n",
       "      <td>True</td>\n",
       "      <td>False</td>\n",
       "      <td>True</td>\n",
       "      <td>True</td>\n",
       "      <td>True</td>\n",
       "      <td>0.035221</td>\n",
       "      <td>-785.92440</td>\n",
       "      <td>6131.1187</td>\n",
       "    </tr>\n",
       "    <tr>\n",
       "      <th>4</th>\n",
       "      <td>39628438616676526</td>\n",
       "      <td>0</td>\n",
       "      <td>194.97472</td>\n",
       "      <td>27.970484</td>\n",
       "      <td>0.022671</td>\n",
       "      <td>0.000039</td>\n",
       "      <td>GALAXY</td>\n",
       "      <td>sv3</td>\n",
       "      <td>bright</td>\n",
       "      <td>0</td>\n",
       "      <td>...</td>\n",
       "      <td>6.044809e+08</td>\n",
       "      <td>8.308895e+08</td>\n",
       "      <td>True</td>\n",
       "      <td>False</td>\n",
       "      <td>True</td>\n",
       "      <td>True</td>\n",
       "      <td>True</td>\n",
       "      <td>0.036667</td>\n",
       "      <td>-197.14447</td>\n",
       "      <td>6719.6430</td>\n",
       "    </tr>\n",
       "    <tr>\n",
       "      <th>...</th>\n",
       "      <td>...</td>\n",
       "      <td>...</td>\n",
       "      <td>...</td>\n",
       "      <td>...</td>\n",
       "      <td>...</td>\n",
       "      <td>...</td>\n",
       "      <td>...</td>\n",
       "      <td>...</td>\n",
       "      <td>...</td>\n",
       "      <td>...</td>\n",
       "      <td>...</td>\n",
       "      <td>...</td>\n",
       "      <td>...</td>\n",
       "      <td>...</td>\n",
       "      <td>...</td>\n",
       "      <td>...</td>\n",
       "      <td>...</td>\n",
       "      <td>...</td>\n",
       "      <td>...</td>\n",
       "      <td>...</td>\n",
       "      <td>...</td>\n",
       "    </tr>\n",
       "    <tr>\n",
       "      <th>1691</th>\n",
       "      <td>39628422497961446</td>\n",
       "      <td>1237667323259781256</td>\n",
       "      <td>192.15393</td>\n",
       "      <td>27.366423</td>\n",
       "      <td>0.026639</td>\n",
       "      <td>0.000005</td>\n",
       "      <td>GALAXY</td>\n",
       "      <td>sv1</td>\n",
       "      <td>bright</td>\n",
       "      <td>0</td>\n",
       "      <td>...</td>\n",
       "      <td>1.049079e+09</td>\n",
       "      <td>1.314343e+09</td>\n",
       "      <td>True</td>\n",
       "      <td>True</td>\n",
       "      <td>True</td>\n",
       "      <td>True</td>\n",
       "      <td>True</td>\n",
       "      <td>4.311669</td>\n",
       "      <td>963.87310</td>\n",
       "      <td>7879.9697</td>\n",
       "    </tr>\n",
       "    <tr>\n",
       "      <th>1692</th>\n",
       "      <td>39628417112476991</td>\n",
       "      <td>0</td>\n",
       "      <td>192.20111</td>\n",
       "      <td>27.035795</td>\n",
       "      <td>0.021341</td>\n",
       "      <td>0.000006</td>\n",
       "      <td>GALAXY</td>\n",
       "      <td>sv1</td>\n",
       "      <td>bright</td>\n",
       "      <td>6144</td>\n",
       "      <td>...</td>\n",
       "      <td>1.078935e+10</td>\n",
       "      <td>1.499522e+10</td>\n",
       "      <td>True</td>\n",
       "      <td>False</td>\n",
       "      <td>True</td>\n",
       "      <td>True</td>\n",
       "      <td>True</td>\n",
       "      <td>4.418866</td>\n",
       "      <td>-587.41345</td>\n",
       "      <td>6329.5303</td>\n",
       "    </tr>\n",
       "    <tr>\n",
       "      <th>1693</th>\n",
       "      <td>0</td>\n",
       "      <td>1237665441516879941</td>\n",
       "      <td>197.69800</td>\n",
       "      <td>28.995218</td>\n",
       "      <td>0.025010</td>\n",
       "      <td>0.000018</td>\n",
       "      <td>NaN</td>\n",
       "      <td>NaN</td>\n",
       "      <td>NaN</td>\n",
       "      <td>0</td>\n",
       "      <td>...</td>\n",
       "      <td>9.811587e+08</td>\n",
       "      <td>8.940419e+08</td>\n",
       "      <td>False</td>\n",
       "      <td>True</td>\n",
       "      <td>True</td>\n",
       "      <td>True</td>\n",
       "      <td>True</td>\n",
       "      <td>4.419212</td>\n",
       "      <td>487.53052</td>\n",
       "      <td>7403.9380</td>\n",
       "    </tr>\n",
       "    <tr>\n",
       "      <th>1694</th>\n",
       "      <td>39628417112478213</td>\n",
       "      <td>1237667322722975777</td>\n",
       "      <td>192.26048</td>\n",
       "      <td>26.893112</td>\n",
       "      <td>0.024620</td>\n",
       "      <td>0.000003</td>\n",
       "      <td>GALAXY</td>\n",
       "      <td>sv1</td>\n",
       "      <td>bright</td>\n",
       "      <td>4096</td>\n",
       "      <td>...</td>\n",
       "      <td>1.147318e+10</td>\n",
       "      <td>1.722939e+10</td>\n",
       "      <td>True</td>\n",
       "      <td>True</td>\n",
       "      <td>True</td>\n",
       "      <td>True</td>\n",
       "      <td>True</td>\n",
       "      <td>4.432741</td>\n",
       "      <td>373.55045</td>\n",
       "      <td>7290.0117</td>\n",
       "    </tr>\n",
       "    <tr>\n",
       "      <th>1695</th>\n",
       "      <td>0</td>\n",
       "      <td>1237667442437062858</td>\n",
       "      <td>192.34323</td>\n",
       "      <td>26.743900</td>\n",
       "      <td>0.024040</td>\n",
       "      <td>0.000043</td>\n",
       "      <td>NaN</td>\n",
       "      <td>NaN</td>\n",
       "      <td>NaN</td>\n",
       "      <td>0</td>\n",
       "      <td>...</td>\n",
       "      <td>1.311679e+09</td>\n",
       "      <td>1.514856e+09</td>\n",
       "      <td>False</td>\n",
       "      <td>True</td>\n",
       "      <td>True</td>\n",
       "      <td>True</td>\n",
       "      <td>True</td>\n",
       "      <td>4.435445</td>\n",
       "      <td>203.74696</td>\n",
       "      <td>7120.3003</td>\n",
       "    </tr>\n",
       "  </tbody>\n",
       "</table>\n",
       "<p>1696 rows × 35 columns</p>\n",
       "</div>"
      ],
      "text/plain": [
       "              target_id              sdss_id         ra        dec         z  \\\n",
       "0     39628438616676024                    0  194.95247  27.982782  0.017865   \n",
       "1     39628438616675858  1237667444048658525  194.94493  27.973840  0.031485   \n",
       "2     39628438616675869  1237667324334571832  194.94559  27.991917  0.027993   \n",
       "3     39628438616675853                    0  194.94467  28.000118  0.020665   \n",
       "4     39628438616676526                    0  194.97472  27.970484  0.022671   \n",
       "...                 ...                  ...        ...        ...       ...   \n",
       "1691  39628422497961446  1237667323259781256  192.15393  27.366423  0.026639   \n",
       "1692  39628417112476991                    0  192.20111  27.035795  0.021341   \n",
       "1693                  0  1237665441516879941  197.69800  28.995218  0.025010   \n",
       "1694  39628417112478213  1237667322722975777  192.26048  26.893112  0.024620   \n",
       "1695                  0  1237667442437062858  192.34323  26.743900  0.024040   \n",
       "\n",
       "         z_err spectype survey program  MASKBITS  ...         lum_r  \\\n",
       "0     0.000071   GALAXY    sv3  bright         0  ...  5.415526e+08   \n",
       "1     0.000012   GALAXY    sv3  bright      4096  ...  1.492407e+10   \n",
       "2     0.000047   GALAXY    sv3  bright         0  ...  8.298975e+08   \n",
       "3     0.000057   GALAXY    sv3  bright         0  ...  5.324131e+08   \n",
       "4     0.000039   GALAXY    sv3  bright         0  ...  6.044809e+08   \n",
       "...        ...      ...    ...     ...       ...  ...           ...   \n",
       "1691  0.000005   GALAXY    sv1  bright         0  ...  1.049079e+09   \n",
       "1692  0.000006   GALAXY    sv1  bright      6144  ...  1.078935e+10   \n",
       "1693  0.000018      NaN    NaN     NaN         0  ...  9.811587e+08   \n",
       "1694  0.000003   GALAXY    sv1  bright      4096  ...  1.147318e+10   \n",
       "1695  0.000043      NaN    NaN     NaN         0  ...  1.311679e+09   \n",
       "\n",
       "             lum_z  in_desi in_sdss  coma_fof  stillinsample  in_turnaround  \\\n",
       "0     6.438666e+08     True   False      True           True           True   \n",
       "1     2.261809e+10     True    True      True           True           True   \n",
       "2     1.117166e+09     True    True      True           True           True   \n",
       "3     6.815519e+08     True   False      True           True           True   \n",
       "4     8.308895e+08     True   False      True           True           True   \n",
       "...            ...      ...     ...       ...            ...            ...   \n",
       "1691  1.314343e+09     True    True      True           True           True   \n",
       "1692  1.499522e+10     True   False      True           True           True   \n",
       "1693  8.940419e+08    False    True      True           True           True   \n",
       "1694  1.722939e+10     True    True      True           True           True   \n",
       "1695  1.514856e+09    False    True      True           True           True   \n",
       "\n",
       "       delta_R     delta_v        vel  \n",
       "0     0.003814 -1609.34470  5307.9717  \n",
       "1     0.016424  2375.38800  9290.3710  \n",
       "2     0.022059  1358.70360  8274.5230  \n",
       "3     0.035221  -785.92440  6131.1187  \n",
       "4     0.036667  -197.14447  6719.6430  \n",
       "...        ...         ...        ...  \n",
       "1691  4.311669   963.87310  7879.9697  \n",
       "1692  4.418866  -587.41345  6329.5303  \n",
       "1693  4.419212   487.53052  7403.9380  \n",
       "1694  4.432741   373.55045  7290.0117  \n",
       "1695  4.435445   203.74696  7120.3003  \n",
       "\n",
       "[1696 rows x 35 columns]"
      ]
     },
     "execution_count": 7,
     "metadata": {},
     "output_type": "execute_result"
    }
   ],
   "source": [
    "coma_desi = pd.read_csv(\"./Coma_chris/coma_all.csv\")\n",
    "coma_desi"
   ]
  },
  {
   "cell_type": "code",
   "execution_count": 8,
   "id": "purple-constitution",
   "metadata": {},
   "outputs": [
    {
     "data": {
      "text/plain": [
       "array(['target_id', 'sdss_id', 'ra', 'dec', 'z', 'z_err', 'spectype',\n",
       "       'survey', 'program', 'MASKBITS', 'BRICKNAME', 'BRICKID',\n",
       "       'BRICK_OBJID', 'PHOTSYS', 'HEALPIX', 'mag_app_g', 'mag_app_r',\n",
       "       'mag_app_z', 'mag_err_g', 'mag_err_r', 'mag_err_z', 'mag_abs_g',\n",
       "       'mag_abs_r', 'mag_abs_z', 'lum_g', 'lum_r', 'lum_z', 'in_desi',\n",
       "       'in_sdss', 'coma_fof', 'stillinsample', 'in_turnaround', 'delta_R',\n",
       "       'delta_v', 'vel'], dtype=object)"
      ]
     },
     "execution_count": 8,
     "metadata": {},
     "output_type": "execute_result"
    }
   ],
   "source": [
    "coma_desi.columns.values"
   ]
  },
  {
   "cell_type": "code",
   "execution_count": 9,
   "id": "liquid-compromise",
   "metadata": {},
   "outputs": [],
   "source": [
    "coma_merged = pd.merge(fuji_pv, coma_desi, left_on='targetid', right_on='target_id')"
   ]
  },
  {
   "cell_type": "code",
   "execution_count": 10,
   "id": "conceptual-partnership",
   "metadata": {},
   "outputs": [
    {
     "data": {
      "text/html": [
       "<div>\n",
       "<style scoped>\n",
       "    .dataframe tbody tr th:only-of-type {\n",
       "        vertical-align: middle;\n",
       "    }\n",
       "\n",
       "    .dataframe tbody tr th {\n",
       "        vertical-align: top;\n",
       "    }\n",
       "\n",
       "    .dataframe thead th {\n",
       "        text-align: right;\n",
       "    }\n",
       "</style>\n",
       "<table border=\"1\" class=\"dataframe\">\n",
       "  <thead>\n",
       "    <tr style=\"text-align: right;\">\n",
       "      <th></th>\n",
       "      <th>#fibermap_targetid</th>\n",
       "      <th>fibermap_i</th>\n",
       "      <th>ra_1</th>\n",
       "      <th>dec_1</th>\n",
       "      <th>targetid</th>\n",
       "      <th>id</th>\n",
       "      <th>healpix</th>\n",
       "      <th>survey_x</th>\n",
       "      <th>program_x</th>\n",
       "      <th>targetid.1</th>\n",
       "      <th>...</th>\n",
       "      <th>lum_r</th>\n",
       "      <th>lum_z</th>\n",
       "      <th>in_desi</th>\n",
       "      <th>in_sdss</th>\n",
       "      <th>coma_fof</th>\n",
       "      <th>stillinsample</th>\n",
       "      <th>in_turnaround</th>\n",
       "      <th>delta_R</th>\n",
       "      <th>delta_v</th>\n",
       "      <th>vel</th>\n",
       "    </tr>\n",
       "  </thead>\n",
       "  <tbody>\n",
       "    <tr>\n",
       "      <th>0</th>\n",
       "      <td>39628417112478213</td>\n",
       "      <td>400</td>\n",
       "      <td>192.260477</td>\n",
       "      <td>26.893112</td>\n",
       "      <td>39628417112478213</td>\n",
       "      <td>1301</td>\n",
       "      <td>28148</td>\n",
       "      <td>sv1</td>\n",
       "      <td>bright</td>\n",
       "      <td>39628417112478213</td>\n",
       "      <td>...</td>\n",
       "      <td>1.147318e+10</td>\n",
       "      <td>1.722939e+10</td>\n",
       "      <td>True</td>\n",
       "      <td>True</td>\n",
       "      <td>True</td>\n",
       "      <td>True</td>\n",
       "      <td>True</td>\n",
       "      <td>4.432741</td>\n",
       "      <td>373.55045</td>\n",
       "      <td>7290.0117</td>\n",
       "    </tr>\n",
       "    <tr>\n",
       "      <th>1</th>\n",
       "      <td>39628417133447721</td>\n",
       "      <td>426</td>\n",
       "      <td>193.579225</td>\n",
       "      <td>27.068031</td>\n",
       "      <td>39628417133447721</td>\n",
       "      <td>1304</td>\n",
       "      <td>28149</td>\n",
       "      <td>sv1</td>\n",
       "      <td>bright</td>\n",
       "      <td>39628417133447721</td>\n",
       "      <td>...</td>\n",
       "      <td>9.881991e+10</td>\n",
       "      <td>1.523824e+11</td>\n",
       "      <td>True</td>\n",
       "      <td>False</td>\n",
       "      <td>True</td>\n",
       "      <td>True</td>\n",
       "      <td>True</td>\n",
       "      <td>2.568768</td>\n",
       "      <td>1306.08560</td>\n",
       "      <td>8221.9330</td>\n",
       "    </tr>\n",
       "    <tr>\n",
       "      <th>2</th>\n",
       "      <td>39628422523128777</td>\n",
       "      <td>203</td>\n",
       "      <td>193.922076</td>\n",
       "      <td>27.250763</td>\n",
       "      <td>39628422523128777</td>\n",
       "      <td>1304</td>\n",
       "      <td>28149</td>\n",
       "      <td>sv1</td>\n",
       "      <td>bright</td>\n",
       "      <td>39628422523128777</td>\n",
       "      <td>...</td>\n",
       "      <td>2.967021e+10</td>\n",
       "      <td>4.544369e+10</td>\n",
       "      <td>True</td>\n",
       "      <td>True</td>\n",
       "      <td>True</td>\n",
       "      <td>True</td>\n",
       "      <td>True</td>\n",
       "      <td>1.972953</td>\n",
       "      <td>93.80087</td>\n",
       "      <td>7010.4140</td>\n",
       "    </tr>\n",
       "    <tr>\n",
       "      <th>3</th>\n",
       "      <td>39628438608283113</td>\n",
       "      <td>309</td>\n",
       "      <td>194.221420</td>\n",
       "      <td>27.929491</td>\n",
       "      <td>39628438608283113</td>\n",
       "      <td>1267</td>\n",
       "      <td>10400</td>\n",
       "      <td>sv1</td>\n",
       "      <td>bright</td>\n",
       "      <td>39628438608283113</td>\n",
       "      <td>...</td>\n",
       "      <td>7.237596e+09</td>\n",
       "      <td>1.118884e+10</td>\n",
       "      <td>True</td>\n",
       "      <td>True</td>\n",
       "      <td>True</td>\n",
       "      <td>True</td>\n",
       "      <td>True</td>\n",
       "      <td>1.093673</td>\n",
       "      <td>-833.89276</td>\n",
       "      <td>6083.1720</td>\n",
       "    </tr>\n",
       "    <tr>\n",
       "      <th>4</th>\n",
       "      <td>39628443939243735</td>\n",
       "      <td>11</td>\n",
       "      <td>193.999798</td>\n",
       "      <td>28.186935</td>\n",
       "      <td>39628443939243735</td>\n",
       "      <td>1267</td>\n",
       "      <td>10400</td>\n",
       "      <td>sv1</td>\n",
       "      <td>bright</td>\n",
       "      <td>39628443939243735</td>\n",
       "      <td>...</td>\n",
       "      <td>4.648998e+09</td>\n",
       "      <td>6.833008e+09</td>\n",
       "      <td>True</td>\n",
       "      <td>True</td>\n",
       "      <td>True</td>\n",
       "      <td>True</td>\n",
       "      <td>True</td>\n",
       "      <td>1.461050</td>\n",
       "      <td>-1374.13450</td>\n",
       "      <td>5543.1180</td>\n",
       "    </tr>\n",
       "    <tr>\n",
       "      <th>...</th>\n",
       "      <td>...</td>\n",
       "      <td>...</td>\n",
       "      <td>...</td>\n",
       "      <td>...</td>\n",
       "      <td>...</td>\n",
       "      <td>...</td>\n",
       "      <td>...</td>\n",
       "      <td>...</td>\n",
       "      <td>...</td>\n",
       "      <td>...</td>\n",
       "      <td>...</td>\n",
       "      <td>...</td>\n",
       "      <td>...</td>\n",
       "      <td>...</td>\n",
       "      <td>...</td>\n",
       "      <td>...</td>\n",
       "      <td>...</td>\n",
       "      <td>...</td>\n",
       "      <td>...</td>\n",
       "      <td>...</td>\n",
       "      <td>...</td>\n",
       "    </tr>\n",
       "    <tr>\n",
       "      <th>227</th>\n",
       "      <td>39628417133449045</td>\n",
       "      <td>156</td>\n",
       "      <td>193.653392</td>\n",
       "      <td>26.934850</td>\n",
       "      <td>39628417133449045</td>\n",
       "      <td>3418</td>\n",
       "      <td>28149</td>\n",
       "      <td>sv3</td>\n",
       "      <td>bright</td>\n",
       "      <td>39628417133449045</td>\n",
       "      <td>...</td>\n",
       "      <td>1.670891e+10</td>\n",
       "      <td>2.352247e+10</td>\n",
       "      <td>True</td>\n",
       "      <td>True</td>\n",
       "      <td>True</td>\n",
       "      <td>True</td>\n",
       "      <td>True</td>\n",
       "      <td>2.627162</td>\n",
       "      <td>-1029.60790</td>\n",
       "      <td>5887.5180</td>\n",
       "    </tr>\n",
       "    <tr>\n",
       "      <th>228</th>\n",
       "      <td>39628427917002028</td>\n",
       "      <td>2564</td>\n",
       "      <td>195.255573</td>\n",
       "      <td>27.520443</td>\n",
       "      <td>39628427917002028</td>\n",
       "      <td>3176</td>\n",
       "      <td>10379</td>\n",
       "      <td>sv3</td>\n",
       "      <td>bright</td>\n",
       "      <td>39628427917002028</td>\n",
       "      <td>...</td>\n",
       "      <td>9.075618e+08</td>\n",
       "      <td>1.209687e+09</td>\n",
       "      <td>True</td>\n",
       "      <td>False</td>\n",
       "      <td>True</td>\n",
       "      <td>True</td>\n",
       "      <td>True</td>\n",
       "      <td>0.898336</td>\n",
       "      <td>1387.40470</td>\n",
       "      <td>8303.1770</td>\n",
       "    </tr>\n",
       "    <tr>\n",
       "      <th>229</th>\n",
       "      <td>39628433268934585</td>\n",
       "      <td>1824</td>\n",
       "      <td>194.778574</td>\n",
       "      <td>27.772473</td>\n",
       "      <td>39628433268934585</td>\n",
       "      <td>3174</td>\n",
       "      <td>10378</td>\n",
       "      <td>sv3</td>\n",
       "      <td>bright</td>\n",
       "      <td>39628433268934585</td>\n",
       "      <td>...</td>\n",
       "      <td>1.571733e+09</td>\n",
       "      <td>2.175264e+09</td>\n",
       "      <td>True</td>\n",
       "      <td>True</td>\n",
       "      <td>True</td>\n",
       "      <td>True</td>\n",
       "      <td>True</td>\n",
       "      <td>0.436897</td>\n",
       "      <td>-736.10370</td>\n",
       "      <td>6180.9175</td>\n",
       "    </tr>\n",
       "    <tr>\n",
       "      <th>230</th>\n",
       "      <td>39628400918267151</td>\n",
       "      <td>611</td>\n",
       "      <td>194.531436</td>\n",
       "      <td>26.326807</td>\n",
       "      <td>39628400918267151</td>\n",
       "      <td>3410</td>\n",
       "      <td>28125</td>\n",
       "      <td>sv3</td>\n",
       "      <td>bright</td>\n",
       "      <td>39628400918267151</td>\n",
       "      <td>...</td>\n",
       "      <td>5.526689e+09</td>\n",
       "      <td>8.056989e+09</td>\n",
       "      <td>True</td>\n",
       "      <td>True</td>\n",
       "      <td>True</td>\n",
       "      <td>True</td>\n",
       "      <td>True</td>\n",
       "      <td>2.862043</td>\n",
       "      <td>-1268.31690</td>\n",
       "      <td>5648.9140</td>\n",
       "    </tr>\n",
       "    <tr>\n",
       "      <th>231</th>\n",
       "      <td>39628427900226901</td>\n",
       "      <td>302</td>\n",
       "      <td>194.233077</td>\n",
       "      <td>27.462405</td>\n",
       "      <td>39628427900226901</td>\n",
       "      <td>3319</td>\n",
       "      <td>10400</td>\n",
       "      <td>sv3</td>\n",
       "      <td>bright</td>\n",
       "      <td>39628427900226901</td>\n",
       "      <td>...</td>\n",
       "      <td>1.116298e+09</td>\n",
       "      <td>1.525716e+09</td>\n",
       "      <td>True</td>\n",
       "      <td>True</td>\n",
       "      <td>True</td>\n",
       "      <td>True</td>\n",
       "      <td>True</td>\n",
       "      <td>1.385850</td>\n",
       "      <td>614.52220</td>\n",
       "      <td>7530.8520</td>\n",
       "    </tr>\n",
       "  </tbody>\n",
       "</table>\n",
       "<p>232 rows × 160 columns</p>\n",
       "</div>"
      ],
      "text/plain": [
       "     #fibermap_targetid  fibermap_i        ra_1      dec_1           targetid  \\\n",
       "0     39628417112478213         400  192.260477  26.893112  39628417112478213   \n",
       "1     39628417133447721         426  193.579225  27.068031  39628417133447721   \n",
       "2     39628422523128777         203  193.922076  27.250763  39628422523128777   \n",
       "3     39628438608283113         309  194.221420  27.929491  39628438608283113   \n",
       "4     39628443939243735          11  193.999798  28.186935  39628443939243735   \n",
       "..                  ...         ...         ...        ...                ...   \n",
       "227   39628417133449045         156  193.653392  26.934850  39628417133449045   \n",
       "228   39628427917002028        2564  195.255573  27.520443  39628427917002028   \n",
       "229   39628433268934585        1824  194.778574  27.772473  39628433268934585   \n",
       "230   39628400918267151         611  194.531436  26.326807  39628400918267151   \n",
       "231   39628427900226901         302  194.233077  27.462405  39628427900226901   \n",
       "\n",
       "       id  healpix survey_x program_x         targetid.1  ...         lum_r  \\\n",
       "0    1301    28148      sv1    bright  39628417112478213  ...  1.147318e+10   \n",
       "1    1304    28149      sv1    bright  39628417133447721  ...  9.881991e+10   \n",
       "2    1304    28149      sv1    bright  39628422523128777  ...  2.967021e+10   \n",
       "3    1267    10400      sv1    bright  39628438608283113  ...  7.237596e+09   \n",
       "4    1267    10400      sv1    bright  39628443939243735  ...  4.648998e+09   \n",
       "..    ...      ...      ...       ...                ...  ...           ...   \n",
       "227  3418    28149      sv3    bright  39628417133449045  ...  1.670891e+10   \n",
       "228  3176    10379      sv3    bright  39628427917002028  ...  9.075618e+08   \n",
       "229  3174    10378      sv3    bright  39628433268934585  ...  1.571733e+09   \n",
       "230  3410    28125      sv3    bright  39628400918267151  ...  5.526689e+09   \n",
       "231  3319    10400      sv3    bright  39628427900226901  ...  1.116298e+09   \n",
       "\n",
       "            lum_z  in_desi in_sdss  coma_fof  stillinsample  in_turnaround  \\\n",
       "0    1.722939e+10     True    True      True           True           True   \n",
       "1    1.523824e+11     True   False      True           True           True   \n",
       "2    4.544369e+10     True    True      True           True           True   \n",
       "3    1.118884e+10     True    True      True           True           True   \n",
       "4    6.833008e+09     True    True      True           True           True   \n",
       "..            ...      ...     ...       ...            ...            ...   \n",
       "227  2.352247e+10     True    True      True           True           True   \n",
       "228  1.209687e+09     True   False      True           True           True   \n",
       "229  2.175264e+09     True    True      True           True           True   \n",
       "230  8.056989e+09     True    True      True           True           True   \n",
       "231  1.525716e+09     True    True      True           True           True   \n",
       "\n",
       "      delta_R     delta_v        vel  \n",
       "0    4.432741   373.55045  7290.0117  \n",
       "1    2.568768  1306.08560  8221.9330  \n",
       "2    1.972953    93.80087  7010.4140  \n",
       "3    1.093673  -833.89276  6083.1720  \n",
       "4    1.461050 -1374.13450  5543.1180  \n",
       "..        ...         ...        ...  \n",
       "227  2.627162 -1029.60790  5887.5180  \n",
       "228  0.898336  1387.40470  8303.1770  \n",
       "229  0.436897  -736.10370  6180.9175  \n",
       "230  2.862043 -1268.31690  5648.9140  \n",
       "231  1.385850   614.52220  7530.8520  \n",
       "\n",
       "[232 rows x 160 columns]"
      ]
     },
     "execution_count": 10,
     "metadata": {},
     "output_type": "execute_result"
    }
   ],
   "source": [
    "coma_merged"
   ]
  },
  {
   "cell_type": "code",
   "execution_count": 11,
   "id": "underlying-flashing",
   "metadata": {},
   "outputs": [
    {
     "data": {
      "text/plain": [
       "array(['#fibermap_targetid', 'fibermap_i', 'ra_1', 'dec_1', 'targetid',\n",
       "       'id', 'healpix', 'survey_x', 'program_x', 'targetid.1', 'z_x',\n",
       "       'zerr', 'zwarn', 'spectype_x', 'subtype', 'deltachi2',\n",
       "       'healpix_id', 'targetid.2', 'target_ra', 'target_dec',\n",
       "       'obsconditions', 'release', 'brickid_1', 'brick_objid',\n",
       "       'fiberflux_ivar_g', 'fiberflux_ivar_r', 'fiberflux_ivar_z',\n",
       "       'morphtype', 'flux_g', 'flux_r', 'flux_z', 'flux_ivar_g',\n",
       "       'flux_ivar_r', 'flux_ivar_z', 'ebv', 'flux_w1', 'flux_w2',\n",
       "       'flux_ivar_w1', 'flux_ivar_w2', 'fiberflux_g', 'fiberflux_r',\n",
       "       'fiberflux_z', 'fibertotflux_g', 'fibertotflux_r',\n",
       "       'fibertotflux_z', 'sersic_1', 'coadd_numexp', 'coadd_exptime',\n",
       "       'coadd_numnight', 'coadd_numtile', 'healpix_id.1', 'objid_1',\n",
       "       'brickid.1', 'brickname_1', 'ra.1', 'dec.1', 'ppxf_sigma',\n",
       "       'ppxf_sigma_error', 'DER_SNR', 'snr_ppxf', 'OBJID_2', 'BRICKID_2',\n",
       "       'BRICKNAME_2', 'RA_2', 'DEC_2', 'TYPE', 'SERSIC_2',\n",
       "       'Z_PHOT_MEDIAN', 'Z_PHOT_L95', 'mag_g', 'mag_r', 'mag_z', 'mag_B',\n",
       "       'mag_g_err', 'mag_r_err', 'mag_z_err', 'fibre_mag_g',\n",
       "       'fibre_mag_r', 'fibre_mag_z', 'uncor_radius', 'BA_ratio',\n",
       "       'circ_radius', 'uncor_radius_err', 'err_shape_e1', 'err_shape_e2',\n",
       "       'pos_angle', 'Separation', 'mag_r_corrected', 'BA_ratio_error',\n",
       "       'TargetId', 'tmass', 'flag', 'z_y', 'rmag', 'g_r_PS1_5_cor',\n",
       "       'W2_W3', 'W2_W3_err', 'PS1_ibumpy', 'zcmb', 'zcmb_group', 'dz',\n",
       "       'dz_group', 'r', 'er', 'kcor_r', 'kcor_g', 'i', 'ei', 's', 'es',\n",
       "       'absmag_r', 'Sn', 'logdist', 'logdist_err', 'logdist_alpha', 'pv',\n",
       "       'pverr', 'zp', 'zhd', 'idx', 'd2d', 'logdist_corr',\n",
       "       'logdist_err_corr', 'pv_corr', 'pverr_corr', 'target_id',\n",
       "       'sdss_id', 'ra', 'dec', 'z', 'z_err', 'spectype_y', 'survey_y',\n",
       "       'program_y', 'MASKBITS', 'BRICKNAME', 'BRICKID', 'BRICK_OBJID',\n",
       "       'PHOTSYS', 'HEALPIX', 'mag_app_g', 'mag_app_r', 'mag_app_z',\n",
       "       'mag_err_g', 'mag_err_r', 'mag_err_z', 'mag_abs_g', 'mag_abs_r',\n",
       "       'mag_abs_z', 'lum_g', 'lum_r', 'lum_z', 'in_desi', 'in_sdss',\n",
       "       'coma_fof', 'stillinsample', 'in_turnaround', 'delta_R', 'delta_v',\n",
       "       'vel'], dtype=object)"
      ]
     },
     "execution_count": 11,
     "metadata": {},
     "output_type": "execute_result"
    }
   ],
   "source": [
    "coma_merged.columns.values"
   ]
  },
  {
   "cell_type": "code",
   "execution_count": 12,
   "id": "american-secondary",
   "metadata": {},
   "outputs": [],
   "source": [
    "coma_merged.to_csv('coma_merged_new.csv', index=False, header=True)"
   ]
  },
  {
   "cell_type": "code",
   "execution_count": 16,
   "id": "romantic-portuguese",
   "metadata": {},
   "outputs": [
    {
     "data": {
      "text/html": [
       "<div>\n",
       "<style scoped>\n",
       "    .dataframe tbody tr th:only-of-type {\n",
       "        vertical-align: middle;\n",
       "    }\n",
       "\n",
       "    .dataframe tbody tr th {\n",
       "        vertical-align: top;\n",
       "    }\n",
       "\n",
       "    .dataframe thead th {\n",
       "        text-align: right;\n",
       "    }\n",
       "</style>\n",
       "<table border=\"1\" class=\"dataframe\">\n",
       "  <thead>\n",
       "    <tr style=\"text-align: right;\">\n",
       "      <th></th>\n",
       "      <th>#fibermap_targetid</th>\n",
       "      <th>fibermap_i</th>\n",
       "      <th>ra_1</th>\n",
       "      <th>dec_1</th>\n",
       "      <th>targetid</th>\n",
       "      <th>id</th>\n",
       "      <th>healpix</th>\n",
       "      <th>survey_x</th>\n",
       "      <th>program_x</th>\n",
       "      <th>targetid.1</th>\n",
       "      <th>...</th>\n",
       "      <th>lum_r</th>\n",
       "      <th>lum_z</th>\n",
       "      <th>in_desi</th>\n",
       "      <th>in_sdss</th>\n",
       "      <th>coma_fof</th>\n",
       "      <th>stillinsample</th>\n",
       "      <th>in_turnaround</th>\n",
       "      <th>delta_R</th>\n",
       "      <th>delta_v</th>\n",
       "      <th>vel</th>\n",
       "    </tr>\n",
       "  </thead>\n",
       "  <tbody>\n",
       "    <tr>\n",
       "      <th>0</th>\n",
       "      <td>39628417112478213</td>\n",
       "      <td>400</td>\n",
       "      <td>192.260477</td>\n",
       "      <td>26.893112</td>\n",
       "      <td>39628417112478213</td>\n",
       "      <td>1301</td>\n",
       "      <td>28148</td>\n",
       "      <td>sv1</td>\n",
       "      <td>bright</td>\n",
       "      <td>39628417112478213</td>\n",
       "      <td>...</td>\n",
       "      <td>1.147318e+10</td>\n",
       "      <td>1.722939e+10</td>\n",
       "      <td>True</td>\n",
       "      <td>True</td>\n",
       "      <td>True</td>\n",
       "      <td>True</td>\n",
       "      <td>True</td>\n",
       "      <td>4.432741</td>\n",
       "      <td>373.55045</td>\n",
       "      <td>7290.0117</td>\n",
       "    </tr>\n",
       "    <tr>\n",
       "      <th>1</th>\n",
       "      <td>39628417133447721</td>\n",
       "      <td>426</td>\n",
       "      <td>193.579225</td>\n",
       "      <td>27.068031</td>\n",
       "      <td>39628417133447721</td>\n",
       "      <td>1304</td>\n",
       "      <td>28149</td>\n",
       "      <td>sv1</td>\n",
       "      <td>bright</td>\n",
       "      <td>39628417133447721</td>\n",
       "      <td>...</td>\n",
       "      <td>9.881991e+10</td>\n",
       "      <td>1.523824e+11</td>\n",
       "      <td>True</td>\n",
       "      <td>False</td>\n",
       "      <td>True</td>\n",
       "      <td>True</td>\n",
       "      <td>True</td>\n",
       "      <td>2.568768</td>\n",
       "      <td>1306.08560</td>\n",
       "      <td>8221.9330</td>\n",
       "    </tr>\n",
       "    <tr>\n",
       "      <th>2</th>\n",
       "      <td>39628422523128777</td>\n",
       "      <td>203</td>\n",
       "      <td>193.922076</td>\n",
       "      <td>27.250763</td>\n",
       "      <td>39628422523128777</td>\n",
       "      <td>1304</td>\n",
       "      <td>28149</td>\n",
       "      <td>sv1</td>\n",
       "      <td>bright</td>\n",
       "      <td>39628422523128777</td>\n",
       "      <td>...</td>\n",
       "      <td>2.967021e+10</td>\n",
       "      <td>4.544369e+10</td>\n",
       "      <td>True</td>\n",
       "      <td>True</td>\n",
       "      <td>True</td>\n",
       "      <td>True</td>\n",
       "      <td>True</td>\n",
       "      <td>1.972953</td>\n",
       "      <td>93.80087</td>\n",
       "      <td>7010.4140</td>\n",
       "    </tr>\n",
       "    <tr>\n",
       "      <th>3</th>\n",
       "      <td>39628438608283113</td>\n",
       "      <td>309</td>\n",
       "      <td>194.221420</td>\n",
       "      <td>27.929491</td>\n",
       "      <td>39628438608283113</td>\n",
       "      <td>1267</td>\n",
       "      <td>10400</td>\n",
       "      <td>sv1</td>\n",
       "      <td>bright</td>\n",
       "      <td>39628438608283113</td>\n",
       "      <td>...</td>\n",
       "      <td>7.237596e+09</td>\n",
       "      <td>1.118884e+10</td>\n",
       "      <td>True</td>\n",
       "      <td>True</td>\n",
       "      <td>True</td>\n",
       "      <td>True</td>\n",
       "      <td>True</td>\n",
       "      <td>1.093673</td>\n",
       "      <td>-833.89276</td>\n",
       "      <td>6083.1720</td>\n",
       "    </tr>\n",
       "    <tr>\n",
       "      <th>4</th>\n",
       "      <td>39628443939243735</td>\n",
       "      <td>11</td>\n",
       "      <td>193.999798</td>\n",
       "      <td>28.186935</td>\n",
       "      <td>39628443939243735</td>\n",
       "      <td>1267</td>\n",
       "      <td>10400</td>\n",
       "      <td>sv1</td>\n",
       "      <td>bright</td>\n",
       "      <td>39628443939243735</td>\n",
       "      <td>...</td>\n",
       "      <td>4.648998e+09</td>\n",
       "      <td>6.833008e+09</td>\n",
       "      <td>True</td>\n",
       "      <td>True</td>\n",
       "      <td>True</td>\n",
       "      <td>True</td>\n",
       "      <td>True</td>\n",
       "      <td>1.461050</td>\n",
       "      <td>-1374.13450</td>\n",
       "      <td>5543.1180</td>\n",
       "    </tr>\n",
       "    <tr>\n",
       "      <th>...</th>\n",
       "      <td>...</td>\n",
       "      <td>...</td>\n",
       "      <td>...</td>\n",
       "      <td>...</td>\n",
       "      <td>...</td>\n",
       "      <td>...</td>\n",
       "      <td>...</td>\n",
       "      <td>...</td>\n",
       "      <td>...</td>\n",
       "      <td>...</td>\n",
       "      <td>...</td>\n",
       "      <td>...</td>\n",
       "      <td>...</td>\n",
       "      <td>...</td>\n",
       "      <td>...</td>\n",
       "      <td>...</td>\n",
       "      <td>...</td>\n",
       "      <td>...</td>\n",
       "      <td>...</td>\n",
       "      <td>...</td>\n",
       "      <td>...</td>\n",
       "    </tr>\n",
       "    <tr>\n",
       "      <th>227</th>\n",
       "      <td>39628417133449045</td>\n",
       "      <td>156</td>\n",
       "      <td>193.653392</td>\n",
       "      <td>26.934850</td>\n",
       "      <td>39628417133449045</td>\n",
       "      <td>3418</td>\n",
       "      <td>28149</td>\n",
       "      <td>sv3</td>\n",
       "      <td>bright</td>\n",
       "      <td>39628417133449045</td>\n",
       "      <td>...</td>\n",
       "      <td>1.670891e+10</td>\n",
       "      <td>2.352247e+10</td>\n",
       "      <td>True</td>\n",
       "      <td>True</td>\n",
       "      <td>True</td>\n",
       "      <td>True</td>\n",
       "      <td>True</td>\n",
       "      <td>2.627162</td>\n",
       "      <td>-1029.60790</td>\n",
       "      <td>5887.5180</td>\n",
       "    </tr>\n",
       "    <tr>\n",
       "      <th>228</th>\n",
       "      <td>39628427917002028</td>\n",
       "      <td>2564</td>\n",
       "      <td>195.255573</td>\n",
       "      <td>27.520443</td>\n",
       "      <td>39628427917002028</td>\n",
       "      <td>3176</td>\n",
       "      <td>10379</td>\n",
       "      <td>sv3</td>\n",
       "      <td>bright</td>\n",
       "      <td>39628427917002028</td>\n",
       "      <td>...</td>\n",
       "      <td>9.075618e+08</td>\n",
       "      <td>1.209687e+09</td>\n",
       "      <td>True</td>\n",
       "      <td>False</td>\n",
       "      <td>True</td>\n",
       "      <td>True</td>\n",
       "      <td>True</td>\n",
       "      <td>0.898336</td>\n",
       "      <td>1387.40470</td>\n",
       "      <td>8303.1770</td>\n",
       "    </tr>\n",
       "    <tr>\n",
       "      <th>229</th>\n",
       "      <td>39628433268934585</td>\n",
       "      <td>1824</td>\n",
       "      <td>194.778574</td>\n",
       "      <td>27.772473</td>\n",
       "      <td>39628433268934585</td>\n",
       "      <td>3174</td>\n",
       "      <td>10378</td>\n",
       "      <td>sv3</td>\n",
       "      <td>bright</td>\n",
       "      <td>39628433268934585</td>\n",
       "      <td>...</td>\n",
       "      <td>1.571733e+09</td>\n",
       "      <td>2.175264e+09</td>\n",
       "      <td>True</td>\n",
       "      <td>True</td>\n",
       "      <td>True</td>\n",
       "      <td>True</td>\n",
       "      <td>True</td>\n",
       "      <td>0.436897</td>\n",
       "      <td>-736.10370</td>\n",
       "      <td>6180.9175</td>\n",
       "    </tr>\n",
       "    <tr>\n",
       "      <th>230</th>\n",
       "      <td>39628400918267151</td>\n",
       "      <td>611</td>\n",
       "      <td>194.531436</td>\n",
       "      <td>26.326807</td>\n",
       "      <td>39628400918267151</td>\n",
       "      <td>3410</td>\n",
       "      <td>28125</td>\n",
       "      <td>sv3</td>\n",
       "      <td>bright</td>\n",
       "      <td>39628400918267151</td>\n",
       "      <td>...</td>\n",
       "      <td>5.526689e+09</td>\n",
       "      <td>8.056989e+09</td>\n",
       "      <td>True</td>\n",
       "      <td>True</td>\n",
       "      <td>True</td>\n",
       "      <td>True</td>\n",
       "      <td>True</td>\n",
       "      <td>2.862043</td>\n",
       "      <td>-1268.31690</td>\n",
       "      <td>5648.9140</td>\n",
       "    </tr>\n",
       "    <tr>\n",
       "      <th>231</th>\n",
       "      <td>39628427900226901</td>\n",
       "      <td>302</td>\n",
       "      <td>194.233077</td>\n",
       "      <td>27.462405</td>\n",
       "      <td>39628427900226901</td>\n",
       "      <td>3319</td>\n",
       "      <td>10400</td>\n",
       "      <td>sv3</td>\n",
       "      <td>bright</td>\n",
       "      <td>39628427900226901</td>\n",
       "      <td>...</td>\n",
       "      <td>1.116298e+09</td>\n",
       "      <td>1.525716e+09</td>\n",
       "      <td>True</td>\n",
       "      <td>True</td>\n",
       "      <td>True</td>\n",
       "      <td>True</td>\n",
       "      <td>True</td>\n",
       "      <td>1.385850</td>\n",
       "      <td>614.52220</td>\n",
       "      <td>7530.8520</td>\n",
       "    </tr>\n",
       "  </tbody>\n",
       "</table>\n",
       "<p>232 rows × 160 columns</p>\n",
       "</div>"
      ],
      "text/plain": [
       "     #fibermap_targetid  fibermap_i        ra_1      dec_1           targetid  \\\n",
       "0     39628417112478213         400  192.260477  26.893112  39628417112478213   \n",
       "1     39628417133447721         426  193.579225  27.068031  39628417133447721   \n",
       "2     39628422523128777         203  193.922076  27.250763  39628422523128777   \n",
       "3     39628438608283113         309  194.221420  27.929491  39628438608283113   \n",
       "4     39628443939243735          11  193.999798  28.186935  39628443939243735   \n",
       "..                  ...         ...         ...        ...                ...   \n",
       "227   39628417133449045         156  193.653392  26.934850  39628417133449045   \n",
       "228   39628427917002028        2564  195.255573  27.520443  39628427917002028   \n",
       "229   39628433268934585        1824  194.778574  27.772473  39628433268934585   \n",
       "230   39628400918267151         611  194.531436  26.326807  39628400918267151   \n",
       "231   39628427900226901         302  194.233077  27.462405  39628427900226901   \n",
       "\n",
       "       id  healpix survey_x program_x         targetid.1  ...         lum_r  \\\n",
       "0    1301    28148      sv1    bright  39628417112478213  ...  1.147318e+10   \n",
       "1    1304    28149      sv1    bright  39628417133447721  ...  9.881991e+10   \n",
       "2    1304    28149      sv1    bright  39628422523128777  ...  2.967021e+10   \n",
       "3    1267    10400      sv1    bright  39628438608283113  ...  7.237596e+09   \n",
       "4    1267    10400      sv1    bright  39628443939243735  ...  4.648998e+09   \n",
       "..    ...      ...      ...       ...                ...  ...           ...   \n",
       "227  3418    28149      sv3    bright  39628417133449045  ...  1.670891e+10   \n",
       "228  3176    10379      sv3    bright  39628427917002028  ...  9.075618e+08   \n",
       "229  3174    10378      sv3    bright  39628433268934585  ...  1.571733e+09   \n",
       "230  3410    28125      sv3    bright  39628400918267151  ...  5.526689e+09   \n",
       "231  3319    10400      sv3    bright  39628427900226901  ...  1.116298e+09   \n",
       "\n",
       "            lum_z  in_desi in_sdss  coma_fof  stillinsample  in_turnaround  \\\n",
       "0    1.722939e+10     True    True      True           True           True   \n",
       "1    1.523824e+11     True   False      True           True           True   \n",
       "2    4.544369e+10     True    True      True           True           True   \n",
       "3    1.118884e+10     True    True      True           True           True   \n",
       "4    6.833008e+09     True    True      True           True           True   \n",
       "..            ...      ...     ...       ...            ...            ...   \n",
       "227  2.352247e+10     True    True      True           True           True   \n",
       "228  1.209687e+09     True   False      True           True           True   \n",
       "229  2.175264e+09     True    True      True           True           True   \n",
       "230  8.056989e+09     True    True      True           True           True   \n",
       "231  1.525716e+09     True    True      True           True           True   \n",
       "\n",
       "      delta_R     delta_v        vel  \n",
       "0    4.432741   373.55045  7290.0117  \n",
       "1    2.568768  1306.08560  8221.9330  \n",
       "2    1.972953    93.80087  7010.4140  \n",
       "3    1.093673  -833.89276  6083.1720  \n",
       "4    1.461050 -1374.13450  5543.1180  \n",
       "..        ...         ...        ...  \n",
       "227  2.627162 -1029.60790  5887.5180  \n",
       "228  0.898336  1387.40470  8303.1770  \n",
       "229  0.436897  -736.10370  6180.9175  \n",
       "230  2.862043 -1268.31690  5648.9140  \n",
       "231  1.385850   614.52220  7530.8520  \n",
       "\n",
       "[232 rows x 160 columns]"
      ]
     },
     "execution_count": 16,
     "metadata": {},
     "output_type": "execute_result"
    }
   ],
   "source": [
    "coma_merged"
   ]
  },
  {
   "cell_type": "code",
   "execution_count": 18,
   "id": "welsh-anger",
   "metadata": {},
   "outputs": [],
   "source": [
    "cosmo_2 = FlatLambdaCDM(H0=100. * u.km / u.s / u.Mpc, Om0=0.31)"
   ]
  },
  {
   "cell_type": "code",
   "execution_count": 19,
   "id": "realistic-medicine",
   "metadata": {},
   "outputs": [
    {
     "data": {
      "text/latex": [
       "$433.62216 \\; \\mathrm{Mpc}$"
      ],
      "text/plain": [
       "<Quantity 433.62216484 Mpc>"
      ]
     },
     "execution_count": 19,
     "metadata": {},
     "output_type": "execute_result"
    }
   ],
   "source": [
    "d_6df = cosmo_2.comoving_distance(0.15)\n",
    "d_6df"
   ]
  },
  {
   "cell_type": "code",
   "execution_count": 21,
   "id": "exempt-citizen",
   "metadata": {},
   "outputs": [
    {
     "name": "stdout",
     "output_type": "stream",
     "text": [
      "[ 76.19827248  85.61651973  73.39948755  63.82434919  58.42851895\n",
      "  68.89417081  68.56170405  78.8152163   73.91820972  65.74079912\n",
      "  72.6707852   73.4914379   71.83466529  75.40894546  62.77640605\n",
      "  73.10818213  74.412208    58.82366752  71.5035224   72.24347451\n",
      "  59.16419743  71.4225862   74.80699794  58.44705361  62.62857458\n",
      "  73.92031077  80.85084694  74.65994463  63.05974813  83.76727702\n",
      "  68.08195572  65.99393783  65.20004293  57.19372611  77.96474106\n",
      "  78.23806526  78.37288679  84.38008004  69.44449173  76.99711064\n",
      "  72.97424658  87.40552834  62.96341574  49.86894749  60.52639194\n",
      "  71.65055071  66.20437813  81.8809343   63.7673027   68.33596099\n",
      "  77.40394365  77.86807916  63.24873917  56.5701256   75.8489929\n",
      "  65.19725838  82.43081693  81.4867474   70.64649296  75.50309641\n",
      "  71.2462886   61.80241932  66.63936366  72.34181078  75.34218837\n",
      "  71.31355625  78.8551318   66.59408533  72.51353537  71.37029165\n",
      "  62.6924062   81.54900528  67.01151403  75.55167307  70.21434552\n",
      "  80.87084825  81.33329777  73.75090352  59.15532875  70.85637259\n",
      "  57.52326767  70.52285272  62.22397361  75.48134035  70.37726165\n",
      "  61.57685197  79.03498422  69.33106062  48.79381868  64.77422499\n",
      "  85.766916    68.2133237   68.09087661  66.8339948   69.42347634\n",
      "  70.16213782  82.50395178  52.59925875  70.33998614  59.91717146\n",
      "  53.75482071  66.1978967   71.47486726  64.15692061  59.31322329\n",
      "  61.41816926  76.983671    61.94114693  86.42283668  61.74923252\n",
      "  82.61434852  80.97261884  66.33331411  86.80877781  71.82640962\n",
      "  77.45615967  59.65830564  54.03789417  60.75746461  79.68525802\n",
      "  75.56738051  62.91575451  77.29407724  74.82839851  85.96294897\n",
      "  70.76005073  74.91256806  78.03711141  71.76542854  83.40797412\n",
      "  73.80606156  69.34002858  78.96105564  75.9559128   79.27314029\n",
      "  49.09548252  77.95816258  74.93547341  61.8031881   77.52137252\n",
      "  78.42802411  85.39034459  80.85220371  78.26462346  71.07610579\n",
      "  69.42534772  96.41315642  78.72593025  59.34802584  74.73165949\n",
      "  67.66262572  64.49809205  72.54054642  61.87588403  60.21058714\n",
      "  75.73610496  82.70161283  63.61426858  61.11776356  72.16598153\n",
      "  62.16223042  72.6115234   57.67359382  61.12890342  60.99693169\n",
      "  69.39438607  71.86434117  80.05371978  66.31747132  72.65641768\n",
      "  69.52060297  73.21139171  78.64319974  87.98356307  63.92860676\n",
      "  61.47324096  84.21530377  71.67411595  74.05596304  62.78877352\n",
      "  66.55632536  79.25160776  68.43992852  58.73430573  83.93111959\n",
      "  64.53071815  71.52425032  78.16408738  67.4272814   69.34124069\n",
      "  88.60381554  70.87202376  77.91967117  81.3403381   87.33087695\n",
      "  66.68847735  80.04625396  73.51673483  68.74261064  58.6529648\n",
      "  72.46146165  79.39180855  55.75567343  59.79424807  96.67084638\n",
      "  85.57344283  79.49737104  72.53523055  84.69747282  69.32189127\n",
      "  73.31306262  78.3682932   73.26601485  60.40731705  65.545108\n",
      "  72.57939968  59.51314329  70.67954787  61.52691772  72.76610263\n",
      "  74.29598038  78.24277361  79.51547346  68.8429863   79.52813754\n",
      " 100.22261759  71.91170923  61.96148267  86.38333806  64.87232941\n",
      "  59.54680843  78.57226806]\n",
      "0       69.362117\n",
      "1       56.014201\n",
      "2       85.272222\n",
      "3       97.203873\n",
      "4       98.393142\n",
      "          ...    \n",
      "227     38.464298\n",
      "228    152.529651\n",
      "229    100.507178\n",
      "230     82.939337\n",
      "231    355.120312\n",
      "Name: logdist, Length: 232, dtype: float64\n",
      "77.91737750520926 +/- 1.757039302944618 Mpc/h\n",
      "232\n",
      "34.44271569160661\n"
     ]
    }
   ],
   "source": [
    "#dz_l = cosmo_2.angular_diameter_distance(coma_merged.zcmb).value\n",
    "dz = cosmo_2.comoving_distance(coma_merged.zcmb).value\n",
    "print (dz)\n",
    "d_coma = 10**(np.log10(dz) - coma_merged.logdist)\n",
    "print (d_coma)\n",
    "mu = 5.*np.log10(d_coma)+25.\n",
    "print (np.median(d_coma), \"+/-\",np.std(d_coma)/np.sqrt(len(d_coma)),\"Mpc/h\")\n",
    "#print (np.median(10**(np.log10(dz_l) - coma_merged.logdist_corr)))\n",
    "print (len(d_coma))\n",
    "print (np.mean(mu))"
   ]
  },
  {
   "cell_type": "code",
   "execution_count": 22,
   "id": "senior-visit",
   "metadata": {},
   "outputs": [
    {
     "name": "stdout",
     "output_type": "stream",
     "text": [
      "0       69.362117\n",
      "1       56.014201\n",
      "2       85.272222\n",
      "3       97.203873\n",
      "4       98.393142\n",
      "          ...    \n",
      "227     38.464298\n",
      "228    152.529651\n",
      "229    100.507178\n",
      "230     82.939337\n",
      "231    355.120312\n",
      "Name: logdist, Length: 232, dtype: float64 0       16.113344\n",
      "1       12.963104\n",
      "2       19.852422\n",
      "3       22.795267\n",
      "4       23.187438\n",
      "          ...    \n",
      "227      9.617342\n",
      "228     40.625666\n",
      "229     29.064395\n",
      "230     20.969610\n",
      "231    140.324137\n",
      "Length: 232, dtype: float64 0      23.230756\n",
      "1      23.142531\n",
      "2      23.281230\n",
      "3      23.450986\n",
      "4      23.566112\n",
      "         ...    \n",
      "227    25.003295\n",
      "228    26.634602\n",
      "229    28.917731\n",
      "230    25.283069\n",
      "231    39.514534\n",
      "Length: 232, dtype: float64\n"
     ]
    }
   ],
   "source": [
    "print (d_coma, np.log(10) * d_coma * coma_merged.logdist_err_corr, 100.* np.log(10) * d_coma * coma_merged.logdist_err_corr/d_coma)"
   ]
  },
  {
   "cell_type": "code",
   "execution_count": 23,
   "id": "amber-elimination",
   "metadata": {},
   "outputs": [
    {
     "name": "stdout",
     "output_type": "stream",
     "text": [
      "2.302585092994046\n"
     ]
    }
   ],
   "source": [
    "print (np.log(10))"
   ]
  },
  {
   "cell_type": "markdown",
   "id": "charitable-trial",
   "metadata": {},
   "source": [
    "Calculates the weighted mean and the standard error of the weighted mean from a set of values and corresponding uncertainties:\n",
    "\n",
    "I first define the sample data as two NumPy arrays: d_coma containing the values we want to average, and uncertainties containing the corresponding uncertainties for each value. We then calculate the weights for each value based on the inverse of the squared uncertainties, and use these weights to calculate the weighted mean using the formula:\n",
    "\n",
    "wmean = Σ (w_i * x_i) / Σ w_i\n",
    "\n",
    "where x_i is the ith value, w_i is the weight for the ith value, and Σ denotes the sum over all values.\n",
    "\n",
    "Finally, we calculate the standard error of the weighted mean using the formula:\n",
    "\n",
    "sem = sqrt( Σ (w_i * (x_i - wmean)^2) / ( Σ w_i ) / (n - 1) )\n",
    "\n",
    "where n is the sample size. Note that we use n - 1 instead of n in the denominator to account for the fact that we have estimated the population variance from the sample data."
   ]
  },
  {
   "cell_type": "code",
   "execution_count": 24,
   "id": "blank-wright",
   "metadata": {},
   "outputs": [
    {
     "name": "stdout",
     "output_type": "stream",
     "text": [
      "Weighted mean: 70.783\n",
      "Standard error of the weighted mean: 1.111\n",
      "1.760838311278126\n",
      "70.7827065369609\n",
      "Hudsonetal97 71.59607501982944 Mpc\n",
      "70.7827 +/- 1.757\n"
     ]
    }
   ],
   "source": [
    "d_coma = d_coma  # values\n",
    "uncertainties = np.log(10) * d_coma * coma_merged.logdist_err  # uncertainties\n",
    "\n",
    "weights = 1 / uncertainties**2\n",
    "\n",
    "wmean = np.sum(weights * d_coma) / np.sum(weights)\n",
    "\n",
    "sem = np.sqrt(np.sum(weights * (d_coma - wmean)**2) / np.sum(weights) / (len(d_coma) - 1))\n",
    "estdm = np.std(d_coma)/(np.sqrt(len(d_coma) - 1))\n",
    "print(\"Weighted mean: {:.3f}\".format(wmean))\n",
    "print(\"Standard error of the weighted mean: {:.3f}\".format(sem))\n",
    "print(estdm)\n",
    "DMPch = np.average(d_coma,weights=weights)\n",
    "print (DMPch)\n",
    "print (\"Hudsonetal97\", cosmo_2.comoving_distance(7200./c))\n",
    "print (round(np.average(d_coma, weights=1./uncertainties**2),4),\"+/-\",round(np.std(d_coma)/np.sqrt(len(d_coma)),4))"
   ]
  },
  {
   "cell_type": "markdown",
   "id": "confused-detective",
   "metadata": {},
   "source": [
    "# Calibration Using Coma distances from SBF"
   ]
  },
  {
   "cell_type": "code",
   "execution_count": 25,
   "id": "serial-billion",
   "metadata": {},
   "outputs": [
    {
     "name": "stdout",
     "output_type": "stream",
     "text": [
      "71.42552976791121 +/- 4.540739161989308\n",
      "0.7142552976791121 +\\- 0.04540739161989308\n",
      "1.4000596190877148\n"
     ]
    },
    {
     "name": "stderr",
     "output_type": "stream",
     "text": [
      "<>:9: SyntaxWarning: invalid escape sequence '\\-'\n",
      "<>:9: SyntaxWarning: invalid escape sequence '\\-'\n",
      "/var/folders/8p/jzppkr8j2_71k5rqwdr5rk800000gp/T/ipykernel_10240/3441098858.py:9: SyntaxWarning: invalid escape sequence '\\-'\n",
      "  print(H0_measured,'+\\-',err_H0_measured)\n"
     ]
    }
   ],
   "source": [
    "coma_dist_FP = round(np.average(d_coma, weights=1./uncertainties**2),4) #Mpc/h\n",
    "err_coma_dist_FP = round(np.std(d_coma)/np.sqrt(len(d_coma)),4)\n",
    "coma_NGC4874_dist_SBF = 99.1 #Mpc ##https://ui.adsabs.harvard.edu/abs/2021ApJS..255...21J/abstract\n",
    "err_coma_NGC4874_dist_SBF = 5.8\n",
    "H0_measured = coma_dist_FP/coma_NGC4874_dist_SBF\n",
    "H0_measured*100.\n",
    "err_H0_measured = H0_measured*np.sqrt((err_coma_dist_FP/coma_dist_FP)**2 + (err_coma_NGC4874_dist_SBF/coma_NGC4874_dist_SBF)**2)\n",
    "print (100.*H0_measured,'+/-',100.*err_H0_measured)\n",
    "print(H0_measured,'+\\-',err_H0_measured)\n",
    "print(1./H0_measured)"
   ]
  },
  {
   "cell_type": "code",
   "execution_count": 26,
   "id": "incident-cookie",
   "metadata": {},
   "outputs": [
    {
     "name": "stdout",
     "output_type": "stream",
     "text": [
      "69.39480392156864 +/- 9.679284694290766\n"
     ]
    }
   ],
   "source": [
    "coma_NGC4881_dist_SBF = 102. #Mpc ##https://ui.adsabs.harvard.edu/abs/1997ApJ...483L..37T/abstract\n",
    "err_coma_NGC4881_dist_SBF = 14.\n",
    "H0_measured = coma_dist_FP/coma_NGC4881_dist_SBF\n",
    "H0_measured*100.\n",
    "err_H0_measured = H0_measured*np.sqrt((err_coma_dist_FP/coma_dist_FP)**2 + (err_coma_NGC4881_dist_SBF/coma_NGC4881_dist_SBF)**2)\n",
    "print (100.*H0_measured,'+/-',100.*err_H0_measured)"
   ]
  },
  {
   "cell_type": "markdown",
   "id": "advisory-commerce",
   "metadata": {},
   "source": [
    "**Calibration using TRGB**"
   ]
  },
  {
   "cell_type": "code",
   "execution_count": 27,
   "id": "cheap-valley",
   "metadata": {},
   "outputs": [
    {
     "name": "stdout",
     "output_type": "stream",
     "text": [
      "69.81152494758825 +/- 1.7329739652672993\n"
     ]
    }
   ],
   "source": [
    "mu_coma_trgb = 35.03 #https://ui.adsabs.harvard.edu/abs/1997ApJ...478...49S/abstract\n",
    "err_mu_coma_trgb = 0.37 #https://ui.adsabs.harvard.edu/abs/1997ApJ...478...49S/abstract\n",
    "d_trgb_Leo_Coma = 10.**((mu_coma_trgb-25.)/5.)\n",
    "err_d_trgb_Leo_Coma = np.log(10)*err_mu_coma_trgb/mu_coma_trgb\n",
    "H0_measured = coma_dist_FP/d_trgb_Leo_Coma\n",
    "H0_measured*100.\n",
    "err_H0_measured = H0_measured*np.sqrt((err_coma_dist_FP/coma_dist_FP)**2 + (err_d_trgb_Leo_Coma/d_trgb_Leo_Coma)**2)\n",
    "print (100.*H0_measured,'+/-',100.*err_H0_measured)"
   ]
  },
  {
   "cell_type": "markdown",
   "id": "objective-syria",
   "metadata": {},
   "source": [
    "# Calibration using GCLF"
   ]
  },
  {
   "cell_type": "code",
   "execution_count": 28,
   "id": "favorite-factory",
   "metadata": {},
   "outputs": [
    {
     "name": "stdout",
     "output_type": "stream",
     "text": [
      "95.49925860214354 0.7411858587812246\n"
     ]
    }
   ],
   "source": [
    "d_GCLF_combined_coma = 10.**((34.90-25.)/5.) \n",
    "print (d_GCLF_combined_coma,coma_dist_FP/d_GCLF_combined_coma)"
   ]
  },
  {
   "cell_type": "markdown",
   "id": "chief-deadline",
   "metadata": {},
   "source": [
    "# Calibration using NGC1600 SBF"
   ]
  },
  {
   "cell_type": "code",
   "execution_count": 29,
   "id": "embedded-piece",
   "metadata": {},
   "outputs": [
    {
     "name": "stdout",
     "output_type": "stream",
     "text": [
      "51.642482704787575 +/- 11.835396713263837\n"
     ]
    }
   ],
   "source": [
    "dz_NGC1600 = cosmo_2.comoving_distance(0.0155121943317797)\n",
    "#print (dz_NGC1600)\n",
    "d_NGC1600_FP = 10**(np.log10(dz_NGC1600.value) - 0.09739370077368)\n",
    "error_d_NGC1600_FP = np.log(10) * d_NGC1600_FP * 0.098178591798036  # uncertainties\n",
    "#print (d_NGC1600,error_d_NGC1600)\n",
    "d_NGC1600_sbf = 71.7\n",
    "err_d_NGC1600_sbf = 2.7\n",
    "H0_measured = d_NGC1600_FP/d_NGC1600_sbf\n",
    "H0_measured*100.\n",
    "err_H0_measured = H0_measured*np.sqrt((error_d_NGC1600_FP/d_NGC1600_FP)**2 + (err_d_NGC1600_sbf/d_NGC1600_sbf)**2)\n",
    "print (100.*H0_measured,'+/-',100.*err_H0_measured)"
   ]
  },
  {
   "cell_type": "markdown",
   "id": "super-lobby",
   "metadata": {},
   "source": [
    "# Calibration using NGC4839 SBF"
   ]
  },
  {
   "cell_type": "code",
   "execution_count": 30,
   "id": "similar-tooth",
   "metadata": {},
   "outputs": [
    {
     "name": "stdout",
     "output_type": "stream",
     "text": [
      "79.43723940571743 +/- 17.842793810404615\n",
      "72.44676233801431\n"
     ]
    }
   ],
   "source": [
    "dz_NGC4839 = cosmo_2.comoving_distance(0.0254518612146696)\n",
    "d_NGC4839_FP = 10**(np.log10(dz_NGC4839.value) - 0.019930837194848)\n",
    "error_d_NGC4839_FP = np.log(10) * d_NGC4839_FP * 0.0956712593603657  # uncertainties\n",
    "d_NGC4839_sbf = 91.2\n",
    "err_d_NGC4839_sbf = 4.\n",
    "H0_measured = d_NGC4839_FP/d_NGC4839_sbf\n",
    "H0_measured*100.\n",
    "err_H0_measured = H0_measured*np.sqrt((error_d_NGC4839_FP/d_NGC4839_FP)**2 + (err_d_NGC4839_sbf/d_NGC4839_sbf)**2)\n",
    "print (100.*H0_measured,'+/-',100.*err_H0_measured)\n",
    "print (d_NGC4839_FP)"
   ]
  },
  {
   "cell_type": "code",
   "execution_count": 31,
   "id": "greatest-college",
   "metadata": {},
   "outputs": [
    {
     "name": "stdout",
     "output_type": "stream",
     "text": [
      "(70.7827065369609, 1.9777849566785535, 16.886088515799145)\n",
      "(-678.0735487144295, 136.6001429981529, 1845.8485993082988)\n"
     ]
    }
   ],
   "source": [
    "def weighted_avg_and_std(values, weights, axis=None):\n",
    "    average = np.average(values, weights=weights, axis=axis)\n",
    "    average_err = np.std(values)*np.sqrt(np.sum((weights/np.sum(weights))**2))\n",
    "    variance = np.average((values-average)**2, weights=weights, axis=axis)\n",
    "    return (average, average_err, np.sqrt(variance))\n",
    "\n",
    "results = weighted_avg_and_std(d_coma, weights, axis=None)\n",
    "print (results)\n",
    "pv_weights = 1/coma_merged.pverr**2.\n",
    "results_pv = weighted_avg_and_std(coma_merged.pv,pv_weights, axis=None)\n",
    "print (results_pv)"
   ]
  },
  {
   "cell_type": "code",
   "execution_count": 32,
   "id": "casual-camping",
   "metadata": {},
   "outputs": [
    {
     "name": "stdout",
     "output_type": "stream",
     "text": [
      "(34.43040652539743, 0.0363520776217295, 0.5192996072102541)\n",
      "34.24963582425644\n"
     ]
    }
   ],
   "source": [
    "d = d_coma\n",
    "sd_d = uncertainties\n",
    "\n",
    "# calculate uncertainty in mu\n",
    "mu = 5 * np.log10(d) + 25\n",
    "sd_mu = np.sqrt((5 / (d * np.log(10)))**2 * sd_d**2)\n",
    "\n",
    "weights_mu = 1. / sd_mu**2.\n",
    "\n",
    "results_mu = weighted_avg_and_std(mu, weights_mu, axis=None)\n",
    "print (results_mu)\n",
    "\n",
    "\n",
    "mu_t = 5. * np.log10(DMPch) + 25.\n",
    "print (mu_t)"
   ]
  },
  {
   "cell_type": "code",
   "execution_count": 33,
   "id": "accepted-melbourne",
   "metadata": {},
   "outputs": [
    {
     "data": {
      "image/png": "[encoded data removed]",
      "text/plain": [
       "<Figure size 640x480 with 1 Axes>"
      ]
     },
     "metadata": {},
     "output_type": "display_data"
    }
   ],
   "source": [
    "plt.hist(d_coma)\n",
    "plt.show()"
   ]
  },
  {
   "cell_type": "code",
   "execution_count": 34,
   "id": "partial-venture",
   "metadata": {},
   "outputs": [
    {
     "data": {
      "image/png": "[encoded data removed]",
      "text/plain": [
       "<Figure size 640x480 with 1 Axes>"
      ]
     },
     "metadata": {},
     "output_type": "display_data"
    }
   ],
   "source": [
    "plt.hist(coma_desi.z)\n",
    "plt.hist(coma_merged.z_x)\n",
    "plt.show()"
   ]
  },
  {
   "cell_type": "code",
   "execution_count": 35,
   "id": "special-harvard",
   "metadata": {},
   "outputs": [
    {
     "name": "stdout",
     "output_type": "stream",
     "text": [
      "0.0327738865775751\n",
      "0.0154318548936145\n"
     ]
    }
   ],
   "source": [
    "print (np.max(coma_merged.z_x))\n",
    "print (np.min(coma_merged.z_x))"
   ]
  },
  {
   "cell_type": "code",
   "execution_count": 36,
   "id": "indirect-blank",
   "metadata": {},
   "outputs": [
    {
     "data": {
      "image/png": "[encoded data removed]",
      "text/plain": [
       "<Figure size 640x480 with 1 Axes>"
      ]
     },
     "metadata": {},
     "output_type": "display_data"
    }
   ],
   "source": [
    "plt.hist(coma_merged.z_x-np.mean(coma_desi.z))\n",
    "plt.show()"
   ]
  },
  {
   "cell_type": "code",
   "execution_count": 37,
   "id": "unlimited-corner",
   "metadata": {},
   "outputs": [],
   "source": [
    "outliers = coma_merged.drop(coma_merged[coma_merged.z_x < 0.03276].index)"
   ]
  },
  {
   "cell_type": "code",
   "execution_count": 38,
   "id": "broad-patch",
   "metadata": {},
   "outputs": [
    {
     "data": {
      "text/plain": [
       "225    70.706153\n",
       "Name: ppxf_sigma, dtype: float64"
      ]
     },
     "execution_count": 38,
     "metadata": {},
     "output_type": "execute_result"
    }
   ],
   "source": [
    "outliers.ppxf_sigma"
   ]
  },
  {
   "cell_type": "code",
   "execution_count": 39,
   "id": "acquired-junior",
   "metadata": {},
   "outputs": [
    {
     "data": {
      "image/png": "[encoded data removed]",
      "text/plain": [
       "<Figure size 640x480 with 1 Axes>"
      ]
     },
     "metadata": {},
     "output_type": "display_data"
    }
   ],
   "source": [
    "plt.scatter(coma_merged.zcmb,coma_merged.logdist_corr)\n",
    "plt.show()"
   ]
  },
  {
   "cell_type": "code",
   "execution_count": 40,
   "id": "enormous-juice",
   "metadata": {},
   "outputs": [
    {
     "data": {
      "text/html": [
       "<div>\n",
       "<style scoped>\n",
       "    .dataframe tbody tr th:only-of-type {\n",
       "        vertical-align: middle;\n",
       "    }\n",
       "\n",
       "    .dataframe tbody tr th {\n",
       "        vertical-align: top;\n",
       "    }\n",
       "\n",
       "    .dataframe thead th {\n",
       "        text-align: right;\n",
       "    }\n",
       "</style>\n",
       "<table border=\"1\" class=\"dataframe\">\n",
       "  <thead>\n",
       "    <tr style=\"text-align: right;\">\n",
       "      <th></th>\n",
       "      <th>objid</th>\n",
       "      <th>r</th>\n",
       "      <th>s</th>\n",
       "      <th>i</th>\n",
       "      <th>dr</th>\n",
       "      <th>dr_ph</th>\n",
       "      <th>ds</th>\n",
       "      <th>di</th>\n",
       "      <th>Sprob</th>\n",
       "      <th>cz</th>\n",
       "    </tr>\n",
       "  </thead>\n",
       "  <tbody>\n",
       "    <tr>\n",
       "      <th>0</th>\n",
       "      <td>3.962842e+16</td>\n",
       "      <td>0.043543</td>\n",
       "      <td>2.154577</td>\n",
       "      <td>2.945744</td>\n",
       "      <td>0.000095</td>\n",
       "      <td>0.016673</td>\n",
       "      <td>0.004325</td>\n",
       "      <td>0.000860</td>\n",
       "      <td>1.000000</td>\n",
       "      <td>7380.851869</td>\n",
       "    </tr>\n",
       "    <tr>\n",
       "      <th>1</th>\n",
       "      <td>3.963333e+16</td>\n",
       "      <td>-0.574830</td>\n",
       "      <td>2.093689</td>\n",
       "      <td>3.201045</td>\n",
       "      <td>0.000076</td>\n",
       "      <td>0.130353</td>\n",
       "      <td>0.003851</td>\n",
       "      <td>0.000493</td>\n",
       "      <td>0.075899</td>\n",
       "      <td>689.740560</td>\n",
       "    </tr>\n",
       "    <tr>\n",
       "      <th>2</th>\n",
       "      <td>3.962842e+16</td>\n",
       "      <td>0.761415</td>\n",
       "      <td>2.422567</td>\n",
       "      <td>2.548015</td>\n",
       "      <td>0.000045</td>\n",
       "      <td>0.014858</td>\n",
       "      <td>0.002484</td>\n",
       "      <td>0.000333</td>\n",
       "      <td>1.000000</td>\n",
       "      <td>8337.821434</td>\n",
       "    </tr>\n",
       "    <tr>\n",
       "      <th>3</th>\n",
       "      <td>3.962777e+16</td>\n",
       "      <td>0.323109</td>\n",
       "      <td>2.177125</td>\n",
       "      <td>2.413567</td>\n",
       "      <td>0.000182</td>\n",
       "      <td>0.013752</td>\n",
       "      <td>0.004492</td>\n",
       "      <td>0.001123</td>\n",
       "      <td>1.000000</td>\n",
       "      <td>8962.503400</td>\n",
       "    </tr>\n",
       "    <tr>\n",
       "      <th>4</th>\n",
       "      <td>3.963308e+16</td>\n",
       "      <td>0.305545</td>\n",
       "      <td>2.298011</td>\n",
       "      <td>2.740888</td>\n",
       "      <td>0.000105</td>\n",
       "      <td>0.032106</td>\n",
       "      <td>0.001769</td>\n",
       "      <td>0.000527</td>\n",
       "      <td>1.000000</td>\n",
       "      <td>3750.764392</td>\n",
       "    </tr>\n",
       "    <tr>\n",
       "      <th>...</th>\n",
       "      <td>...</td>\n",
       "      <td>...</td>\n",
       "      <td>...</td>\n",
       "      <td>...</td>\n",
       "      <td>...</td>\n",
       "      <td>...</td>\n",
       "      <td>...</td>\n",
       "      <td>...</td>\n",
       "      <td>...</td>\n",
       "      <td>...</td>\n",
       "    </tr>\n",
       "    <tr>\n",
       "      <th>3238</th>\n",
       "      <td>3.963324e+16</td>\n",
       "      <td>0.327094</td>\n",
       "      <td>1.835153</td>\n",
       "      <td>2.153517</td>\n",
       "      <td>0.000432</td>\n",
       "      <td>0.011308</td>\n",
       "      <td>0.035447</td>\n",
       "      <td>0.002659</td>\n",
       "      <td>0.927319</td>\n",
       "      <td>11160.939836</td>\n",
       "    </tr>\n",
       "    <tr>\n",
       "      <th>3239</th>\n",
       "      <td>3.962766e+16</td>\n",
       "      <td>0.544359</td>\n",
       "      <td>2.113498</td>\n",
       "      <td>2.262257</td>\n",
       "      <td>0.000092</td>\n",
       "      <td>0.010431</td>\n",
       "      <td>0.024009</td>\n",
       "      <td>0.000573</td>\n",
       "      <td>1.000000</td>\n",
       "      <td>12604.672182</td>\n",
       "    </tr>\n",
       "    <tr>\n",
       "      <th>3240</th>\n",
       "      <td>3.962760e+16</td>\n",
       "      <td>0.297660</td>\n",
       "      <td>2.025392</td>\n",
       "      <td>2.543424</td>\n",
       "      <td>0.000135</td>\n",
       "      <td>0.011149</td>\n",
       "      <td>0.030752</td>\n",
       "      <td>0.000610</td>\n",
       "      <td>1.000000</td>\n",
       "      <td>11780.556671</td>\n",
       "    </tr>\n",
       "    <tr>\n",
       "      <th>3241</th>\n",
       "      <td>3.963326e+16</td>\n",
       "      <td>0.577149</td>\n",
       "      <td>1.940012</td>\n",
       "      <td>2.326531</td>\n",
       "      <td>0.000278</td>\n",
       "      <td>0.007338</td>\n",
       "      <td>0.035426</td>\n",
       "      <td>0.002633</td>\n",
       "      <td>1.000000</td>\n",
       "      <td>17396.165873</td>\n",
       "    </tr>\n",
       "    <tr>\n",
       "      <th>3242</th>\n",
       "      <td>3.962765e+16</td>\n",
       "      <td>0.442048</td>\n",
       "      <td>2.388487</td>\n",
       "      <td>2.568299</td>\n",
       "      <td>0.000136</td>\n",
       "      <td>0.008062</td>\n",
       "      <td>0.025184</td>\n",
       "      <td>0.000680</td>\n",
       "      <td>1.000000</td>\n",
       "      <td>16261.129886</td>\n",
       "    </tr>\n",
       "  </tbody>\n",
       "</table>\n",
       "<p>3243 rows × 10 columns</p>\n",
       "</div>"
      ],
      "text/plain": [
       "             objid         r         s         i        dr     dr_ph  \\\n",
       "0     3.962842e+16  0.043543  2.154577  2.945744  0.000095  0.016673   \n",
       "1     3.963333e+16 -0.574830  2.093689  3.201045  0.000076  0.130353   \n",
       "2     3.962842e+16  0.761415  2.422567  2.548015  0.000045  0.014858   \n",
       "3     3.962777e+16  0.323109  2.177125  2.413567  0.000182  0.013752   \n",
       "4     3.963308e+16  0.305545  2.298011  2.740888  0.000105  0.032106   \n",
       "...            ...       ...       ...       ...       ...       ...   \n",
       "3238  3.963324e+16  0.327094  1.835153  2.153517  0.000432  0.011308   \n",
       "3239  3.962766e+16  0.544359  2.113498  2.262257  0.000092  0.010431   \n",
       "3240  3.962760e+16  0.297660  2.025392  2.543424  0.000135  0.011149   \n",
       "3241  3.963326e+16  0.577149  1.940012  2.326531  0.000278  0.007338   \n",
       "3242  3.962765e+16  0.442048  2.388487  2.568299  0.000136  0.008062   \n",
       "\n",
       "            ds        di     Sprob            cz  \n",
       "0     0.004325  0.000860  1.000000   7380.851869  \n",
       "1     0.003851  0.000493  0.075899    689.740560  \n",
       "2     0.002484  0.000333  1.000000   8337.821434  \n",
       "3     0.004492  0.001123  1.000000   8962.503400  \n",
       "4     0.001769  0.000527  1.000000   3750.764392  \n",
       "...        ...       ...       ...           ...  \n",
       "3238  0.035447  0.002659  0.927319  11160.939836  \n",
       "3239  0.024009  0.000573  1.000000  12604.672182  \n",
       "3240  0.030752  0.000610  1.000000  11780.556671  \n",
       "3241  0.035426  0.002633  1.000000  17396.165873  \n",
       "3242  0.025184  0.000680  1.000000  16261.129886  \n",
       "\n",
       "[3243 rows x 10 columns]"
      ]
     },
     "execution_count": 40,
     "metadata": {},
     "output_type": "execute_result"
    }
   ],
   "source": [
    "fitting_data = pd.read_csv(\"fp_fitting_data_fuji.csv\", delimiter=' ')\n",
    "fitting_data"
   ]
  },
  {
   "cell_type": "code",
   "execution_count": 42,
   "id": "0eb052ce",
   "metadata": {},
   "outputs": [
    {
     "name": "stdout",
     "output_type": "stream",
     "text": [
      "0      0.025570\n",
      "1      0.028752\n",
      "2      0.024625\n",
      "3      0.021396\n",
      "4      0.019579\n",
      "         ...   \n",
      "227    0.020769\n",
      "228    0.029011\n",
      "229    0.021750\n",
      "230    0.019956\n",
      "231    0.026371\n",
      "Name: zcmb, Length: 232, dtype: float64\n",
      "0.034\n",
      "0.016\n"
     ]
    }
   ],
   "source": [
    "print (coma_merged.zcmb)\n",
    "print (np.round(np.max(coma_merged.zcmb),3))\n",
    "print (np.round(np.min(coma_merged.zcmb),3))"
   ]
  },
  {
   "cell_type": "code",
   "execution_count": 47,
   "id": "decent-detector",
   "metadata": {},
   "outputs": [
    {
     "data": {
      "text/latex": [
       "$39.905399 \\; \\mathrm{Mpc}$"
      ],
      "text/plain": [
       "<Quantity 39.90539909 Mpc>"
      ]
     },
     "execution_count": 47,
     "metadata": {},
     "output_type": "execute_result"
    }
   ],
   "source": [
    "cosmo_2 = FlatLambdaCDM(H0=100. * u.km / u.s / u.Mpc, Om0=0.31)\n",
    "x001 = cosmo_2.comoving_distance(4003./c)\n",
    "x001"
   ]
  },
  {
   "cell_type": "code",
   "execution_count": 48,
   "id": "functioning-snake",
   "metadata": {},
   "outputs": [
    {
     "data": {
      "text/plain": [
       "0.016971741163681976"
      ]
     },
     "execution_count": 48,
     "metadata": {},
     "output_type": "execute_result"
    }
   ],
   "source": [
    "c = 299792.458\n",
    "5088./c"
   ]
  },
  {
   "cell_type": "code",
   "execution_count": 49,
   "id": "endangered-terrace",
   "metadata": {},
   "outputs": [
    {
     "data": {
      "text/plain": [
       "50.85537879558948"
      ]
     },
     "execution_count": 49,
     "metadata": {},
     "output_type": "execute_result"
    }
   ],
   "source": [
    "c*(1./(2.358*2500.))"
   ]
  },
  {
   "cell_type": "code",
   "execution_count": 50,
   "id": "demographic-promise",
   "metadata": {},
   "outputs": [
    {
     "data": {
      "text/plain": [
       "2.358"
      ]
     },
     "execution_count": 50,
     "metadata": {},
     "output_type": "execute_result"
    }
   ],
   "source": [
    "153.27/65."
   ]
  },
  {
   "cell_type": "code",
   "execution_count": 51,
   "id": "floating-notice",
   "metadata": {},
   "outputs": [
    {
     "data": {
      "text/plain": [
       "2.302585092994046"
      ]
     },
     "execution_count": 51,
     "metadata": {},
     "output_type": "execute_result"
    }
   ],
   "source": [
    "np.log(10)"
   ]
  },
  {
   "cell_type": "code",
   "execution_count": 52,
   "id": "printable-significance",
   "metadata": {},
   "outputs": [
    {
     "data": {
      "text/plain": [
       "16.909613333333333"
      ]
     },
     "execution_count": 52,
     "metadata": {},
     "output_type": "execute_result"
    }
   ],
   "source": [
    "25364.42/1500."
   ]
  },
  {
   "cell_type": "code",
   "execution_count": 53,
   "id": "fitted-blair",
   "metadata": {},
   "outputs": [
    {
     "data": {
      "text/plain": [
       "2.145966026289347"
      ]
     },
     "execution_count": 53,
     "metadata": {},
     "output_type": "execute_result"
    }
   ],
   "source": [
    "np.sqrt(2.*np.log(10))"
   ]
  },
  {
   "cell_type": "code",
   "execution_count": 54,
   "id": "ec6d7716-947d-41fd-a8ef-1cf140f6f087",
   "metadata": {},
   "outputs": [],
   "source": [
    "cosmo_3 = FlatLambdaCDM(H0=67.4 * u.km / u.s / u.Mpc, Om0=0.315)\n",
    "dz_c = cosmo_3.comoving_distance(coma_merged.zcmb).value\n",
    "dz_l = cosmo_3.luminosity_distance(coma_merged.zcmb).value"
   ]
  },
  {
   "cell_type": "code",
   "execution_count": 55,
   "id": "2e043b64-f27c-49ee-a0f1-b012d69bdd1d",
   "metadata": {},
   "outputs": [
    {
     "name": "stdout",
     "output_type": "stream",
     "text": [
      "105.92 108.5\n"
     ]
    }
   ],
   "source": [
    "print (round(np.mean(dz_c),2),round(np.mean(dz_l),2))"
   ]
  },
  {
   "cell_type": "code",
   "execution_count": 56,
   "id": "5b498f01-9b03-4bee-ae89-96e4de927c62",
   "metadata": {},
   "outputs": [
    {
     "data": {
      "image/png": "[encoded data removed]",
      "text/plain": [
       "<Figure size 640x480 with 1 Axes>"
      ]
     },
     "metadata": {},
     "output_type": "display_data"
    }
   ],
   "source": [
    "plt.hist(dz_c)\n",
    "plt.show()"
   ]
  },
  {
   "cell_type": "code",
   "execution_count": 57,
   "id": "93297f94-5eac-4e24-b63a-11e112ce247f",
   "metadata": {},
   "outputs": [
    {
     "name": "stdout",
     "output_type": "stream",
     "text": [
      "-807.3692727036054\n"
     ]
    }
   ],
   "source": [
    "# What is the pecuilar velocity for a biased Coma due to richness for example of eta = -0.05 (Figure 13 Howlett et al. 2022)\n",
    "z_coma_b = np.mean(coma_merged.zcmb)\n",
    "biased_eta = -0.05\n",
    "vp_bias = ((c*z_coma_b)/(1+z_coma_b))*np.log(10)*biased_eta\n",
    "print(vp_bias)"
   ]
  },
  {
   "cell_type": "code",
   "execution_count": 58,
   "id": "d2f8685a-8264-47c3-a6b4-bbdfc3345cbc",
   "metadata": {},
   "outputs": [
    {
     "name": "stdout",
     "output_type": "stream",
     "text": [
      "-0.002693094009401682\n"
     ]
    }
   ],
   "source": [
    "print (vp_bias/c)"
   ]
  },
  {
   "cell_type": "code",
   "execution_count": 59,
   "id": "954161a9-5f5b-46f7-92e5-0a91ef39dc83",
   "metadata": {},
   "outputs": [],
   "source": [
    "coma_true = ((1. + np.mean(coma_merged.zcmb))/(1. + (vp_bias/c))) - 1."
   ]
  },
  {
   "cell_type": "code",
   "execution_count": 60,
   "id": "964305f1-7455-44a3-9a33-5dbe84348971",
   "metadata": {},
   "outputs": [
    {
     "data": {
      "text/plain": [
       "105.93285211518553"
      ]
     },
     "execution_count": 60,
     "metadata": {},
     "output_type": "execute_result"
    }
   ],
   "source": [
    "dz_c_1 = cosmo_3.comoving_distance(np.mean(coma_merged.zcmb)).value\n",
    "dz_c_1"
   ]
  },
  {
   "cell_type": "code",
   "execution_count": 61,
   "id": "754ccfa4-75b7-4bee-915f-a92f1c25c02c",
   "metadata": {},
   "outputs": [
    {
     "data": {
      "text/plain": [
       "118.08340204239248"
      ]
     },
     "execution_count": 61,
     "metadata": {},
     "output_type": "execute_result"
    }
   ],
   "source": [
    "dz_c_2 = cosmo_3.comoving_distance(coma_true).value\n",
    "dz_c_2"
   ]
  },
  {
   "cell_type": "code",
   "execution_count": 62,
   "id": "58f75d8c-8c84-4686-912b-94c4a3561145",
   "metadata": {},
   "outputs": [
    {
     "name": "stdout",
     "output_type": "stream",
     "text": [
      "0.023952205358712626\n"
     ]
    }
   ],
   "source": [
    "print (np.mean(coma_merged.zcmb))"
   ]
  },
  {
   "cell_type": "code",
   "execution_count": 63,
   "id": "8fb435f8-d2b2-4f07-99cd-75bef0b1a16f",
   "metadata": {},
   "outputs": [
    {
     "name": "stdout",
     "output_type": "stream",
     "text": [
      "123.58093471810088\n"
     ]
    }
   ],
   "source": [
    "print(84.05*99.1/67.4)"
   ]
  },
  {
   "cell_type": "code",
   "execution_count": 64,
   "id": "21a74872-4bd7-42a7-bed4-9061cd1eb5ec",
   "metadata": {},
   "outputs": [
    {
     "name": "stdout",
     "output_type": "stream",
     "text": [
      "75.85775750291836\n"
     ]
    }
   ],
   "source": [
    "print(10**1.88)"
   ]
  },
  {
   "cell_type": "code",
   "execution_count": 65,
   "id": "7a3c3dd3-bb3b-4dcb-8e67-a1a8ae5299a2",
   "metadata": {},
   "outputs": [
    {
     "name": "stdout",
     "output_type": "stream",
     "text": [
      "80.32230070635723\n"
     ]
    }
   ],
   "source": [
    "print((118.1/99.1)*67.4)"
   ]
  },
  {
   "cell_type": "code",
   "execution_count": 67,
   "id": "da28e08e-9c9f-42aa-922f-e5452f008ca4",
   "metadata": {},
   "outputs": [
    {
     "name": "stdout",
     "output_type": "stream",
     "text": [
      "Loading model 0 (2M++_SDSS)\n"
     ]
    },
    {
     "name": "stderr",
     "output_type": "stream",
     "text": [
      "/Users/uqksaida/Desktop/UQ_work/DESI_Work/DESI_Work/fuji/pvhub.py:44: FutureWarning: The 'delim_whitespace' keyword in pd.read_csv is deprecated and will be removed in a future version. Use ``sep='\\s+'`` instead\n",
      "  map_outside = pd.read_csv(f\"data/{model_ext}\", delim_whitespace=True)\n"
     ]
    },
    {
     "name": "stdout",
     "output_type": "stream",
     "text": [
      "Using model 0.\n",
      "Loading model 2 (2MRS)\n"
     ]
    },
    {
     "name": "stderr",
     "output_type": "stream",
     "text": [
      "/Users/uqksaida/Desktop/UQ_work/DESI_Work/DESI_Work/fuji/pvhub.py:44: FutureWarning: The 'delim_whitespace' keyword in pd.read_csv is deprecated and will be removed in a future version. Use ``sep='\\s+'`` instead\n",
      "  map_outside = pd.read_csv(f\"data/{model_ext}\", delim_whitespace=True)\n"
     ]
    },
    {
     "name": "stdout",
     "output_type": "stream",
     "text": [
      "Using model 2.\n",
      "Loading model 3 (2M++)\n",
      "Using model 3.\n"
     ]
    },
    {
     "name": "stderr",
     "output_type": "stream",
     "text": [
      "/Users/uqksaida/Desktop/UQ_work/DESI_Work/DESI_Work/fuji/pvhub.py:44: FutureWarning: The 'delim_whitespace' keyword in pd.read_csv is deprecated and will be removed in a future version. Use ``sep='\\s+'`` instead\n",
      "  map_outside = pd.read_csv(f\"data/{model_ext}\", delim_whitespace=True)\n"
     ]
    }
   ],
   "source": [
    "#2M++ (SDSS; Said et al. 2020)\n",
    "pvhub.choose_model(0)\n",
    "pv = pvhub.calculate_pv(np.array(coma_merged['ra_1']), np.array(coma_merged['dec_1']), coma_merged['zcmb'])\n",
    "\n",
    "#2MRS (Lillow et al. 2021)\n",
    "pvhub.choose_model(2)\n",
    "pv_2 = pvhub.calculate_pv(np.array(coma_merged['ra_1']), np.array(coma_merged['dec_1']), coma_merged['zcmb'])\n",
    "\n",
    "#2M++ (Carrick et al. 2015)\n",
    "pvhub.choose_model(3)\n",
    "pv_3 = pvhub.calculate_pv(np.array(coma_merged['ra_1']), np.array(coma_merged['dec_1']), coma_merged['zcmb'])"
   ]
  },
  {
   "cell_type": "code",
   "execution_count": 70,
   "id": "3b52bd24",
   "metadata": {},
   "outputs": [
    {
     "data": {
      "image/png": "[encoded data removed]",
      "text/plain": [
       "<Figure size 640x480 with 1 Axes>"
      ]
     },
     "metadata": {},
     "output_type": "display_data"
    }
   ],
   "source": [
    "plt.hist(pv)\n",
    "plt.hist(pv_2)\n",
    "plt.hist(pv_3)\n",
    "plt.show()"
   ]
  },
  {
   "cell_type": "code",
   "execution_count": 71,
   "id": "17984d8c",
   "metadata": {},
   "outputs": [
    {
     "name": "stdout",
     "output_type": "stream",
     "text": [
      "-0.9870689655172413 26.33670316748648\n",
      "-50.91379310344828 26.42934890840427\n",
      "-47.206896551724135 30.425934315751554\n"
     ]
    }
   ],
   "source": [
    "print (np.mean(pv),np.std(pv)/np.sqrt(len(pv)))\n",
    "print (np.mean(pv_2),np.std(pv_2)/np.sqrt(len(pv_2)))\n",
    "print (np.mean(pv_3),np.std(pv_3)/np.sqrt(len(pv_3)))"
   ]
  },
  {
   "cell_type": "code",
   "execution_count": 73,
   "id": "652815f2",
   "metadata": {},
   "outputs": [
    {
     "name": "stdout",
     "output_type": "stream",
     "text": [
      "Loading model 0 (2M++_SDSS)\n"
     ]
    },
    {
     "name": "stderr",
     "output_type": "stream",
     "text": [
      "/Users/uqksaida/Desktop/UQ_work/DESI_Work/DESI_Work/fuji/pvhub.py:44: FutureWarning: The 'delim_whitespace' keyword in pd.read_csv is deprecated and will be removed in a future version. Use ``sep='\\s+'`` instead\n",
      "  map_outside = pd.read_csv(f\"data/{model_ext}\", delim_whitespace=True)\n"
     ]
    },
    {
     "name": "stdout",
     "output_type": "stream",
     "text": [
      "Using model 0.\n",
      "Loading model 2 (2MRS)\n"
     ]
    },
    {
     "name": "stderr",
     "output_type": "stream",
     "text": [
      "/Users/uqksaida/Desktop/UQ_work/DESI_Work/DESI_Work/fuji/pvhub.py:44: FutureWarning: The 'delim_whitespace' keyword in pd.read_csv is deprecated and will be removed in a future version. Use ``sep='\\s+'`` instead\n",
      "  map_outside = pd.read_csv(f\"data/{model_ext}\", delim_whitespace=True)\n"
     ]
    },
    {
     "name": "stdout",
     "output_type": "stream",
     "text": [
      "Using model 2.\n",
      "Loading model 3 (2M++)\n",
      "Using model 3.\n"
     ]
    },
    {
     "name": "stderr",
     "output_type": "stream",
     "text": [
      "/Users/uqksaida/Desktop/UQ_work/DESI_Work/DESI_Work/fuji/pvhub.py:44: FutureWarning: The 'delim_whitespace' keyword in pd.read_csv is deprecated and will be removed in a future version. Use ``sep='\\s+'`` instead\n",
      "  map_outside = pd.read_csv(f\"data/{model_ext}\", delim_whitespace=True)\n"
     ]
    }
   ],
   "source": [
    "# Here I will quarry pv from pvhub but this time using all the galaxies in the Coma cluster \"coma_desi\"\n",
    "#2M++ (SDSS; Said et al. 2020)\n",
    "pvhub.choose_model(0)\n",
    "pv_all = pvhub.calculate_pv(np.array(coma_desi['ra']), np.array(coma_desi['dec']), coma_desi['z'])\n",
    "\n",
    "#2MRS (Lillow et al. 2021)\n",
    "pvhub.choose_model(2)\n",
    "pv_2_all = pvhub.calculate_pv(np.array(coma_desi['ra']), np.array(coma_desi['dec']), coma_desi['z'])\n",
    "\n",
    "#2M++ (Carrick et al. 2015)\n",
    "pvhub.choose_model(3)\n",
    "pv_3_all = pvhub.calculate_pv(np.array(coma_desi['ra']), np.array(coma_desi['dec']), coma_desi['z'])"
   ]
  },
  {
   "cell_type": "code",
   "execution_count": 74,
   "id": "aa1cc815",
   "metadata": {},
   "outputs": [
    {
     "data": {
      "image/png": "[encoded data removed]",
      "text/plain": [
       "<Figure size 640x480 with 1 Axes>"
      ]
     },
     "metadata": {},
     "output_type": "display_data"
    }
   ],
   "source": [
    "plt.hist(pv_all)\n",
    "plt.hist(pv_2_all)\n",
    "plt.hist(pv_3_all)\n",
    "plt.show()"
   ]
  },
  {
   "cell_type": "code",
   "execution_count": 77,
   "id": "61762df1",
   "metadata": {},
   "outputs": [
    {
     "name": "stdout",
     "output_type": "stream",
     "text": [
      "64.9817216981132 9.660478383262488\n",
      "11.50117924528302 9.697336679818992\n",
      "36.701650943396224 10.722320873261104\n"
     ]
    }
   ],
   "source": [
    "#print mean peculiar velocity and its error\n",
    "print (np.mean(pv_all),np.std(pv_all)/np.sqrt(len(pv_all)))\n",
    "print (np.mean(pv_2_all),np.std(pv_2_all)/np.sqrt(len(pv_2_all)))\n",
    "print (np.mean(pv_3_all),np.std(pv_3_all)/np.sqrt(len(pv_3_all)))"
   ]
  },
  {
   "cell_type": "code",
   "execution_count": null,
   "id": "3bd37d10",
   "metadata": {},
   "outputs": [],
   "source": []
  }
 ],
 "metadata": {
  "kernelspec": {
   "display_name": "base",
   "language": "python",
   "name": "python3"
  },
  "language_info": {
   "codemirror_mode": {
    "name": "ipython",
    "version": 3
   },
   "file_extension": ".py",
   "mimetype": "text/x-python",
   "name": "python",
   "nbconvert_exporter": "python",
   "pygments_lexer": "ipython3",
   "version": "3.12.4"
  }
 },
 "nbformat": 4,
 "nbformat_minor": 5
}
